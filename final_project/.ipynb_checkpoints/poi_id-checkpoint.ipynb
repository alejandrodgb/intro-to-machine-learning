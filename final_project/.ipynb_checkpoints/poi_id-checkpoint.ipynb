{
 "cells": [
  {
   "cell_type": "markdown",
   "metadata": {
    "heading_collapsed": true
   },
   "source": [
    "# Libraries & Functions"
   ]
  },
  {
   "cell_type": "code",
   "execution_count": 1,
   "metadata": {
    "hidden": true
   },
   "outputs": [],
   "source": [
    "import sys\n",
    "import pickle\n",
    "import pandas as pd\n",
    "import pprint\n",
    "from scipy import stats \n",
    "\n",
    "sys.path.append(\"../tools/\")\n",
    "\n",
    "from feature_format import featureFormat, targetFeatureSplit\n",
    "from tester import dump_classifier_and_data\n",
    "\n",
    "import matplotlib.pyplot as plt\n",
    "%matplotlib inline\n",
    "%reload_ext autoreload\n",
    "%autoreload 2"
   ]
  },
  {
   "cell_type": "code",
   "execution_count": 2,
   "metadata": {
    "hidden": true
   },
   "outputs": [],
   "source": [
    "def plot_confusion_matrix(cm,\n",
    "                          target_names,\n",
    "                          title='Confusion matrix',\n",
    "                          cmap=None,\n",
    "                          normalize=True):\n",
    "    \"\"\"\n",
    "    given a sklearn confusion matrix (cm), make a nice plot\n",
    "\n",
    "    Arguments\n",
    "    ---------\n",
    "    cm:           confusion matrix from sklearn.metrics.confusion_matrix\n",
    "\n",
    "    target_names: given classification classes such as [0, 1, 2]\n",
    "                  the class names, for example: ['high', 'medium', 'low']\n",
    "\n",
    "    title:        the text to display at the top of the matrix\n",
    "\n",
    "    cmap:         the gradient of the values displayed from matplotlib.pyplot.cm\n",
    "                  see http://matplotlib.org/examples/color/colormaps_reference.html\n",
    "                  plt.get_cmap('jet') or plt.cm.Blues\n",
    "\n",
    "    normalize:    If False, plot the raw numbers\n",
    "                  If True, plot the proportions\n",
    "\n",
    "    Usage\n",
    "    -----\n",
    "    plot_confusion_matrix(cm           = cm,                  # confusion matrix created by\n",
    "                                                              # sklearn.metrics.confusion_matrix\n",
    "                          normalize    = True,                # show proportions\n",
    "                          target_names = y_labels_vals,       # list of names of the classes\n",
    "                          title        = best_estimator_name) # title of graph\n",
    "\n",
    "    Citiation\n",
    "    ---------\n",
    "    http://scikit-learn.org/stable/auto_examples/model_selection/plot_confusion_matrix.html\n",
    "\n",
    "    \"\"\"\n",
    "    import matplotlib.pyplot as plt\n",
    "    import numpy as np\n",
    "    import itertools\n",
    "\n",
    "    accuracy = np.trace(cm) / float(np.sum(cm))\n",
    "    misclass = 1 - accuracy\n",
    "\n",
    "    if cmap is None:\n",
    "        cmap = plt.get_cmap('Blues')\n",
    "\n",
    "    plt.figure(figsize=(8, 6))\n",
    "    plt.imshow(cm, interpolation='nearest', cmap=cmap)\n",
    "    plt.title(title)\n",
    "    plt.colorbar()\n",
    "\n",
    "    if target_names is not None:\n",
    "        tick_marks = np.arange(len(target_names))\n",
    "        plt.xticks(tick_marks, target_names, rotation=45)\n",
    "        plt.yticks(tick_marks, target_names)\n",
    "\n",
    "    if normalize:\n",
    "        cm = cm.astype('float') / cm.sum(axis=1)[:, np.newaxis]\n",
    "\n",
    "\n",
    "    thresh = cm.max() / 1.5 if normalize else cm.max() / 2\n",
    "    for i, j in itertools.product(range(cm.shape[0]), range(cm.shape[1])):\n",
    "        if normalize:\n",
    "            plt.text(j, i, \"{:0.4f}\".format(cm[i, j]),\n",
    "                     horizontalalignment=\"center\",\n",
    "                     color=\"white\" if cm[i, j] > thresh else \"black\")\n",
    "        else:\n",
    "            plt.text(j, i, \"{:,}\".format(cm[i, j]),\n",
    "                     horizontalalignment=\"center\",\n",
    "                     color=\"white\" if cm[i, j] > thresh else \"black\")\n",
    "\n",
    "\n",
    "    plt.tight_layout()\n",
    "    plt.ylabel('True label')\n",
    "    plt.xlabel('Predicted label\\naccuracy={:0.4f}; misclass={:0.4f}'.format(accuracy, misclass))\n",
    "    plt.show()"
   ]
  },
  {
   "cell_type": "markdown",
   "metadata": {},
   "source": [
    "# Introduction"
   ]
  },
  {
   "cell_type": "markdown",
   "metadata": {},
   "source": [
    "\n",
    "Source: __[Wikipedia](https://en.wikipedia.org/wiki/Enron)__\n",
    "\n",
    "Enron Corporation was an American energy, commodities, and services company based in Houston, Texas. It was founded in 1985 as a merger between Houston Natural Gas and InterNorth, both relatively small regional companies. Before its bankruptcy on December 2, 2001, Enron employed approximately 20,000 staff and was a major electricity, natural gas, communications and pulp and paper company, with claimed revenues of nearly $101 billion during 2000. Fortune named Enron \"America's Most Innovative Company\" for six consecutive years.\n",
    "\n",
    " At the end of 2001, it was revealed that Enron's reported financial condition was sustained by institutionalized, systematic, and creatively planned accounting fraud, known since as the Enron scandal. Enron has since become a well-known example of willful corporate fraud and corruption. The scandal also brought into question the accounting practices and activities of many corporations in the United States and was a factor in the enactment of the Sarbanes–Oxley Act of 2002. The scandal also affected the greater business world by causing the dissolution of the Arthur Andersen accounting firm, which had been Enron's main auditor for years. \n",
    "\n",
    " Enron filed for bankruptcy in the Southern District of New York in late 2001 and selected Weil, Gotshal & Manges as its bankruptcy counsel. It ended its bankruptcy during November 2004, pursuant to a court-approved plan of reorganization. A new board of directors changed the name of Enron to Enron Creditors Recovery Corp., and emphasized reorganizing and liquidating certain operations and assets of the pre-bankruptcy Enron. On September 7, 2006, Enron sold Prisma Energy International Inc., its last remaining business, to Ashmore Energy International Ltd. (now AEI). \n",
    " \n",
    "<img src=\"878px-Logo_de_Enron.svg.png\" alt=\"Enron Logo\" title=\"Enron Logo\" style=\"width: 300px;\" />"
   ]
  },
  {
   "cell_type": "markdown",
   "metadata": {},
   "source": [
    "# Project Case and Data Introduction"
   ]
  },
  {
   "cell_type": "markdown",
   "metadata": {},
   "source": [
    "<div class=\"alert alert-block alert-info\">\n",
    "<h2>Project Case and Data Introduction</h2>\n",
    "<br>\n",
    "Summarize for us the goal of this project and how machine learning is useful in trying to accomplish it. As part of your answer, give some background on the dataset and how it can be used to answer the project question. Were there any outliers in the data when you got it, and how did you handle those? Relevant rubric items: “data exploration”, “outlier investigation”\n",
    "</div>"
   ]
  },
  {
   "cell_type": "markdown",
   "metadata": {},
   "source": [
    "##### Loading data"
   ]
  },
  {
   "cell_type": "code",
   "execution_count": 88,
   "metadata": {},
   "outputs": [],
   "source": [
    "### Load the dictionary containing the dataset\n",
    "with open(\"final_project_dataset.pkl\", \"rb\") as data_file:\n",
    "    data_dict = pickle.load(data_file)"
   ]
  },
  {
   "cell_type": "code",
   "execution_count": 89,
   "metadata": {},
   "outputs": [],
   "source": [
    "df = pd.DataFrame.from_dict(data_dict, orient='index')\n",
    "df.reset_index(inplace=True)\n",
    "df.rename(columns={'index':'full_name'}, inplace=True)"
   ]
  },
  {
   "cell_type": "code",
   "execution_count": 90,
   "metadata": {},
   "outputs": [
    {
     "data": {
      "text/html": [
       "<div>\n",
       "<style scoped>\n",
       "    .dataframe tbody tr th:only-of-type {\n",
       "        vertical-align: middle;\n",
       "    }\n",
       "\n",
       "    .dataframe tbody tr th {\n",
       "        vertical-align: top;\n",
       "    }\n",
       "\n",
       "    .dataframe thead th {\n",
       "        text-align: right;\n",
       "    }\n",
       "</style>\n",
       "<table border=\"1\" class=\"dataframe\">\n",
       "  <thead>\n",
       "    <tr style=\"text-align: right;\">\n",
       "      <th></th>\n",
       "      <th>full_name</th>\n",
       "      <th>salary</th>\n",
       "      <th>to_messages</th>\n",
       "      <th>deferral_payments</th>\n",
       "      <th>total_payments</th>\n",
       "      <th>loan_advances</th>\n",
       "      <th>bonus</th>\n",
       "      <th>email_address</th>\n",
       "      <th>restricted_stock_deferred</th>\n",
       "      <th>deferred_income</th>\n",
       "      <th>...</th>\n",
       "      <th>from_poi_to_this_person</th>\n",
       "      <th>exercised_stock_options</th>\n",
       "      <th>from_messages</th>\n",
       "      <th>other</th>\n",
       "      <th>from_this_person_to_poi</th>\n",
       "      <th>poi</th>\n",
       "      <th>long_term_incentive</th>\n",
       "      <th>shared_receipt_with_poi</th>\n",
       "      <th>restricted_stock</th>\n",
       "      <th>director_fees</th>\n",
       "    </tr>\n",
       "  </thead>\n",
       "  <tbody>\n",
       "    <tr>\n",
       "      <th>0</th>\n",
       "      <td>ALLEN PHILLIP K</td>\n",
       "      <td>201955</td>\n",
       "      <td>2902</td>\n",
       "      <td>2869717</td>\n",
       "      <td>4484442</td>\n",
       "      <td>NaN</td>\n",
       "      <td>4175000</td>\n",
       "      <td>phillip.allen@enron.com</td>\n",
       "      <td>-126027</td>\n",
       "      <td>-3081055</td>\n",
       "      <td>...</td>\n",
       "      <td>47</td>\n",
       "      <td>1729541</td>\n",
       "      <td>2195</td>\n",
       "      <td>152</td>\n",
       "      <td>65</td>\n",
       "      <td>False</td>\n",
       "      <td>304805</td>\n",
       "      <td>1407</td>\n",
       "      <td>126027</td>\n",
       "      <td>NaN</td>\n",
       "    </tr>\n",
       "  </tbody>\n",
       "</table>\n",
       "<p>1 rows × 22 columns</p>\n",
       "</div>"
      ],
      "text/plain": [
       "         full_name  salary to_messages deferral_payments total_payments  \\\n",
       "0  ALLEN PHILLIP K  201955        2902           2869717        4484442   \n",
       "\n",
       "  loan_advances    bonus            email_address restricted_stock_deferred  \\\n",
       "0           NaN  4175000  phillip.allen@enron.com                   -126027   \n",
       "\n",
       "  deferred_income      ...      from_poi_to_this_person  \\\n",
       "0        -3081055      ...                           47   \n",
       "\n",
       "  exercised_stock_options from_messages other from_this_person_to_poi    poi  \\\n",
       "0                 1729541          2195   152                      65  False   \n",
       "\n",
       "  long_term_incentive  shared_receipt_with_poi restricted_stock director_fees  \n",
       "0              304805                     1407           126027           NaN  \n",
       "\n",
       "[1 rows x 22 columns]"
      ]
     },
     "execution_count": 90,
     "metadata": {},
     "output_type": "execute_result"
    }
   ],
   "source": [
    "df.head(1)"
   ]
  },
  {
   "cell_type": "code",
   "execution_count": 91,
   "metadata": {},
   "outputs": [],
   "source": [
    "continuous_features = ['salary', 'deferral_payments', 'total_payments', \n",
    "                      'loan_advances', 'bonus', 'restricted_stock_deferred', \n",
    "                      'deferred_income', 'total_stock_value', 'expenses', \n",
    "                      'exercised_stock_options', 'other', 'long_term_incentive',\n",
    "                      'restricted_stock', 'director_fees', 'to_messages', \n",
    "                       'from_poi_to_this_person', 'from_messages', \n",
    "                       'from_this_person_to_poi', 'shared_receipt_with_poi']\n",
    "\n",
    "email_features= ['to_messages', 'from_poi_to_this_person', 'from_messages',\n",
    "                 'from_this_person_to_poi', 'shared_receipt_with_poi']\n",
    "\n",
    "for feat in continuous_features:\n",
    "    df[feat]=df[feat].astype(float)"
   ]
  },
  {
   "cell_type": "code",
   "execution_count": 92,
   "metadata": {},
   "outputs": [
    {
     "data": {
      "text/plain": [
       "5    86\n",
       "0    60\n",
       "dtype: int64"
      ]
     },
     "execution_count": 92,
     "metadata": {},
     "output_type": "execute_result"
    }
   ],
   "source": [
    "# check whether all rows with email information are complete\n",
    "df[email_features].apply(lambda x: x==x).sum(axis=1).value_counts()"
   ]
  },
  {
   "cell_type": "markdown",
   "metadata": {
    "variables": {
     "df.shape[0]": "146",
     "df.shape[1]-1": "21",
     "int(df.from_messages.sum())": "52356",
     "int(df.to_messages.sum())": "178352"
    }
   },
   "source": [
    "**Project Goal**<br>\n",
    "In this project, I will build a machine learning classifier that will identify persons of interest (POI) in a fraud case given a number of available features.\n",
    "\n",
    "**Dataset**<br>\n",
    "The dataset used for this project consists of {{df.shape[0]}} individual entries of possible persons of interest with {{df.shape[1]-1}} available features. In addition there are {{int(df.to_messages.sum())}} outgoing email messages and {{int(df.from_messages.sum())}} incoming email messages from 86 different mailboxes available that could also be used to generate a text classifier.\n",
    "\n",
    "This dataset can be used to find persons that should be investigated further given the combination of values in the available features.\n",
    "\n",
    "There were a large number of missing values in the dataset. Firstly I reviewed the data availability for each feature and filtered all columns that had less than 40% data availability (valid_features). Next, I reviewed the number of missing features for each row and removed all rows that had more than 17 missing features. Removing these rows also took care of a row that appears to be a business and not an individual: 'THE TRAVEL AGENCY IN THE PARK'.\n",
    "\n",
    "**Outliers**<br>\n",
    "After ploting boxplots for all valid_features, I found a row that was brought from the spreadsheet with the total sum for all columns and removed it.<br>\n",
    "Creating boxplots again shows a more 'normal' number of outliers to be investigated. Results below:\n",
    "\n",
    "- Salary: All high-valued outliers appear to be valid data points; however, low-valued datapoints appear to be incorrect. James Bannantine and Rodney Gray both held executive positions while Richard Westfahl served as managing director. The stated salaries appear to be too low for said positions. Nevertheless, I could not find any evidence that would point to a different salary and as such, the data found was used for the analysis. \n",
    "- BHATNAGAR SANJAY: This entry appeared in outliers on restricted and restricted deferred stock investigations. Restricted deferred stock appeared as a positive number, which would mean that the deferred stock was paid to the employee rather than being deferred for future payment. Upon further investigation I found that this entry had data entry errors which were corrected before proceeding with the analysis.\n",
    "\n",
    "All other outliers appeared to be valid entries and were used for the analysis.\n",
    "\n",
    "**Missing Data**<br>\n",
    "After removing features with a large amount of missing data, missing datapoints were filled with zeroes. \n"
   ]
  },
  {
   "cell_type": "markdown",
   "metadata": {},
   "source": [
    "##### Exploring valid data"
   ]
  },
  {
   "cell_type": "code",
   "execution_count": 93,
   "metadata": {
    "scrolled": true
   },
   "outputs": [
    {
     "data": {
      "text/html": [
       "<div>\n",
       "<style scoped>\n",
       "    .dataframe tbody tr th:only-of-type {\n",
       "        vertical-align: middle;\n",
       "    }\n",
       "\n",
       "    .dataframe tbody tr th {\n",
       "        vertical-align: top;\n",
       "    }\n",
       "\n",
       "    .dataframe thead th {\n",
       "        text-align: right;\n",
       "    }\n",
       "</style>\n",
       "<table border=\"1\" class=\"dataframe\">\n",
       "  <thead>\n",
       "    <tr style=\"text-align: right;\">\n",
       "      <th></th>\n",
       "      <th>feature</th>\n",
       "      <th>total</th>\n",
       "      <th>available</th>\n",
       "      <th>poi</th>\n",
       "      <th>prop_available</th>\n",
       "      <th>prop_poi_total</th>\n",
       "      <th>propr_poi_available</th>\n",
       "    </tr>\n",
       "  </thead>\n",
       "  <tbody>\n",
       "    <tr>\n",
       "      <th>0</th>\n",
       "      <td>salary</td>\n",
       "      <td>146</td>\n",
       "      <td>95</td>\n",
       "      <td>17</td>\n",
       "      <td>0.650685</td>\n",
       "      <td>0.116438</td>\n",
       "      <td>0.178947</td>\n",
       "    </tr>\n",
       "    <tr>\n",
       "      <th>1</th>\n",
       "      <td>deferral_payments</td>\n",
       "      <td>146</td>\n",
       "      <td>39</td>\n",
       "      <td>5</td>\n",
       "      <td>0.267123</td>\n",
       "      <td>0.034247</td>\n",
       "      <td>0.128205</td>\n",
       "    </tr>\n",
       "    <tr>\n",
       "      <th>2</th>\n",
       "      <td>total_payments</td>\n",
       "      <td>146</td>\n",
       "      <td>125</td>\n",
       "      <td>18</td>\n",
       "      <td>0.856164</td>\n",
       "      <td>0.123288</td>\n",
       "      <td>0.144000</td>\n",
       "    </tr>\n",
       "    <tr>\n",
       "      <th>3</th>\n",
       "      <td>loan_advances</td>\n",
       "      <td>146</td>\n",
       "      <td>4</td>\n",
       "      <td>1</td>\n",
       "      <td>0.027397</td>\n",
       "      <td>0.006849</td>\n",
       "      <td>0.250000</td>\n",
       "    </tr>\n",
       "    <tr>\n",
       "      <th>4</th>\n",
       "      <td>bonus</td>\n",
       "      <td>146</td>\n",
       "      <td>82</td>\n",
       "      <td>16</td>\n",
       "      <td>0.561644</td>\n",
       "      <td>0.109589</td>\n",
       "      <td>0.195122</td>\n",
       "    </tr>\n",
       "    <tr>\n",
       "      <th>5</th>\n",
       "      <td>restricted_stock_deferred</td>\n",
       "      <td>146</td>\n",
       "      <td>18</td>\n",
       "      <td>0</td>\n",
       "      <td>0.123288</td>\n",
       "      <td>0.000000</td>\n",
       "      <td>0.000000</td>\n",
       "    </tr>\n",
       "    <tr>\n",
       "      <th>6</th>\n",
       "      <td>deferred_income</td>\n",
       "      <td>146</td>\n",
       "      <td>49</td>\n",
       "      <td>11</td>\n",
       "      <td>0.335616</td>\n",
       "      <td>0.075342</td>\n",
       "      <td>0.224490</td>\n",
       "    </tr>\n",
       "    <tr>\n",
       "      <th>7</th>\n",
       "      <td>total_stock_value</td>\n",
       "      <td>146</td>\n",
       "      <td>126</td>\n",
       "      <td>18</td>\n",
       "      <td>0.863014</td>\n",
       "      <td>0.123288</td>\n",
       "      <td>0.142857</td>\n",
       "    </tr>\n",
       "    <tr>\n",
       "      <th>8</th>\n",
       "      <td>expenses</td>\n",
       "      <td>146</td>\n",
       "      <td>95</td>\n",
       "      <td>18</td>\n",
       "      <td>0.650685</td>\n",
       "      <td>0.123288</td>\n",
       "      <td>0.189474</td>\n",
       "    </tr>\n",
       "    <tr>\n",
       "      <th>9</th>\n",
       "      <td>exercised_stock_options</td>\n",
       "      <td>146</td>\n",
       "      <td>102</td>\n",
       "      <td>12</td>\n",
       "      <td>0.698630</td>\n",
       "      <td>0.082192</td>\n",
       "      <td>0.117647</td>\n",
       "    </tr>\n",
       "    <tr>\n",
       "      <th>10</th>\n",
       "      <td>other</td>\n",
       "      <td>146</td>\n",
       "      <td>93</td>\n",
       "      <td>18</td>\n",
       "      <td>0.636986</td>\n",
       "      <td>0.123288</td>\n",
       "      <td>0.193548</td>\n",
       "    </tr>\n",
       "    <tr>\n",
       "      <th>11</th>\n",
       "      <td>long_term_incentive</td>\n",
       "      <td>146</td>\n",
       "      <td>66</td>\n",
       "      <td>12</td>\n",
       "      <td>0.452055</td>\n",
       "      <td>0.082192</td>\n",
       "      <td>0.181818</td>\n",
       "    </tr>\n",
       "    <tr>\n",
       "      <th>12</th>\n",
       "      <td>restricted_stock</td>\n",
       "      <td>146</td>\n",
       "      <td>110</td>\n",
       "      <td>17</td>\n",
       "      <td>0.753425</td>\n",
       "      <td>0.116438</td>\n",
       "      <td>0.154545</td>\n",
       "    </tr>\n",
       "    <tr>\n",
       "      <th>13</th>\n",
       "      <td>director_fees</td>\n",
       "      <td>146</td>\n",
       "      <td>17</td>\n",
       "      <td>0</td>\n",
       "      <td>0.116438</td>\n",
       "      <td>0.000000</td>\n",
       "      <td>0.000000</td>\n",
       "    </tr>\n",
       "    <tr>\n",
       "      <th>14</th>\n",
       "      <td>to_messages</td>\n",
       "      <td>146</td>\n",
       "      <td>86</td>\n",
       "      <td>14</td>\n",
       "      <td>0.589041</td>\n",
       "      <td>0.095890</td>\n",
       "      <td>0.162791</td>\n",
       "    </tr>\n",
       "    <tr>\n",
       "      <th>15</th>\n",
       "      <td>from_poi_to_this_person</td>\n",
       "      <td>146</td>\n",
       "      <td>86</td>\n",
       "      <td>14</td>\n",
       "      <td>0.589041</td>\n",
       "      <td>0.095890</td>\n",
       "      <td>0.162791</td>\n",
       "    </tr>\n",
       "    <tr>\n",
       "      <th>16</th>\n",
       "      <td>from_messages</td>\n",
       "      <td>146</td>\n",
       "      <td>86</td>\n",
       "      <td>14</td>\n",
       "      <td>0.589041</td>\n",
       "      <td>0.095890</td>\n",
       "      <td>0.162791</td>\n",
       "    </tr>\n",
       "    <tr>\n",
       "      <th>17</th>\n",
       "      <td>from_this_person_to_poi</td>\n",
       "      <td>146</td>\n",
       "      <td>86</td>\n",
       "      <td>14</td>\n",
       "      <td>0.589041</td>\n",
       "      <td>0.095890</td>\n",
       "      <td>0.162791</td>\n",
       "    </tr>\n",
       "    <tr>\n",
       "      <th>18</th>\n",
       "      <td>shared_receipt_with_poi</td>\n",
       "      <td>146</td>\n",
       "      <td>86</td>\n",
       "      <td>14</td>\n",
       "      <td>0.589041</td>\n",
       "      <td>0.095890</td>\n",
       "      <td>0.162791</td>\n",
       "    </tr>\n",
       "  </tbody>\n",
       "</table>\n",
       "</div>"
      ],
      "text/plain": [
       "                      feature  total  available  poi  prop_available  \\\n",
       "0                      salary    146         95   17        0.650685   \n",
       "1           deferral_payments    146         39    5        0.267123   \n",
       "2              total_payments    146        125   18        0.856164   \n",
       "3               loan_advances    146          4    1        0.027397   \n",
       "4                       bonus    146         82   16        0.561644   \n",
       "5   restricted_stock_deferred    146         18    0        0.123288   \n",
       "6             deferred_income    146         49   11        0.335616   \n",
       "7           total_stock_value    146        126   18        0.863014   \n",
       "8                    expenses    146         95   18        0.650685   \n",
       "9     exercised_stock_options    146        102   12        0.698630   \n",
       "10                      other    146         93   18        0.636986   \n",
       "11        long_term_incentive    146         66   12        0.452055   \n",
       "12           restricted_stock    146        110   17        0.753425   \n",
       "13              director_fees    146         17    0        0.116438   \n",
       "14                to_messages    146         86   14        0.589041   \n",
       "15    from_poi_to_this_person    146         86   14        0.589041   \n",
       "16              from_messages    146         86   14        0.589041   \n",
       "17    from_this_person_to_poi    146         86   14        0.589041   \n",
       "18    shared_receipt_with_poi    146         86   14        0.589041   \n",
       "\n",
       "    prop_poi_total  propr_poi_available  \n",
       "0         0.116438             0.178947  \n",
       "1         0.034247             0.128205  \n",
       "2         0.123288             0.144000  \n",
       "3         0.006849             0.250000  \n",
       "4         0.109589             0.195122  \n",
       "5         0.000000             0.000000  \n",
       "6         0.075342             0.224490  \n",
       "7         0.123288             0.142857  \n",
       "8         0.123288             0.189474  \n",
       "9         0.082192             0.117647  \n",
       "10        0.123288             0.193548  \n",
       "11        0.082192             0.181818  \n",
       "12        0.116438             0.154545  \n",
       "13        0.000000             0.000000  \n",
       "14        0.095890             0.162791  \n",
       "15        0.095890             0.162791  \n",
       "16        0.095890             0.162791  \n",
       "17        0.095890             0.162791  \n",
       "18        0.095890             0.162791  "
      ]
     },
     "execution_count": 93,
     "metadata": {},
     "output_type": "execute_result"
    }
   ],
   "source": [
    "# proportion of available data\n",
    "available_data = pd.DataFrame(\n",
    "    [{'feature':f,\n",
    "      'available':df[f].count(),\n",
    "      'poi':df.query(f'{f}=={f} & poi==True')[f].shape[0],\n",
    "      'total':df.shape[0]} \n",
    "     for f in continuous_features])\n",
    "available_data=available_data[['feature','total','available','poi']]\n",
    "available_data['prop_available']=available_data.available/available_data.total\n",
    "available_data['prop_poi_total']=available_data.poi/available_data.total\n",
    "available_data['propr_poi_available']=available_data.poi/available_data.available\n",
    "available_data"
   ]
  },
  {
   "cell_type": "code",
   "execution_count": 94,
   "metadata": {
    "scrolled": true
   },
   "outputs": [
    {
     "data": {
      "text/plain": [
       "['salary',\n",
       " 'total_payments',\n",
       " 'bonus',\n",
       " 'total_stock_value',\n",
       " 'expenses',\n",
       " 'exercised_stock_options',\n",
       " 'other',\n",
       " 'long_term_incentive',\n",
       " 'restricted_stock',\n",
       " 'to_messages',\n",
       " 'from_poi_to_this_person',\n",
       " 'from_messages',\n",
       " 'from_this_person_to_poi',\n",
       " 'shared_receipt_with_poi']"
      ]
     },
     "execution_count": 94,
     "metadata": {},
     "output_type": "execute_result"
    }
   ],
   "source": [
    "valid_features = list(available_data[available_data.prop_available>=.4].feature)\n",
    "valid_features"
   ]
  },
  {
   "cell_type": "code",
   "execution_count": 95,
   "metadata": {},
   "outputs": [],
   "source": [
    "# create column with number of missing values per row\n",
    "df['missing_cols']=df.apply(lambda x: x!=x).sum(axis=1)"
   ]
  },
  {
   "cell_type": "code",
   "execution_count": 96,
   "metadata": {},
   "outputs": [
    {
     "data": {
      "image/png": "[encoded data removed]",
      "text/plain": [
       "<matplotlib.figure.Figure at 0x1a1b179470>"
      ]
     },
     "metadata": {},
     "output_type": "display_data"
    }
   ],
   "source": [
    "# plot distribution of missing values\n",
    "binwidth=1\n",
    "bins=np.arange(df.missing_cols.min(),df.missing_cols.max()+2*binwidth)\n",
    "df.missing_cols.hist(bins=bins, align='left')\n",
    "plt.xticks(bins);"
   ]
  },
  {
   "cell_type": "code",
   "execution_count": 97,
   "metadata": {
    "scrolled": true
   },
   "outputs": [
    {
     "data": {
      "text/html": [
       "<div>\n",
       "<style scoped>\n",
       "    .dataframe tbody tr th:only-of-type {\n",
       "        vertical-align: middle;\n",
       "    }\n",
       "\n",
       "    .dataframe tbody tr th {\n",
       "        vertical-align: top;\n",
       "    }\n",
       "\n",
       "    .dataframe thead th {\n",
       "        text-align: right;\n",
       "    }\n",
       "</style>\n",
       "<table border=\"1\" class=\"dataframe\">\n",
       "  <thead>\n",
       "    <tr style=\"text-align: right;\">\n",
       "      <th></th>\n",
       "      <th>rows_count</th>\n",
       "      <th>cum_sum</th>\n",
       "      <th>rel_cum_sum</th>\n",
       "    </tr>\n",
       "    <tr>\n",
       "      <th>missing_cols</th>\n",
       "      <th></th>\n",
       "      <th></th>\n",
       "      <th></th>\n",
       "    </tr>\n",
       "  </thead>\n",
       "  <tbody>\n",
       "    <tr>\n",
       "      <th>2</th>\n",
       "      <td>4</td>\n",
       "      <td>4</td>\n",
       "      <td>0.027397</td>\n",
       "    </tr>\n",
       "    <tr>\n",
       "      <th>3</th>\n",
       "      <td>2</td>\n",
       "      <td>6</td>\n",
       "      <td>0.041096</td>\n",
       "    </tr>\n",
       "    <tr>\n",
       "      <th>4</th>\n",
       "      <td>9</td>\n",
       "      <td>15</td>\n",
       "      <td>0.102740</td>\n",
       "    </tr>\n",
       "    <tr>\n",
       "      <th>5</th>\n",
       "      <td>35</td>\n",
       "      <td>50</td>\n",
       "      <td>0.342466</td>\n",
       "    </tr>\n",
       "    <tr>\n",
       "      <th>6</th>\n",
       "      <td>8</td>\n",
       "      <td>58</td>\n",
       "      <td>0.397260</td>\n",
       "    </tr>\n",
       "    <tr>\n",
       "      <th>7</th>\n",
       "      <td>8</td>\n",
       "      <td>66</td>\n",
       "      <td>0.452055</td>\n",
       "    </tr>\n",
       "    <tr>\n",
       "      <th>8</th>\n",
       "      <td>4</td>\n",
       "      <td>70</td>\n",
       "      <td>0.479452</td>\n",
       "    </tr>\n",
       "    <tr>\n",
       "      <th>9</th>\n",
       "      <td>8</td>\n",
       "      <td>78</td>\n",
       "      <td>0.534247</td>\n",
       "    </tr>\n",
       "    <tr>\n",
       "      <th>10</th>\n",
       "      <td>9</td>\n",
       "      <td>87</td>\n",
       "      <td>0.595890</td>\n",
       "    </tr>\n",
       "    <tr>\n",
       "      <th>11</th>\n",
       "      <td>15</td>\n",
       "      <td>102</td>\n",
       "      <td>0.698630</td>\n",
       "    </tr>\n",
       "    <tr>\n",
       "      <th>12</th>\n",
       "      <td>11</td>\n",
       "      <td>113</td>\n",
       "      <td>0.773973</td>\n",
       "    </tr>\n",
       "    <tr>\n",
       "      <th>13</th>\n",
       "      <td>3</td>\n",
       "      <td>116</td>\n",
       "      <td>0.794521</td>\n",
       "    </tr>\n",
       "    <tr>\n",
       "      <th>14</th>\n",
       "      <td>7</td>\n",
       "      <td>123</td>\n",
       "      <td>0.842466</td>\n",
       "    </tr>\n",
       "    <tr>\n",
       "      <th>15</th>\n",
       "      <td>11</td>\n",
       "      <td>134</td>\n",
       "      <td>0.917808</td>\n",
       "    </tr>\n",
       "    <tr>\n",
       "      <th>16</th>\n",
       "      <td>5</td>\n",
       "      <td>139</td>\n",
       "      <td>0.952055</td>\n",
       "    </tr>\n",
       "    <tr>\n",
       "      <th>17</th>\n",
       "      <td>6</td>\n",
       "      <td>145</td>\n",
       "      <td>0.993151</td>\n",
       "    </tr>\n",
       "    <tr>\n",
       "      <th>19</th>\n",
       "      <td>1</td>\n",
       "      <td>146</td>\n",
       "      <td>1.000000</td>\n",
       "    </tr>\n",
       "  </tbody>\n",
       "</table>\n",
       "</div>"
      ],
      "text/plain": [
       "              rows_count  cum_sum  rel_cum_sum\n",
       "missing_cols                                  \n",
       "2                      4        4     0.027397\n",
       "3                      2        6     0.041096\n",
       "4                      9       15     0.102740\n",
       "5                     35       50     0.342466\n",
       "6                      8       58     0.397260\n",
       "7                      8       66     0.452055\n",
       "8                      4       70     0.479452\n",
       "9                      8       78     0.534247\n",
       "10                     9       87     0.595890\n",
       "11                    15      102     0.698630\n",
       "12                    11      113     0.773973\n",
       "13                     3      116     0.794521\n",
       "14                     7      123     0.842466\n",
       "15                    11      134     0.917808\n",
       "16                     5      139     0.952055\n",
       "17                     6      145     0.993151\n",
       "19                     1      146     1.000000"
      ]
     },
     "execution_count": 97,
     "metadata": {},
     "output_type": "execute_result"
    }
   ],
   "source": [
    "# exploring proportion of rows with missing features\n",
    "missing_values=df.pivot_table(values='full_name', index='missing_cols', \n",
    "                              aggfunc=len)\n",
    "missing_values.rename(columns={'missing_cols': 'num_missing_features',\n",
    "                               'full_name':'rows_count'}, inplace=True)\n",
    "missing_values['cum_sum']=missing_values.rows_count.cumsum()\n",
    "missing_values['rel_cum_sum']=missing_values.cum_sum/missing_values.rows_count.sum()\n",
    "missing_values"
   ]
  },
  {
   "cell_type": "code",
   "execution_count": 98,
   "metadata": {},
   "outputs": [
    {
     "data": {
      "text/html": [
       "<div>\n",
       "<style scoped>\n",
       "    .dataframe tbody tr th:only-of-type {\n",
       "        vertical-align: middle;\n",
       "    }\n",
       "\n",
       "    .dataframe tbody tr th {\n",
       "        vertical-align: top;\n",
       "    }\n",
       "\n",
       "    .dataframe thead th {\n",
       "        text-align: right;\n",
       "    }\n",
       "</style>\n",
       "<table border=\"1\" class=\"dataframe\">\n",
       "  <thead>\n",
       "    <tr style=\"text-align: right;\">\n",
       "      <th></th>\n",
       "      <th>full_name</th>\n",
       "      <th>salary</th>\n",
       "      <th>to_messages</th>\n",
       "      <th>deferral_payments</th>\n",
       "      <th>total_payments</th>\n",
       "      <th>loan_advances</th>\n",
       "      <th>bonus</th>\n",
       "      <th>email_address</th>\n",
       "      <th>restricted_stock_deferred</th>\n",
       "      <th>deferred_income</th>\n",
       "      <th>...</th>\n",
       "      <th>exercised_stock_options</th>\n",
       "      <th>from_messages</th>\n",
       "      <th>other</th>\n",
       "      <th>from_this_person_to_poi</th>\n",
       "      <th>poi</th>\n",
       "      <th>long_term_incentive</th>\n",
       "      <th>shared_receipt_with_poi</th>\n",
       "      <th>restricted_stock</th>\n",
       "      <th>director_fees</th>\n",
       "      <th>missing_cols</th>\n",
       "    </tr>\n",
       "  </thead>\n",
       "  <tbody>\n",
       "    <tr>\n",
       "      <th>56</th>\n",
       "      <td>GRAMM WENDY L</td>\n",
       "      <td>NaN</td>\n",
       "      <td>NaN</td>\n",
       "      <td>NaN</td>\n",
       "      <td>119292.0</td>\n",
       "      <td>NaN</td>\n",
       "      <td>NaN</td>\n",
       "      <td>NaN</td>\n",
       "      <td>NaN</td>\n",
       "      <td>NaN</td>\n",
       "      <td>...</td>\n",
       "      <td>NaN</td>\n",
       "      <td>NaN</td>\n",
       "      <td>NaN</td>\n",
       "      <td>NaN</td>\n",
       "      <td>False</td>\n",
       "      <td>NaN</td>\n",
       "      <td>NaN</td>\n",
       "      <td>NaN</td>\n",
       "      <td>119292.0</td>\n",
       "      <td>17</td>\n",
       "    </tr>\n",
       "    <tr>\n",
       "      <th>115</th>\n",
       "      <td>SCRIMSHAW MATTHEW</td>\n",
       "      <td>NaN</td>\n",
       "      <td>NaN</td>\n",
       "      <td>NaN</td>\n",
       "      <td>NaN</td>\n",
       "      <td>NaN</td>\n",
       "      <td>NaN</td>\n",
       "      <td>matthew.scrimshaw@enron.com</td>\n",
       "      <td>NaN</td>\n",
       "      <td>NaN</td>\n",
       "      <td>...</td>\n",
       "      <td>759557.0</td>\n",
       "      <td>NaN</td>\n",
       "      <td>NaN</td>\n",
       "      <td>NaN</td>\n",
       "      <td>False</td>\n",
       "      <td>NaN</td>\n",
       "      <td>NaN</td>\n",
       "      <td>NaN</td>\n",
       "      <td>NaN</td>\n",
       "      <td>17</td>\n",
       "    </tr>\n",
       "    <tr>\n",
       "      <th>127</th>\n",
       "      <td>THE TRAVEL AGENCY IN THE PARK</td>\n",
       "      <td>NaN</td>\n",
       "      <td>NaN</td>\n",
       "      <td>NaN</td>\n",
       "      <td>362096.0</td>\n",
       "      <td>NaN</td>\n",
       "      <td>NaN</td>\n",
       "      <td>NaN</td>\n",
       "      <td>NaN</td>\n",
       "      <td>NaN</td>\n",
       "      <td>...</td>\n",
       "      <td>NaN</td>\n",
       "      <td>NaN</td>\n",
       "      <td>362096.0</td>\n",
       "      <td>NaN</td>\n",
       "      <td>False</td>\n",
       "      <td>NaN</td>\n",
       "      <td>NaN</td>\n",
       "      <td>NaN</td>\n",
       "      <td>NaN</td>\n",
       "      <td>17</td>\n",
       "    </tr>\n",
       "    <tr>\n",
       "      <th>138</th>\n",
       "      <td>WHALEY DAVID A</td>\n",
       "      <td>NaN</td>\n",
       "      <td>NaN</td>\n",
       "      <td>NaN</td>\n",
       "      <td>NaN</td>\n",
       "      <td>NaN</td>\n",
       "      <td>NaN</td>\n",
       "      <td>NaN</td>\n",
       "      <td>NaN</td>\n",
       "      <td>NaN</td>\n",
       "      <td>...</td>\n",
       "      <td>98718.0</td>\n",
       "      <td>NaN</td>\n",
       "      <td>NaN</td>\n",
       "      <td>NaN</td>\n",
       "      <td>False</td>\n",
       "      <td>NaN</td>\n",
       "      <td>NaN</td>\n",
       "      <td>NaN</td>\n",
       "      <td>NaN</td>\n",
       "      <td>17</td>\n",
       "    </tr>\n",
       "    <tr>\n",
       "      <th>142</th>\n",
       "      <td>WODRASKA JOHN</td>\n",
       "      <td>NaN</td>\n",
       "      <td>NaN</td>\n",
       "      <td>NaN</td>\n",
       "      <td>189583.0</td>\n",
       "      <td>NaN</td>\n",
       "      <td>NaN</td>\n",
       "      <td>john.wodraska@enron.com</td>\n",
       "      <td>NaN</td>\n",
       "      <td>NaN</td>\n",
       "      <td>...</td>\n",
       "      <td>NaN</td>\n",
       "      <td>NaN</td>\n",
       "      <td>189583.0</td>\n",
       "      <td>NaN</td>\n",
       "      <td>False</td>\n",
       "      <td>NaN</td>\n",
       "      <td>NaN</td>\n",
       "      <td>NaN</td>\n",
       "      <td>NaN</td>\n",
       "      <td>17</td>\n",
       "    </tr>\n",
       "    <tr>\n",
       "      <th>143</th>\n",
       "      <td>WROBEL BRUCE</td>\n",
       "      <td>NaN</td>\n",
       "      <td>NaN</td>\n",
       "      <td>NaN</td>\n",
       "      <td>NaN</td>\n",
       "      <td>NaN</td>\n",
       "      <td>NaN</td>\n",
       "      <td>NaN</td>\n",
       "      <td>NaN</td>\n",
       "      <td>NaN</td>\n",
       "      <td>...</td>\n",
       "      <td>139130.0</td>\n",
       "      <td>NaN</td>\n",
       "      <td>NaN</td>\n",
       "      <td>NaN</td>\n",
       "      <td>False</td>\n",
       "      <td>NaN</td>\n",
       "      <td>NaN</td>\n",
       "      <td>NaN</td>\n",
       "      <td>NaN</td>\n",
       "      <td>17</td>\n",
       "    </tr>\n",
       "    <tr>\n",
       "      <th>84</th>\n",
       "      <td>LOCKHART EUGENE E</td>\n",
       "      <td>NaN</td>\n",
       "      <td>NaN</td>\n",
       "      <td>NaN</td>\n",
       "      <td>NaN</td>\n",
       "      <td>NaN</td>\n",
       "      <td>NaN</td>\n",
       "      <td>NaN</td>\n",
       "      <td>NaN</td>\n",
       "      <td>NaN</td>\n",
       "      <td>...</td>\n",
       "      <td>NaN</td>\n",
       "      <td>NaN</td>\n",
       "      <td>NaN</td>\n",
       "      <td>NaN</td>\n",
       "      <td>False</td>\n",
       "      <td>NaN</td>\n",
       "      <td>NaN</td>\n",
       "      <td>NaN</td>\n",
       "      <td>NaN</td>\n",
       "      <td>19</td>\n",
       "    </tr>\n",
       "  </tbody>\n",
       "</table>\n",
       "<p>7 rows × 23 columns</p>\n",
       "</div>"
      ],
      "text/plain": [
       "                         full_name  salary  to_messages  deferral_payments  \\\n",
       "56                   GRAMM WENDY L     NaN          NaN                NaN   \n",
       "115              SCRIMSHAW MATTHEW     NaN          NaN                NaN   \n",
       "127  THE TRAVEL AGENCY IN THE PARK     NaN          NaN                NaN   \n",
       "138                 WHALEY DAVID A     NaN          NaN                NaN   \n",
       "142                  WODRASKA JOHN     NaN          NaN                NaN   \n",
       "143                   WROBEL BRUCE     NaN          NaN                NaN   \n",
       "84               LOCKHART EUGENE E     NaN          NaN                NaN   \n",
       "\n",
       "     total_payments  loan_advances  bonus                email_address  \\\n",
       "56         119292.0            NaN    NaN                          NaN   \n",
       "115             NaN            NaN    NaN  matthew.scrimshaw@enron.com   \n",
       "127        362096.0            NaN    NaN                          NaN   \n",
       "138             NaN            NaN    NaN                          NaN   \n",
       "142        189583.0            NaN    NaN      john.wodraska@enron.com   \n",
       "143             NaN            NaN    NaN                          NaN   \n",
       "84              NaN            NaN    NaN                          NaN   \n",
       "\n",
       "     restricted_stock_deferred  deferred_income      ...       \\\n",
       "56                         NaN              NaN      ...        \n",
       "115                        NaN              NaN      ...        \n",
       "127                        NaN              NaN      ...        \n",
       "138                        NaN              NaN      ...        \n",
       "142                        NaN              NaN      ...        \n",
       "143                        NaN              NaN      ...        \n",
       "84                         NaN              NaN      ...        \n",
       "\n",
       "     exercised_stock_options  from_messages     other  \\\n",
       "56                       NaN            NaN       NaN   \n",
       "115                 759557.0            NaN       NaN   \n",
       "127                      NaN            NaN  362096.0   \n",
       "138                  98718.0            NaN       NaN   \n",
       "142                      NaN            NaN  189583.0   \n",
       "143                 139130.0            NaN       NaN   \n",
       "84                       NaN            NaN       NaN   \n",
       "\n",
       "     from_this_person_to_poi    poi  long_term_incentive  \\\n",
       "56                       NaN  False                  NaN   \n",
       "115                      NaN  False                  NaN   \n",
       "127                      NaN  False                  NaN   \n",
       "138                      NaN  False                  NaN   \n",
       "142                      NaN  False                  NaN   \n",
       "143                      NaN  False                  NaN   \n",
       "84                       NaN  False                  NaN   \n",
       "\n",
       "     shared_receipt_with_poi  restricted_stock  director_fees  missing_cols  \n",
       "56                       NaN               NaN       119292.0            17  \n",
       "115                      NaN               NaN            NaN            17  \n",
       "127                      NaN               NaN            NaN            17  \n",
       "138                      NaN               NaN            NaN            17  \n",
       "142                      NaN               NaN            NaN            17  \n",
       "143                      NaN               NaN            NaN            17  \n",
       "84                       NaN               NaN            NaN            19  \n",
       "\n",
       "[7 rows x 23 columns]"
      ]
     },
     "execution_count": 98,
     "metadata": {},
     "output_type": "execute_result"
    }
   ],
   "source": [
    "# exploring rows with >= 17 missing features\n",
    "df.query('missing_cols>=17').sort_values(by='missing_cols')"
   ]
  },
  {
   "cell_type": "markdown",
   "metadata": {},
   "source": [
    "##### Outliers"
   ]
  },
  {
   "cell_type": "code",
   "execution_count": 99,
   "metadata": {},
   "outputs": [],
   "source": [
    "def make_visualisations(df, features, vis='hist', n_cols=2, figsize=(15,40), \n",
    "                        bins=50, **kwds):\n",
    "    '''\n",
    "    Make histrograms or boxplots for all items in features list from a pandas \n",
    "    dataframe.\n",
    "    Parameters\n",
    "    - df: Pandas dataframe. Dataframe with all data.\n",
    "    - features: List. List of features to be plotted. Must be numerical \n",
    "    features. NaN values will be dropped.\n",
    "    - vis: Str. Type of visualisation: [hist or boxplot]\n",
    "    - n_cols: Integer. Number of columns for the histogram matrix.\n",
    "    - figsize: Tuple (w,h). Size of histograms matrix.\n",
    "    - bins: Integer. Number of bins in the histogram.\n",
    "    '''\n",
    "    fig = plt.figure(figsize=figsize)\n",
    "    fig.subplots_adjust(hspace=0.4, wspace=.3)\n",
    "    for i in range(len(features)):\n",
    "        ax=fig.add_subplot(round(len(features)/n_cols+.5),n_cols,i+1)\n",
    "        data=df[features[i]].dropna()\n",
    "        if vis=='hist':\n",
    "            ax.hist(data,bins=bins, **kwds)\n",
    "        elif vis=='boxplot':\n",
    "            ax.boxplot(data, **kwds)\n",
    "        else:\n",
    "            print('Invalid visualisation')\n",
    "            break\n",
    "        ax.title.set_text(features[i])\n",
    "    plt.show()"
   ]
  },
  {
   "cell_type": "code",
   "execution_count": 100,
   "metadata": {},
   "outputs": [],
   "source": [
    "def outliers(df, feature):\n",
    "    \"\"\"\n",
    "    Returns rows that are considered outliers for a given feature.\n",
    "    Outlier definition: (Q1-1.5IQR,Q3+1.5IQR)\n",
    "    Parameters:\n",
    "    - df: Pandas dataframe. Dataframe that contains data.\n",
    "    - feature: Str. Name of feature to be explored.\n",
    "    \"\"\"\n",
    "    iqr = stats.iqr(df[feature].dropna())\n",
    "    third_quantile = df[feature].quantile(0.75)\n",
    "    first_quantile = df[feature].quantile(0.25)\n",
    "    outliers = (first_quantile-1.5*iqr,third_quantile+1.5*iqr)\n",
    "    return df[(df[feature]<outliers[0]) | (df[feature]>outliers[1])][['full_name',feature]]\\\n",
    "    .sort_values(by=feature)"
   ]
  },
  {
   "cell_type": "code",
   "execution_count": 101,
   "metadata": {},
   "outputs": [
    {
     "data": {
      "image/png": "[encoded data removed]",
      "text/plain": [
       "<matplotlib.figure.Figure at 0x1a1b29a7b8>"
      ]
     },
     "metadata": {},
     "output_type": "display_data"
    }
   ],
   "source": [
    "make_visualisations(df,valid_features,'boxplot')"
   ]
  },
  {
   "cell_type": "code",
   "execution_count": 102,
   "metadata": {},
   "outputs": [
    {
     "name": "stdout",
     "output_type": "stream",
     "text": [
      "(146, 23)\n",
      "(144, 23)\n"
     ]
    }
   ],
   "source": [
    "print(df.shape)\n",
    "df=df.query('full_name not in [\"TOTAL\",\"THE TRAVEL AGENCY IN THE PARK\"]').copy()\n",
    "print(df.shape)"
   ]
  },
  {
   "cell_type": "code",
   "execution_count": 103,
   "metadata": {},
   "outputs": [
    {
     "data": {
      "image/png": "[encoded data removed]",
      "text/plain": [
       "<matplotlib.figure.Figure at 0x1a1cae6128>"
      ]
     },
     "metadata": {},
     "output_type": "display_data"
    }
   ],
   "source": [
    "make_visualisations(df, valid_features, 'boxplot')"
   ]
  },
  {
   "cell_type": "code",
   "execution_count": 104,
   "metadata": {
    "scrolled": true
   },
   "outputs": [
    {
     "data": {
      "text/html": [
       "<div>\n",
       "<style scoped>\n",
       "    .dataframe tbody tr th:only-of-type {\n",
       "        vertical-align: middle;\n",
       "    }\n",
       "\n",
       "    .dataframe tbody tr th {\n",
       "        vertical-align: top;\n",
       "    }\n",
       "\n",
       "    .dataframe thead th {\n",
       "        text-align: right;\n",
       "    }\n",
       "</style>\n",
       "<table border=\"1\" class=\"dataframe\">\n",
       "  <thead>\n",
       "    <tr style=\"text-align: right;\">\n",
       "      <th></th>\n",
       "      <th>full_name</th>\n",
       "      <th>salary</th>\n",
       "    </tr>\n",
       "  </thead>\n",
       "  <tbody>\n",
       "    <tr>\n",
       "      <th>2</th>\n",
       "      <td>BANNANTINE JAMES M</td>\n",
       "      <td>477.0</td>\n",
       "    </tr>\n",
       "    <tr>\n",
       "      <th>57</th>\n",
       "      <td>GRAY RODNEY</td>\n",
       "      <td>6615.0</td>\n",
       "    </tr>\n",
       "    <tr>\n",
       "      <th>137</th>\n",
       "      <td>WESTFAHL RICHARD K</td>\n",
       "      <td>63744.0</td>\n",
       "    </tr>\n",
       "    <tr>\n",
       "      <th>32</th>\n",
       "      <td>DERRICK JR. JAMES V</td>\n",
       "      <td>492375.0</td>\n",
       "    </tr>\n",
       "    <tr>\n",
       "      <th>139</th>\n",
       "      <td>WHALLEY LAWRENCE G</td>\n",
       "      <td>510364.0</td>\n",
       "    </tr>\n",
       "    <tr>\n",
       "      <th>105</th>\n",
       "      <td>PICKERING MARK R</td>\n",
       "      <td>655037.0</td>\n",
       "    </tr>\n",
       "    <tr>\n",
       "      <th>47</th>\n",
       "      <td>FREVERT MARK A</td>\n",
       "      <td>1060932.0</td>\n",
       "    </tr>\n",
       "    <tr>\n",
       "      <th>79</th>\n",
       "      <td>LAY KENNETH L</td>\n",
       "      <td>1072321.0</td>\n",
       "    </tr>\n",
       "    <tr>\n",
       "      <th>122</th>\n",
       "      <td>SKILLING JEFFREY K</td>\n",
       "      <td>1111258.0</td>\n",
       "    </tr>\n",
       "  </tbody>\n",
       "</table>\n",
       "</div>"
      ],
      "text/plain": [
       "               full_name     salary\n",
       "2     BANNANTINE JAMES M      477.0\n",
       "57           GRAY RODNEY     6615.0\n",
       "137   WESTFAHL RICHARD K    63744.0\n",
       "32   DERRICK JR. JAMES V   492375.0\n",
       "139   WHALLEY LAWRENCE G   510364.0\n",
       "105     PICKERING MARK R   655037.0\n",
       "47        FREVERT MARK A  1060932.0\n",
       "79         LAY KENNETH L  1072321.0\n",
       "122   SKILLING JEFFREY K  1111258.0"
      ]
     },
     "execution_count": 104,
     "metadata": {},
     "output_type": "execute_result"
    }
   ],
   "source": [
    "outliers(df, valid_features[0])"
   ]
  },
  {
   "cell_type": "code",
   "execution_count": 105,
   "metadata": {},
   "outputs": [
    {
     "data": {
      "text/html": [
       "<div>\n",
       "<style scoped>\n",
       "    .dataframe tbody tr th:only-of-type {\n",
       "        vertical-align: middle;\n",
       "    }\n",
       "\n",
       "    .dataframe tbody tr th {\n",
       "        vertical-align: top;\n",
       "    }\n",
       "\n",
       "    .dataframe thead th {\n",
       "        text-align: right;\n",
       "    }\n",
       "</style>\n",
       "<table border=\"1\" class=\"dataframe\">\n",
       "  <thead>\n",
       "    <tr style=\"text-align: right;\">\n",
       "      <th></th>\n",
       "      <th>full_name</th>\n",
       "      <th>total_payments</th>\n",
       "    </tr>\n",
       "  </thead>\n",
       "  <tbody>\n",
       "    <tr>\n",
       "      <th>139</th>\n",
       "      <td>WHALLEY LAWRENCE G</td>\n",
       "      <td>4677574.0</td>\n",
       "    </tr>\n",
       "    <tr>\n",
       "      <th>31</th>\n",
       "      <td>DELAINEY DAVID W</td>\n",
       "      <td>4747979.0</td>\n",
       "    </tr>\n",
       "    <tr>\n",
       "      <th>7</th>\n",
       "      <td>BELDEN TIMOTHY N</td>\n",
       "      <td>5501630.0</td>\n",
       "    </tr>\n",
       "    <tr>\n",
       "      <th>3</th>\n",
       "      <td>BAXTER JOHN C</td>\n",
       "      <td>5634343.0</td>\n",
       "    </tr>\n",
       "    <tr>\n",
       "      <th>86</th>\n",
       "      <td>MARTIN AMANDA K</td>\n",
       "      <td>8407016.0</td>\n",
       "    </tr>\n",
       "    <tr>\n",
       "      <th>122</th>\n",
       "      <td>SKILLING JEFFREY K</td>\n",
       "      <td>8682716.0</td>\n",
       "    </tr>\n",
       "    <tr>\n",
       "      <th>78</th>\n",
       "      <td>LAVORATO JOHN J</td>\n",
       "      <td>10425757.0</td>\n",
       "    </tr>\n",
       "    <tr>\n",
       "      <th>11</th>\n",
       "      <td>BHATNAGAR SANJAY</td>\n",
       "      <td>15456290.0</td>\n",
       "    </tr>\n",
       "    <tr>\n",
       "      <th>47</th>\n",
       "      <td>FREVERT MARK A</td>\n",
       "      <td>17252530.0</td>\n",
       "    </tr>\n",
       "    <tr>\n",
       "      <th>79</th>\n",
       "      <td>LAY KENNETH L</td>\n",
       "      <td>103559793.0</td>\n",
       "    </tr>\n",
       "  </tbody>\n",
       "</table>\n",
       "</div>"
      ],
      "text/plain": [
       "              full_name  total_payments\n",
       "139  WHALLEY LAWRENCE G       4677574.0\n",
       "31     DELAINEY DAVID W       4747979.0\n",
       "7      BELDEN TIMOTHY N       5501630.0\n",
       "3         BAXTER JOHN C       5634343.0\n",
       "86      MARTIN AMANDA K       8407016.0\n",
       "122  SKILLING JEFFREY K       8682716.0\n",
       "78      LAVORATO JOHN J      10425757.0\n",
       "11     BHATNAGAR SANJAY      15456290.0\n",
       "47       FREVERT MARK A      17252530.0\n",
       "79        LAY KENNETH L     103559793.0"
      ]
     },
     "execution_count": 105,
     "metadata": {},
     "output_type": "execute_result"
    }
   ],
   "source": [
    "outliers(df, valid_features[1])"
   ]
  },
  {
   "cell_type": "code",
   "execution_count": 106,
   "metadata": {
    "scrolled": true
   },
   "outputs": [
    {
     "data": {
      "text/html": [
       "<div>\n",
       "<style scoped>\n",
       "    .dataframe tbody tr th:only-of-type {\n",
       "        vertical-align: middle;\n",
       "    }\n",
       "\n",
       "    .dataframe tbody tr th {\n",
       "        vertical-align: top;\n",
       "    }\n",
       "\n",
       "    .dataframe thead th {\n",
       "        text-align: right;\n",
       "    }\n",
       "</style>\n",
       "<table border=\"1\" class=\"dataframe\">\n",
       "  <thead>\n",
       "    <tr style=\"text-align: right;\">\n",
       "      <th></th>\n",
       "      <th>full_name</th>\n",
       "      <th>bonus</th>\n",
       "    </tr>\n",
       "  </thead>\n",
       "  <tbody>\n",
       "    <tr>\n",
       "      <th>42</th>\n",
       "      <td>FALLON JAMES B</td>\n",
       "      <td>2500000.0</td>\n",
       "    </tr>\n",
       "    <tr>\n",
       "      <th>91</th>\n",
       "      <td>MCMAHON JEFFREY</td>\n",
       "      <td>2600000.0</td>\n",
       "    </tr>\n",
       "    <tr>\n",
       "      <th>31</th>\n",
       "      <td>DELAINEY DAVID W</td>\n",
       "      <td>3000000.0</td>\n",
       "    </tr>\n",
       "    <tr>\n",
       "      <th>139</th>\n",
       "      <td>WHALLEY LAWRENCE G</td>\n",
       "      <td>3000000.0</td>\n",
       "    </tr>\n",
       "    <tr>\n",
       "      <th>75</th>\n",
       "      <td>KITCHEN LOUISE</td>\n",
       "      <td>3100000.0</td>\n",
       "    </tr>\n",
       "    <tr>\n",
       "      <th>0</th>\n",
       "      <td>ALLEN PHILLIP K</td>\n",
       "      <td>4175000.0</td>\n",
       "    </tr>\n",
       "    <tr>\n",
       "      <th>7</th>\n",
       "      <td>BELDEN TIMOTHY N</td>\n",
       "      <td>5249999.0</td>\n",
       "    </tr>\n",
       "    <tr>\n",
       "      <th>122</th>\n",
       "      <td>SKILLING JEFFREY K</td>\n",
       "      <td>5600000.0</td>\n",
       "    </tr>\n",
       "    <tr>\n",
       "      <th>79</th>\n",
       "      <td>LAY KENNETH L</td>\n",
       "      <td>7000000.0</td>\n",
       "    </tr>\n",
       "    <tr>\n",
       "      <th>78</th>\n",
       "      <td>LAVORATO JOHN J</td>\n",
       "      <td>8000000.0</td>\n",
       "    </tr>\n",
       "  </tbody>\n",
       "</table>\n",
       "</div>"
      ],
      "text/plain": [
       "              full_name      bonus\n",
       "42       FALLON JAMES B  2500000.0\n",
       "91      MCMAHON JEFFREY  2600000.0\n",
       "31     DELAINEY DAVID W  3000000.0\n",
       "139  WHALLEY LAWRENCE G  3000000.0\n",
       "75       KITCHEN LOUISE  3100000.0\n",
       "0       ALLEN PHILLIP K  4175000.0\n",
       "7      BELDEN TIMOTHY N  5249999.0\n",
       "122  SKILLING JEFFREY K  5600000.0\n",
       "79        LAY KENNETH L  7000000.0\n",
       "78      LAVORATO JOHN J  8000000.0"
      ]
     },
     "execution_count": 106,
     "metadata": {},
     "output_type": "execute_result"
    }
   ],
   "source": [
    "outliers(df, valid_features[2])"
   ]
  },
  {
   "cell_type": "code",
   "execution_count": 107,
   "metadata": {
    "scrolled": true
   },
   "outputs": [
    {
     "data": {
      "text/html": [
       "<div>\n",
       "<style scoped>\n",
       "    .dataframe tbody tr th:only-of-type {\n",
       "        vertical-align: middle;\n",
       "    }\n",
       "\n",
       "    .dataframe tbody tr th {\n",
       "        vertical-align: top;\n",
       "    }\n",
       "\n",
       "    .dataframe thead th {\n",
       "        text-align: right;\n",
       "    }\n",
       "</style>\n",
       "<table border=\"1\" class=\"dataframe\">\n",
       "  <thead>\n",
       "    <tr style=\"text-align: right;\">\n",
       "      <th></th>\n",
       "      <th>full_name</th>\n",
       "      <th>total_stock_value</th>\n",
       "    </tr>\n",
       "  </thead>\n",
       "  <tbody>\n",
       "    <tr>\n",
       "      <th>69</th>\n",
       "      <td>IZZO LAWRENCE L</td>\n",
       "      <td>5819980.0</td>\n",
       "    </tr>\n",
       "    <tr>\n",
       "      <th>134</th>\n",
       "      <td>WALLS JR ROBERT H</td>\n",
       "      <td>5898997.0</td>\n",
       "    </tr>\n",
       "    <tr>\n",
       "      <th>24</th>\n",
       "      <td>CHRISTODOULOU DIOMEDES</td>\n",
       "      <td>6077885.0</td>\n",
       "    </tr>\n",
       "    <tr>\n",
       "      <th>139</th>\n",
       "      <td>WHALLEY LAWRENCE G</td>\n",
       "      <td>6079137.0</td>\n",
       "    </tr>\n",
       "    <tr>\n",
       "      <th>73</th>\n",
       "      <td>KEAN STEVEN J</td>\n",
       "      <td>6153642.0</td>\n",
       "    </tr>\n",
       "    <tr>\n",
       "      <th>59</th>\n",
       "      <td>HANNON KEVIN P</td>\n",
       "      <td>6391065.0</td>\n",
       "    </tr>\n",
       "    <tr>\n",
       "      <th>41</th>\n",
       "      <td>ELLIOTT STEVEN</td>\n",
       "      <td>6678735.0</td>\n",
       "    </tr>\n",
       "    <tr>\n",
       "      <th>66</th>\n",
       "      <td>HORTON STANLEY C</td>\n",
       "      <td>7256648.0</td>\n",
       "    </tr>\n",
       "    <tr>\n",
       "      <th>102</th>\n",
       "      <td>OVERDYKE JR JERE C</td>\n",
       "      <td>7307594.0</td>\n",
       "    </tr>\n",
       "    <tr>\n",
       "      <th>110</th>\n",
       "      <td>REDMOND BRIAN L</td>\n",
       "      <td>7890324.0</td>\n",
       "    </tr>\n",
       "    <tr>\n",
       "      <th>35</th>\n",
       "      <td>DIMICHELE RICHARD G</td>\n",
       "      <td>8317782.0</td>\n",
       "    </tr>\n",
       "    <tr>\n",
       "      <th>32</th>\n",
       "      <td>DERRICK JR. JAMES V</td>\n",
       "      <td>8831913.0</td>\n",
       "    </tr>\n",
       "    <tr>\n",
       "      <th>3</th>\n",
       "      <td>BAXTER JOHN C</td>\n",
       "      <td>10623258.0</td>\n",
       "    </tr>\n",
       "    <tr>\n",
       "      <th>144</th>\n",
       "      <td>YEAGER F SCOTT</td>\n",
       "      <td>11884758.0</td>\n",
       "    </tr>\n",
       "    <tr>\n",
       "      <th>47</th>\n",
       "      <td>FREVERT MARK A</td>\n",
       "      <td>14622185.0</td>\n",
       "    </tr>\n",
       "    <tr>\n",
       "      <th>140</th>\n",
       "      <td>WHITE JR THOMAS E</td>\n",
       "      <td>15144123.0</td>\n",
       "    </tr>\n",
       "    <tr>\n",
       "      <th>112</th>\n",
       "      <td>RICE KENNETH D</td>\n",
       "      <td>22542539.0</td>\n",
       "    </tr>\n",
       "    <tr>\n",
       "      <th>103</th>\n",
       "      <td>PAI LOU L</td>\n",
       "      <td>23817930.0</td>\n",
       "    </tr>\n",
       "    <tr>\n",
       "      <th>122</th>\n",
       "      <td>SKILLING JEFFREY K</td>\n",
       "      <td>26093672.0</td>\n",
       "    </tr>\n",
       "    <tr>\n",
       "      <th>65</th>\n",
       "      <td>HIRKO JOSEPH</td>\n",
       "      <td>30766064.0</td>\n",
       "    </tr>\n",
       "    <tr>\n",
       "      <th>79</th>\n",
       "      <td>LAY KENNETH L</td>\n",
       "      <td>49110078.0</td>\n",
       "    </tr>\n",
       "  </tbody>\n",
       "</table>\n",
       "</div>"
      ],
      "text/plain": [
       "                  full_name  total_stock_value\n",
       "69          IZZO LAWRENCE L          5819980.0\n",
       "134       WALLS JR ROBERT H          5898997.0\n",
       "24   CHRISTODOULOU DIOMEDES          6077885.0\n",
       "139      WHALLEY LAWRENCE G          6079137.0\n",
       "73            KEAN STEVEN J          6153642.0\n",
       "59           HANNON KEVIN P          6391065.0\n",
       "41           ELLIOTT STEVEN          6678735.0\n",
       "66         HORTON STANLEY C          7256648.0\n",
       "102      OVERDYKE JR JERE C          7307594.0\n",
       "110         REDMOND BRIAN L          7890324.0\n",
       "35      DIMICHELE RICHARD G          8317782.0\n",
       "32      DERRICK JR. JAMES V          8831913.0\n",
       "3             BAXTER JOHN C         10623258.0\n",
       "144          YEAGER F SCOTT         11884758.0\n",
       "47           FREVERT MARK A         14622185.0\n",
       "140       WHITE JR THOMAS E         15144123.0\n",
       "112          RICE KENNETH D         22542539.0\n",
       "103               PAI LOU L         23817930.0\n",
       "122      SKILLING JEFFREY K         26093672.0\n",
       "65             HIRKO JOSEPH         30766064.0\n",
       "79            LAY KENNETH L         49110078.0"
      ]
     },
     "execution_count": 107,
     "metadata": {},
     "output_type": "execute_result"
    }
   ],
   "source": [
    "outliers(df, valid_features[3])"
   ]
  },
  {
   "cell_type": "code",
   "execution_count": 108,
   "metadata": {
    "scrolled": true
   },
   "outputs": [
    {
     "data": {
      "text/html": [
       "<div>\n",
       "<style scoped>\n",
       "    .dataframe tbody tr th:only-of-type {\n",
       "        vertical-align: middle;\n",
       "    }\n",
       "\n",
       "    .dataframe tbody tr th {\n",
       "        vertical-align: top;\n",
       "    }\n",
       "\n",
       "    .dataframe thead th {\n",
       "        text-align: right;\n",
       "    }\n",
       "</style>\n",
       "<table border=\"1\" class=\"dataframe\">\n",
       "  <thead>\n",
       "    <tr style=\"text-align: right;\">\n",
       "      <th></th>\n",
       "      <th>full_name</th>\n",
       "      <th>expenses</th>\n",
       "    </tr>\n",
       "  </thead>\n",
       "  <tbody>\n",
       "    <tr>\n",
       "      <th>116</th>\n",
       "      <td>SHANKMAN JEFFREY A</td>\n",
       "      <td>178979.0</td>\n",
       "    </tr>\n",
       "    <tr>\n",
       "      <th>132</th>\n",
       "      <td>URQUHART JOHN A</td>\n",
       "      <td>228656.0</td>\n",
       "    </tr>\n",
       "    <tr>\n",
       "      <th>88</th>\n",
       "      <td>MCCLELLAN GEORGE</td>\n",
       "      <td>228763.0</td>\n",
       "    </tr>\n",
       "  </tbody>\n",
       "</table>\n",
       "</div>"
      ],
      "text/plain": [
       "              full_name  expenses\n",
       "116  SHANKMAN JEFFREY A  178979.0\n",
       "132     URQUHART JOHN A  228656.0\n",
       "88     MCCLELLAN GEORGE  228763.0"
      ]
     },
     "execution_count": 108,
     "metadata": {},
     "output_type": "execute_result"
    }
   ],
   "source": [
    "outliers(df, valid_features[4])"
   ]
  },
  {
   "cell_type": "code",
   "execution_count": 109,
   "metadata": {},
   "outputs": [
    {
     "data": {
      "text/html": [
       "<div>\n",
       "<style scoped>\n",
       "    .dataframe tbody tr th:only-of-type {\n",
       "        vertical-align: middle;\n",
       "    }\n",
       "\n",
       "    .dataframe tbody tr th {\n",
       "        vertical-align: top;\n",
       "    }\n",
       "\n",
       "    .dataframe thead th {\n",
       "        text-align: right;\n",
       "    }\n",
       "</style>\n",
       "<table border=\"1\" class=\"dataframe\">\n",
       "  <thead>\n",
       "    <tr style=\"text-align: right;\">\n",
       "      <th></th>\n",
       "      <th>full_name</th>\n",
       "      <th>exercised_stock_options</th>\n",
       "    </tr>\n",
       "  </thead>\n",
       "  <tbody>\n",
       "    <tr>\n",
       "      <th>3</th>\n",
       "      <td>BAXTER JOHN C</td>\n",
       "      <td>6680544.0</td>\n",
       "    </tr>\n",
       "    <tr>\n",
       "      <th>110</th>\n",
       "      <td>REDMOND BRIAN L</td>\n",
       "      <td>7509039.0</td>\n",
       "    </tr>\n",
       "    <tr>\n",
       "      <th>35</th>\n",
       "      <td>DIMICHELE RICHARD G</td>\n",
       "      <td>8191755.0</td>\n",
       "    </tr>\n",
       "    <tr>\n",
       "      <th>144</th>\n",
       "      <td>YEAGER F SCOTT</td>\n",
       "      <td>8308552.0</td>\n",
       "    </tr>\n",
       "    <tr>\n",
       "      <th>32</th>\n",
       "      <td>DERRICK JR. JAMES V</td>\n",
       "      <td>8831913.0</td>\n",
       "    </tr>\n",
       "    <tr>\n",
       "      <th>47</th>\n",
       "      <td>FREVERT MARK A</td>\n",
       "      <td>10433518.0</td>\n",
       "    </tr>\n",
       "    <tr>\n",
       "      <th>103</th>\n",
       "      <td>PAI LOU L</td>\n",
       "      <td>15364167.0</td>\n",
       "    </tr>\n",
       "    <tr>\n",
       "      <th>122</th>\n",
       "      <td>SKILLING JEFFREY K</td>\n",
       "      <td>19250000.0</td>\n",
       "    </tr>\n",
       "    <tr>\n",
       "      <th>112</th>\n",
       "      <td>RICE KENNETH D</td>\n",
       "      <td>19794175.0</td>\n",
       "    </tr>\n",
       "    <tr>\n",
       "      <th>65</th>\n",
       "      <td>HIRKO JOSEPH</td>\n",
       "      <td>30766064.0</td>\n",
       "    </tr>\n",
       "    <tr>\n",
       "      <th>79</th>\n",
       "      <td>LAY KENNETH L</td>\n",
       "      <td>34348384.0</td>\n",
       "    </tr>\n",
       "  </tbody>\n",
       "</table>\n",
       "</div>"
      ],
      "text/plain": [
       "               full_name  exercised_stock_options\n",
       "3          BAXTER JOHN C                6680544.0\n",
       "110      REDMOND BRIAN L                7509039.0\n",
       "35   DIMICHELE RICHARD G                8191755.0\n",
       "144       YEAGER F SCOTT                8308552.0\n",
       "32   DERRICK JR. JAMES V                8831913.0\n",
       "47        FREVERT MARK A               10433518.0\n",
       "103            PAI LOU L               15364167.0\n",
       "122   SKILLING JEFFREY K               19250000.0\n",
       "112       RICE KENNETH D               19794175.0\n",
       "65          HIRKO JOSEPH               30766064.0\n",
       "79         LAY KENNETH L               34348384.0"
      ]
     },
     "execution_count": 109,
     "metadata": {},
     "output_type": "execute_result"
    }
   ],
   "source": [
    "outliers(df, valid_features[5])"
   ]
  },
  {
   "cell_type": "code",
   "execution_count": 110,
   "metadata": {},
   "outputs": [
    {
     "data": {
      "text/html": [
       "<div>\n",
       "<style scoped>\n",
       "    .dataframe tbody tr th:only-of-type {\n",
       "        vertical-align: middle;\n",
       "    }\n",
       "\n",
       "    .dataframe tbody tr th {\n",
       "        vertical-align: top;\n",
       "    }\n",
       "\n",
       "    .dataframe thead th {\n",
       "        text-align: right;\n",
       "    }\n",
       "</style>\n",
       "<table border=\"1\" class=\"dataframe\">\n",
       "  <thead>\n",
       "    <tr style=\"text-align: right;\">\n",
       "      <th></th>\n",
       "      <th>full_name</th>\n",
       "      <th>other</th>\n",
       "    </tr>\n",
       "  </thead>\n",
       "  <tbody>\n",
       "    <tr>\n",
       "      <th>2</th>\n",
       "      <td>BANNANTINE JAMES M</td>\n",
       "      <td>864523.0</td>\n",
       "    </tr>\n",
       "    <tr>\n",
       "      <th>77</th>\n",
       "      <td>KOPPER MICHAEL J</td>\n",
       "      <td>907502.0</td>\n",
       "    </tr>\n",
       "    <tr>\n",
       "      <th>140</th>\n",
       "      <td>WHITE JR THOMAS E</td>\n",
       "      <td>1085463.0</td>\n",
       "    </tr>\n",
       "    <tr>\n",
       "      <th>69</th>\n",
       "      <td>IZZO LAWRENCE L</td>\n",
       "      <td>1553729.0</td>\n",
       "    </tr>\n",
       "    <tr>\n",
       "      <th>119</th>\n",
       "      <td>SHELBY REX</td>\n",
       "      <td>1573324.0</td>\n",
       "    </tr>\n",
       "    <tr>\n",
       "      <th>103</th>\n",
       "      <td>PAI LOU L</td>\n",
       "      <td>1829457.0</td>\n",
       "    </tr>\n",
       "    <tr>\n",
       "      <th>121</th>\n",
       "      <td>SHERRIFF JOHN R</td>\n",
       "      <td>1852186.0</td>\n",
       "    </tr>\n",
       "    <tr>\n",
       "      <th>3</th>\n",
       "      <td>BAXTER JOHN C</td>\n",
       "      <td>2660303.0</td>\n",
       "    </tr>\n",
       "    <tr>\n",
       "      <th>86</th>\n",
       "      <td>MARTIN AMANDA K</td>\n",
       "      <td>2818454.0</td>\n",
       "    </tr>\n",
       "    <tr>\n",
       "      <th>47</th>\n",
       "      <td>FREVERT MARK A</td>\n",
       "      <td>7427621.0</td>\n",
       "    </tr>\n",
       "    <tr>\n",
       "      <th>79</th>\n",
       "      <td>LAY KENNETH L</td>\n",
       "      <td>10359729.0</td>\n",
       "    </tr>\n",
       "  </tbody>\n",
       "</table>\n",
       "</div>"
      ],
      "text/plain": [
       "              full_name       other\n",
       "2    BANNANTINE JAMES M    864523.0\n",
       "77     KOPPER MICHAEL J    907502.0\n",
       "140   WHITE JR THOMAS E   1085463.0\n",
       "69      IZZO LAWRENCE L   1553729.0\n",
       "119          SHELBY REX   1573324.0\n",
       "103           PAI LOU L   1829457.0\n",
       "121     SHERRIFF JOHN R   1852186.0\n",
       "3         BAXTER JOHN C   2660303.0\n",
       "86      MARTIN AMANDA K   2818454.0\n",
       "47       FREVERT MARK A   7427621.0\n",
       "79        LAY KENNETH L  10359729.0"
      ]
     },
     "execution_count": 110,
     "metadata": {},
     "output_type": "execute_result"
    }
   ],
   "source": [
    "outliers(df, valid_features[6])"
   ]
  },
  {
   "cell_type": "code",
   "execution_count": 111,
   "metadata": {
    "scrolled": true
   },
   "outputs": [
    {
     "data": {
      "text/html": [
       "<div>\n",
       "<style scoped>\n",
       "    .dataframe tbody tr th:only-of-type {\n",
       "        vertical-align: middle;\n",
       "    }\n",
       "\n",
       "    .dataframe tbody tr th {\n",
       "        vertical-align: top;\n",
       "    }\n",
       "\n",
       "    .dataframe thead th {\n",
       "        text-align: right;\n",
       "    }\n",
       "</style>\n",
       "<table border=\"1\" class=\"dataframe\">\n",
       "  <thead>\n",
       "    <tr style=\"text-align: right;\">\n",
       "      <th></th>\n",
       "      <th>full_name</th>\n",
       "      <th>long_term_incentive</th>\n",
       "    </tr>\n",
       "  </thead>\n",
       "  <tbody>\n",
       "    <tr>\n",
       "      <th>98</th>\n",
       "      <td>MULLER MARK S</td>\n",
       "      <td>1725545.0</td>\n",
       "    </tr>\n",
       "    <tr>\n",
       "      <th>43</th>\n",
       "      <td>FASTOW ANDREW S</td>\n",
       "      <td>1736055.0</td>\n",
       "    </tr>\n",
       "    <tr>\n",
       "      <th>122</th>\n",
       "      <td>SKILLING JEFFREY K</td>\n",
       "      <td>1920000.0</td>\n",
       "    </tr>\n",
       "    <tr>\n",
       "      <th>78</th>\n",
       "      <td>LAVORATO JOHN J</td>\n",
       "      <td>2035380.0</td>\n",
       "    </tr>\n",
       "    <tr>\n",
       "      <th>40</th>\n",
       "      <td>ECHOLS JOHN B</td>\n",
       "      <td>2234774.0</td>\n",
       "    </tr>\n",
       "    <tr>\n",
       "      <th>79</th>\n",
       "      <td>LAY KENNETH L</td>\n",
       "      <td>3600000.0</td>\n",
       "    </tr>\n",
       "    <tr>\n",
       "      <th>86</th>\n",
       "      <td>MARTIN AMANDA K</td>\n",
       "      <td>5145434.0</td>\n",
       "    </tr>\n",
       "  </tbody>\n",
       "</table>\n",
       "</div>"
      ],
      "text/plain": [
       "              full_name  long_term_incentive\n",
       "98        MULLER MARK S            1725545.0\n",
       "43      FASTOW ANDREW S            1736055.0\n",
       "122  SKILLING JEFFREY K            1920000.0\n",
       "78      LAVORATO JOHN J            2035380.0\n",
       "40        ECHOLS JOHN B            2234774.0\n",
       "79        LAY KENNETH L            3600000.0\n",
       "86      MARTIN AMANDA K            5145434.0"
      ]
     },
     "execution_count": 111,
     "metadata": {},
     "output_type": "execute_result"
    }
   ],
   "source": [
    "outliers(df, valid_features[7])"
   ]
  },
  {
   "cell_type": "code",
   "execution_count": 112,
   "metadata": {
    "scrolled": true
   },
   "outputs": [
    {
     "data": {
      "text/html": [
       "<div>\n",
       "<style scoped>\n",
       "    .dataframe tbody tr th:only-of-type {\n",
       "        vertical-align: middle;\n",
       "    }\n",
       "\n",
       "    .dataframe tbody tr th {\n",
       "        vertical-align: top;\n",
       "    }\n",
       "\n",
       "    .dataframe thead th {\n",
       "        text-align: right;\n",
       "    }\n",
       "</style>\n",
       "<table border=\"1\" class=\"dataframe\">\n",
       "  <thead>\n",
       "    <tr style=\"text-align: right;\">\n",
       "      <th></th>\n",
       "      <th>full_name</th>\n",
       "      <th>restricted_stock</th>\n",
       "    </tr>\n",
       "  </thead>\n",
       "  <tbody>\n",
       "    <tr>\n",
       "      <th>11</th>\n",
       "      <td>BHATNAGAR SANJAY</td>\n",
       "      <td>-2604490.0</td>\n",
       "    </tr>\n",
       "    <tr>\n",
       "      <th>60</th>\n",
       "      <td>HAUG DAVID L</td>\n",
       "      <td>2217299.0</td>\n",
       "    </tr>\n",
       "    <tr>\n",
       "      <th>22</th>\n",
       "      <td>CAUSEY RICHARD A</td>\n",
       "      <td>2502063.0</td>\n",
       "    </tr>\n",
       "    <tr>\n",
       "      <th>112</th>\n",
       "      <td>RICE KENNETH D</td>\n",
       "      <td>2748364.0</td>\n",
       "    </tr>\n",
       "    <tr>\n",
       "      <th>139</th>\n",
       "      <td>WHALLEY LAWRENCE G</td>\n",
       "      <td>2796177.0</td>\n",
       "    </tr>\n",
       "    <tr>\n",
       "      <th>144</th>\n",
       "      <td>YEAGER F SCOTT</td>\n",
       "      <td>3576206.0</td>\n",
       "    </tr>\n",
       "    <tr>\n",
       "      <th>69</th>\n",
       "      <td>IZZO LAWRENCE L</td>\n",
       "      <td>3654808.0</td>\n",
       "    </tr>\n",
       "    <tr>\n",
       "      <th>3</th>\n",
       "      <td>BAXTER JOHN C</td>\n",
       "      <td>3942714.0</td>\n",
       "    </tr>\n",
       "    <tr>\n",
       "      <th>73</th>\n",
       "      <td>KEAN STEVEN J</td>\n",
       "      <td>4131594.0</td>\n",
       "    </tr>\n",
       "    <tr>\n",
       "      <th>47</th>\n",
       "      <td>FREVERT MARK A</td>\n",
       "      <td>4188667.0</td>\n",
       "    </tr>\n",
       "    <tr>\n",
       "      <th>122</th>\n",
       "      <td>SKILLING JEFFREY K</td>\n",
       "      <td>6843672.0</td>\n",
       "    </tr>\n",
       "    <tr>\n",
       "      <th>103</th>\n",
       "      <td>PAI LOU L</td>\n",
       "      <td>8453763.0</td>\n",
       "    </tr>\n",
       "    <tr>\n",
       "      <th>140</th>\n",
       "      <td>WHITE JR THOMAS E</td>\n",
       "      <td>13847074.0</td>\n",
       "    </tr>\n",
       "    <tr>\n",
       "      <th>79</th>\n",
       "      <td>LAY KENNETH L</td>\n",
       "      <td>14761694.0</td>\n",
       "    </tr>\n",
       "  </tbody>\n",
       "</table>\n",
       "</div>"
      ],
      "text/plain": [
       "              full_name  restricted_stock\n",
       "11     BHATNAGAR SANJAY        -2604490.0\n",
       "60         HAUG DAVID L         2217299.0\n",
       "22     CAUSEY RICHARD A         2502063.0\n",
       "112      RICE KENNETH D         2748364.0\n",
       "139  WHALLEY LAWRENCE G         2796177.0\n",
       "144      YEAGER F SCOTT         3576206.0\n",
       "69      IZZO LAWRENCE L         3654808.0\n",
       "3         BAXTER JOHN C         3942714.0\n",
       "73        KEAN STEVEN J         4131594.0\n",
       "47       FREVERT MARK A         4188667.0\n",
       "122  SKILLING JEFFREY K         6843672.0\n",
       "103           PAI LOU L         8453763.0\n",
       "140   WHITE JR THOMAS E        13847074.0\n",
       "79        LAY KENNETH L        14761694.0"
      ]
     },
     "execution_count": 112,
     "metadata": {},
     "output_type": "execute_result"
    }
   ],
   "source": [
    "outliers(df, valid_features[8])"
   ]
  },
  {
   "cell_type": "code",
   "execution_count": 113,
   "metadata": {},
   "outputs": [
    {
     "data": {
      "text/html": [
       "<div>\n",
       "<style scoped>\n",
       "    .dataframe tbody tr th:only-of-type {\n",
       "        vertical-align: middle;\n",
       "    }\n",
       "\n",
       "    .dataframe tbody tr th {\n",
       "        vertical-align: top;\n",
       "    }\n",
       "\n",
       "    .dataframe thead th {\n",
       "        text-align: right;\n",
       "    }\n",
       "</style>\n",
       "<table border=\"1\" class=\"dataframe\">\n",
       "  <thead>\n",
       "    <tr style=\"text-align: right;\">\n",
       "      <th></th>\n",
       "      <th>full_name</th>\n",
       "      <th>restricted_stock_deferred</th>\n",
       "    </tr>\n",
       "  </thead>\n",
       "  <tbody>\n",
       "    <tr>\n",
       "      <th>32</th>\n",
       "      <td>DERRICK JR. JAMES V</td>\n",
       "      <td>-1787380.0</td>\n",
       "    </tr>\n",
       "    <tr>\n",
       "      <th>11</th>\n",
       "      <td>BHATNAGAR SANJAY</td>\n",
       "      <td>15456290.0</td>\n",
       "    </tr>\n",
       "  </tbody>\n",
       "</table>\n",
       "</div>"
      ],
      "text/plain": [
       "              full_name  restricted_stock_deferred\n",
       "32  DERRICK JR. JAMES V                 -1787380.0\n",
       "11     BHATNAGAR SANJAY                 15456290.0"
      ]
     },
     "execution_count": 113,
     "metadata": {},
     "output_type": "execute_result"
    }
   ],
   "source": [
    "outliers(df,'restricted_stock_deferred')"
   ]
  },
  {
   "cell_type": "code",
   "execution_count": 114,
   "metadata": {},
   "outputs": [
    {
     "data": {
      "text/plain": [
       "full_name                              BHATNAGAR SANJAY\n",
       "salary                                              NaN\n",
       "to_messages                                         523\n",
       "deferral_payments                                   NaN\n",
       "total_payments                              1.54563e+07\n",
       "loan_advances                                       NaN\n",
       "bonus                                               NaN\n",
       "email_address                sanjay.bhatnagar@enron.com\n",
       "restricted_stock_deferred                   1.54563e+07\n",
       "deferred_income                                     NaN\n",
       "total_stock_value                                   NaN\n",
       "expenses                                            NaN\n",
       "from_poi_to_this_person                               0\n",
       "exercised_stock_options                     2.60449e+06\n",
       "from_messages                                        29\n",
       "other                                            137864\n",
       "from_this_person_to_poi                               1\n",
       "poi                                               False\n",
       "long_term_incentive                                 NaN\n",
       "shared_receipt_with_poi                             463\n",
       "restricted_stock                           -2.60449e+06\n",
       "director_fees                                    137864\n",
       "missing_cols                                          8\n",
       "Name: 11, dtype: object"
      ]
     },
     "execution_count": 114,
     "metadata": {},
     "output_type": "execute_result"
    }
   ],
   "source": [
    "df.query('full_name == \"BHATNAGAR SANJAY\"').iloc[0]"
   ]
  },
  {
   "cell_type": "code",
   "execution_count": 115,
   "metadata": {},
   "outputs": [
    {
     "data": {
      "text/plain": [
       "[(0, 'full_name'),\n",
       " (1, 'salary'),\n",
       " (2, 'to_messages'),\n",
       " (3, 'deferral_payments'),\n",
       " (4, 'total_payments'),\n",
       " (5, 'loan_advances'),\n",
       " (6, 'bonus'),\n",
       " (7, 'email_address'),\n",
       " (8, 'restricted_stock_deferred'),\n",
       " (9, 'deferred_income'),\n",
       " (10, 'total_stock_value'),\n",
       " (11, 'expenses'),\n",
       " (12, 'from_poi_to_this_person'),\n",
       " (13, 'exercised_stock_options'),\n",
       " (14, 'from_messages'),\n",
       " (15, 'other'),\n",
       " (16, 'from_this_person_to_poi'),\n",
       " (17, 'poi'),\n",
       " (18, 'long_term_incentive'),\n",
       " (19, 'shared_receipt_with_poi'),\n",
       " (20, 'restricted_stock'),\n",
       " (21, 'director_fees'),\n",
       " (22, 'missing_cols')]"
      ]
     },
     "execution_count": 115,
     "metadata": {},
     "output_type": "execute_result"
    }
   ],
   "source": [
    "# correct entry for BHATNAGAR SANJAY\n",
    "[(n,c) for n,c in enumerate(df.columns)]"
   ]
  },
  {
   "cell_type": "code",
   "execution_count": 116,
   "metadata": {},
   "outputs": [],
   "source": [
    "nan_cols = [1,6,18,9,3,5,15,21]\n",
    "valid_cols=[11,4,13,20,8,10]\n",
    "cols_values=[137864, 137864, 15456290, 2604490, -2604490, 15456290]"
   ]
  },
  {
   "cell_type": "code",
   "execution_count": 117,
   "metadata": {},
   "outputs": [
    {
     "data": {
      "text/plain": [
       "salary                 NaN\n",
       "bonus                  NaN\n",
       "long_term_incentive    NaN\n",
       "deferred_income        NaN\n",
       "deferral_payments      NaN\n",
       "loan_advances          NaN\n",
       "other                  NaN\n",
       "director_fees          NaN\n",
       "Name: 11, dtype: object"
      ]
     },
     "execution_count": 117,
     "metadata": {},
     "output_type": "execute_result"
    }
   ],
   "source": [
    "df.iloc[11,nan_cols]=np.nan\n",
    "df.iloc[11,nan_cols]"
   ]
  },
  {
   "cell_type": "code",
   "execution_count": 118,
   "metadata": {},
   "outputs": [
    {
     "data": {
      "text/plain": [
       "expenses                          137864\n",
       "total_payments                    137864\n",
       "exercised_stock_options      1.54563e+07\n",
       "restricted_stock             2.60449e+06\n",
       "restricted_stock_deferred   -2.60449e+06\n",
       "total_stock_value            1.54563e+07\n",
       "Name: 11, dtype: object"
      ]
     },
     "execution_count": 118,
     "metadata": {},
     "output_type": "execute_result"
    }
   ],
   "source": [
    "df.iloc[11,valid_cols]=cols_values\n",
    "df.iloc[11,valid_cols]"
   ]
  },
  {
   "cell_type": "code",
   "execution_count": 119,
   "metadata": {},
   "outputs": [
    {
     "data": {
      "text/plain": [
       "full_name                              BHATNAGAR SANJAY\n",
       "salary                                              NaN\n",
       "to_messages                                         523\n",
       "deferral_payments                                   NaN\n",
       "total_payments                                   137864\n",
       "loan_advances                                       NaN\n",
       "bonus                                               NaN\n",
       "email_address                sanjay.bhatnagar@enron.com\n",
       "restricted_stock_deferred                  -2.60449e+06\n",
       "deferred_income                                     NaN\n",
       "total_stock_value                           1.54563e+07\n",
       "expenses                                         137864\n",
       "from_poi_to_this_person                               0\n",
       "exercised_stock_options                     1.54563e+07\n",
       "from_messages                                        29\n",
       "other                                               NaN\n",
       "from_this_person_to_poi                               1\n",
       "poi                                               False\n",
       "long_term_incentive                                 NaN\n",
       "shared_receipt_with_poi                             463\n",
       "restricted_stock                            2.60449e+06\n",
       "director_fees                                       NaN\n",
       "missing_cols                                          8\n",
       "Name: 11, dtype: object"
      ]
     },
     "execution_count": 119,
     "metadata": {},
     "output_type": "execute_result"
    }
   ],
   "source": [
    "df.iloc[11]"
   ]
  },
  {
   "cell_type": "markdown",
   "metadata": {},
   "source": [
    "# Features"
   ]
  },
  {
   "cell_type": "markdown",
   "metadata": {},
   "source": [
    "<div class=\"alert alert-block alert-info\">\n",
    "<h2>Features</h2>\n",
    "<br>\n",
    "What features did you end up using in your POI identifier, and what selection process did you use to pick them? Did you have to do any scaling? Why or why not? As part of the assignment, you should attempt to engineer your own feature that does not come ready-made in the dataset -- explain what feature you tried to make, and the rationale behind it. (You do not necessarily have to use it in the final analysis, only engineer and test it.) In your feature selection step, if you used an algorithm like a decision tree, please also give the feature importances of the features that you use, and if you used an automated feature selection function like SelectKBest, please report the feature scores and reasons for your choice of parameter values.  [relevant rubric items: “create new features”, “intelligently select features”, “properly scale features”]\n",
    "</div>"
   ]
  },
  {
   "cell_type": "markdown",
   "metadata": {},
   "source": [
    "**Features Used**<br>\n",
    "I tested the model through with two different feature selection techniques. First I selected all features where at least 40% of the data was available and then I used an automatic feature selection function to compare results.\n",
    "\n",
    "**Feature Engineering**\n"
   ]
  },
  {
   "cell_type": "code",
   "execution_count": 120,
   "metadata": {},
   "outputs": [],
   "source": [
    "features_list = ['poi']+valid_features"
   ]
  },
  {
   "cell_type": "code",
   "execution_count": 121,
   "metadata": {},
   "outputs": [],
   "source": [
    "# proportion of received messages from poi out of total received messages\n",
    "# and sent messages to poi out of total sent messages\n",
    "df['from_poi_proportion']=df.from_poi_to_this_person/df.from_messages\n",
    "df['to_poi_proportion']=df.from_this_person_to_poi/df.to_messages"
   ]
  },
  {
   "cell_type": "code",
   "execution_count": 122,
   "metadata": {},
   "outputs": [],
   "source": [
    "# bonus to salary ratio\n",
    "df['bonus_to_salary']=df.bonus/df.salary"
   ]
  },
  {
   "cell_type": "code",
   "execution_count": 123,
   "metadata": {},
   "outputs": [],
   "source": [
    "# restricted stock as a proportion of total stock value\n",
    "df['restricted_to_total_stock']=df.restricted_stock/df.total_stock_value"
   ]
  },
  {
   "cell_type": "code",
   "execution_count": 124,
   "metadata": {},
   "outputs": [],
   "source": [
    "# updated features list\n",
    "features_list = features_list + ['from_poi_proportion','to_poi_proportion',\n",
    "                                 'bonus_to_salary','restricted_to_total_stock']"
   ]
  },
  {
   "cell_type": "code",
   "execution_count": 127,
   "metadata": {
    "scrolled": true
   },
   "outputs": [
    {
     "name": "stdout",
     "output_type": "stream",
     "text": [
      "<class 'pandas.core.frame.DataFrame'>\n",
      "Int64Index: 144 entries, 0 to 145\n",
      "Data columns (total 19 columns):\n",
      "poi                          144 non-null bool\n",
      "salary                       144 non-null float64\n",
      "total_payments               144 non-null float64\n",
      "bonus                        144 non-null float64\n",
      "total_stock_value            144 non-null float64\n",
      "expenses                     144 non-null float64\n",
      "exercised_stock_options      144 non-null float64\n",
      "other                        144 non-null float64\n",
      "long_term_incentive          144 non-null float64\n",
      "restricted_stock             144 non-null float64\n",
      "to_messages                  144 non-null float64\n",
      "from_poi_to_this_person      144 non-null float64\n",
      "from_messages                144 non-null float64\n",
      "from_this_person_to_poi      144 non-null float64\n",
      "shared_receipt_with_poi      144 non-null float64\n",
      "from_poi_proportion          144 non-null float64\n",
      "to_poi_proportion            144 non-null float64\n",
      "bonus_to_salary              144 non-null float64\n",
      "restricted_to_total_stock    144 non-null float64\n",
      "dtypes: bool(1), float64(18)\n",
      "memory usage: 26.5 KB\n"
     ]
    }
   ],
   "source": [
    "df[features_list].info()"
   ]
  },
  {
   "cell_type": "code",
   "execution_count": 128,
   "metadata": {},
   "outputs": [],
   "source": [
    "df.fillna(0, inplace=True)"
   ]
  },
  {
   "cell_type": "code",
   "execution_count": 129,
   "metadata": {},
   "outputs": [],
   "source": [
    "### df to dict\n",
    "my_dataset=df.set_index('full_name').to_dict(orient='index')"
   ]
  },
  {
   "cell_type": "code",
   "execution_count": 130,
   "metadata": {},
   "outputs": [],
   "source": [
    "### Extract features and labels from dataset for local testing\n",
    "data = featureFormat(my_dataset, features_list, sort_keys = True)\n",
    "labels, features = targetFeatureSplit(data)"
   ]
  },
  {
   "cell_type": "code",
   "execution_count": 131,
   "metadata": {},
   "outputs": [
    {
     "data": {
      "text/plain": [
       "((143, 19), (143,), (143, 18))"
      ]
     },
     "execution_count": 131,
     "metadata": {},
     "output_type": "execute_result"
    }
   ],
   "source": [
    "data.shape, labels.shape, features.shape"
   ]
  },
  {
   "cell_type": "code",
   "execution_count": 132,
   "metadata": {},
   "outputs": [],
   "source": [
    "from sklearn import feature_selection"
   ]
  },
  {
   "cell_type": "code",
   "execution_count": 133,
   "metadata": {},
   "outputs": [],
   "source": [
    "selec = feature_selection.SelectKBest()"
   ]
  },
  {
   "cell_type": "code",
   "execution_count": 134,
   "metadata": {},
   "outputs": [
    {
     "data": {
      "text/plain": [
       "SelectKBest(k=10, score_func=<function f_classif at 0x1a1b56bb70>)"
      ]
     },
     "execution_count": 134,
     "metadata": {},
     "output_type": "execute_result"
    }
   ],
   "source": [
    "selec.fit(features_train, labels_train)"
   ]
  },
  {
   "cell_type": "code",
   "execution_count": null,
   "metadata": {},
   "outputs": [],
   "source": []
  },
  {
   "cell_type": "markdown",
   "metadata": {},
   "source": [
    "# Classifiers"
   ]
  },
  {
   "cell_type": "markdown",
   "metadata": {},
   "source": [
    "<div class=\"alert alert-block alert-info\">\n",
    "<h2>Classifiers</h2>\n",
    "<br>\n",
    "What algorithm did you end up using? What other one(s) did you try? How did model performance differ between algorithms? [relevant rubric item: “pick an algorithm”]\n",
    "</div>"
   ]
  },
  {
   "cell_type": "code",
   "execution_count": 45,
   "metadata": {},
   "outputs": [],
   "source": [
    "from sklearn import model_selection\n",
    "from sklearn import metrics"
   ]
  },
  {
   "cell_type": "code",
   "execution_count": 46,
   "metadata": {},
   "outputs": [],
   "source": [
    "features_train, features_test, labels_train, labels_test = \\\n",
    "    model_selection.train_test_split(features, labels, test_size=0.3, \n",
    "                                     random_state=42)"
   ]
  },
  {
   "cell_type": "markdown",
   "metadata": {},
   "source": [
    "### Naive Bayes"
   ]
  },
  {
   "cell_type": "code",
   "execution_count": 47,
   "metadata": {},
   "outputs": [],
   "source": [
    "from sklearn.naive_bayes import GaussianNB"
   ]
  },
  {
   "cell_type": "code",
   "execution_count": 48,
   "metadata": {},
   "outputs": [],
   "source": [
    "clf = GaussianNB()"
   ]
  },
  {
   "cell_type": "code",
   "execution_count": 49,
   "metadata": {},
   "outputs": [
    {
     "data": {
      "text/plain": [
       "GaussianNB(priors=None)"
      ]
     },
     "execution_count": 49,
     "metadata": {},
     "output_type": "execute_result"
    }
   ],
   "source": [
    "clf.fit(features_train, labels_train)"
   ]
  },
  {
   "cell_type": "code",
   "execution_count": 50,
   "metadata": {},
   "outputs": [],
   "source": [
    "preds = clf.predict(features_test)"
   ]
  },
  {
   "cell_type": "code",
   "execution_count": 51,
   "metadata": {},
   "outputs": [
    {
     "data": {
      "image/png": "[encoded data removed]",
      "text/plain": [
       "<matplotlib.figure.Figure at 0x1a1b5d89e8>"
      ]
     },
     "metadata": {},
     "output_type": "display_data"
    }
   ],
   "source": [
    "cm = metrics.confusion_matrix(labels_test, preds)\n",
    "plot_confusion_matrix(cm, ['non-poi','poi'], normalize=False)"
   ]
  },
  {
   "cell_type": "code",
   "execution_count": 52,
   "metadata": {},
   "outputs": [
    {
     "name": "stdout",
     "output_type": "stream",
     "text": [
      "recall:  0.4\n",
      "precision:  0.5\n"
     ]
    }
   ],
   "source": [
    "print('recall: ',metrics.recall_score(labels_test, preds))\n",
    "print('precision: ', metrics.precision_score(labels_test, preds))"
   ]
  },
  {
   "cell_type": "markdown",
   "metadata": {},
   "source": [
    "### SVM"
   ]
  },
  {
   "cell_type": "code",
   "execution_count": 53,
   "metadata": {},
   "outputs": [],
   "source": [
    "from sklearn.svm import SVC"
   ]
  },
  {
   "cell_type": "code",
   "execution_count": 54,
   "metadata": {},
   "outputs": [],
   "source": [
    "# Grid search code original source:\n",
    "# http://scikit-learn.org/stable/auto_examples/model_selection/plot_grid_search_digits.html#sphx-glr-auto-examples-model-selection-plot-grid-search-digits-py\n",
    "tuned_parameters = [{'kernel':['rbf','poly', 'sigmoid'],\n",
    "                     'gamma': [1e-3, 1e-4],\n",
    "                     'C': [1,10,100,1000]}]"
   ]
  },
  {
   "cell_type": "code",
   "execution_count": 55,
   "metadata": {},
   "outputs": [],
   "source": [
    "clf = model_selection.GridSearchCV(SVC(), tuned_parameters, \n",
    "                                   return_train_score=True)"
   ]
  },
  {
   "cell_type": "code",
   "execution_count": 56,
   "metadata": {},
   "outputs": [
    {
     "data": {
      "text/plain": [
       "GridSearchCV(cv=None, error_score='raise',\n",
       "       estimator=SVC(C=1.0, cache_size=200, class_weight=None, coef0=0.0,\n",
       "  decision_function_shape='ovr', degree=3, gamma='auto', kernel='rbf',\n",
       "  max_iter=-1, probability=False, random_state=None, shrinking=True,\n",
       "  tol=0.001, verbose=False),\n",
       "       fit_params=None, iid=True, n_jobs=1,\n",
       "       param_grid=[{'kernel': ['rbf', 'poly', 'sigmoid'], 'gamma': [0.001, 0.0001], 'C': [1, 10, 100, 1000]}],\n",
       "       pre_dispatch='2*n_jobs', refit=True, return_train_score=True,\n",
       "       scoring=None, verbose=0)"
      ]
     },
     "execution_count": 56,
     "metadata": {},
     "output_type": "execute_result"
    }
   ],
   "source": [
    "clf.fit(features_train, labels_train)"
   ]
  },
  {
   "cell_type": "code",
   "execution_count": 57,
   "metadata": {},
   "outputs": [
    {
     "data": {
      "text/plain": [
       "{'C': 1, 'gamma': 0.001, 'kernel': 'rbf'}"
      ]
     },
     "execution_count": 57,
     "metadata": {},
     "output_type": "execute_result"
    }
   ],
   "source": [
    "clf.best_params_"
   ]
  },
  {
   "cell_type": "code",
   "execution_count": 58,
   "metadata": {
    "scrolled": false
   },
   "outputs": [
    {
     "name": "stdout",
     "output_type": "stream",
     "text": [
      "best parameters:  {'C': 1, 'gamma': 0.001, 'kernel': 'rbf'}\n",
      "\n",
      "0.870 (+/-0.024) for {'C': 1, 'gamma': 0.001, 'kernel': 'rbf'}\n",
      "0.770 (+/-0.172) for {'C': 1, 'gamma': 0.001, 'kernel': 'poly'}\n",
      "0.830 (+/-0.074) for {'C': 1, 'gamma': 0.001, 'kernel': 'sigmoid'}\n",
      "0.870 (+/-0.024) for {'C': 1, 'gamma': 0.0001, 'kernel': 'rbf'}\n",
      "0.750 (+/-0.125) for {'C': 1, 'gamma': 0.0001, 'kernel': 'poly'}\n",
      "0.830 (+/-0.074) for {'C': 1, 'gamma': 0.0001, 'kernel': 'sigmoid'}\n",
      "0.870 (+/-0.024) for {'C': 10, 'gamma': 0.001, 'kernel': 'rbf'}\n",
      "0.770 (+/-0.172) for {'C': 10, 'gamma': 0.001, 'kernel': 'poly'}\n",
      "0.830 (+/-0.074) for {'C': 10, 'gamma': 0.001, 'kernel': 'sigmoid'}\n",
      "0.870 (+/-0.024) for {'C': 10, 'gamma': 0.0001, 'kernel': 'rbf'}\n",
      "0.750 (+/-0.125) for {'C': 10, 'gamma': 0.0001, 'kernel': 'poly'}\n",
      "0.830 (+/-0.074) for {'C': 10, 'gamma': 0.0001, 'kernel': 'sigmoid'}\n",
      "0.870 (+/-0.024) for {'C': 100, 'gamma': 0.001, 'kernel': 'rbf'}\n",
      "0.770 (+/-0.172) for {'C': 100, 'gamma': 0.001, 'kernel': 'poly'}\n",
      "0.830 (+/-0.074) for {'C': 100, 'gamma': 0.001, 'kernel': 'sigmoid'}\n",
      "0.870 (+/-0.024) for {'C': 100, 'gamma': 0.0001, 'kernel': 'rbf'}\n",
      "0.750 (+/-0.125) for {'C': 100, 'gamma': 0.0001, 'kernel': 'poly'}\n",
      "0.830 (+/-0.074) for {'C': 100, 'gamma': 0.0001, 'kernel': 'sigmoid'}\n",
      "0.870 (+/-0.024) for {'C': 1000, 'gamma': 0.001, 'kernel': 'rbf'}\n",
      "0.770 (+/-0.172) for {'C': 1000, 'gamma': 0.001, 'kernel': 'poly'}\n",
      "0.830 (+/-0.074) for {'C': 1000, 'gamma': 0.001, 'kernel': 'sigmoid'}\n",
      "0.870 (+/-0.024) for {'C': 1000, 'gamma': 0.0001, 'kernel': 'rbf'}\n",
      "0.750 (+/-0.125) for {'C': 1000, 'gamma': 0.0001, 'kernel': 'poly'}\n",
      "0.830 (+/-0.074) for {'C': 1000, 'gamma': 0.0001, 'kernel': 'sigmoid'}\n",
      "\n"
     ]
    }
   ],
   "source": [
    "means = clf.cv_results_['mean_test_score']\n",
    "stds = clf.cv_results_['std_test_score']\n",
    "params = clf.cv_results_['params']\n",
    "\n",
    "print('best parameters: ', clf.best_params_)\n",
    "print()\n",
    "for mean, std, params in zip(means, stds, params):\n",
    "    print(\"%0.3f (+/-%0.03f) for %r\"\n",
    "          % (mean, std * 2, params))\n",
    "print()"
   ]
  },
  {
   "cell_type": "code",
   "execution_count": 59,
   "metadata": {},
   "outputs": [],
   "source": [
    "preds = clf.predict(features_test)"
   ]
  },
  {
   "cell_type": "code",
   "execution_count": 60,
   "metadata": {},
   "outputs": [
    {
     "data": {
      "image/png": "[encoded data removed]",
      "text/plain": [
       "<matplotlib.figure.Figure at 0x1a1b4f7898>"
      ]
     },
     "metadata": {},
     "output_type": "display_data"
    }
   ],
   "source": [
    "cm = metrics.confusion_matrix(labels_test, preds)\n",
    "plot_confusion_matrix(cm, ['non-poi','poi'], normalize=False)"
   ]
  },
  {
   "cell_type": "code",
   "execution_count": 61,
   "metadata": {},
   "outputs": [
    {
     "name": "stdout",
     "output_type": "stream",
     "text": [
      "recall:  0.0\n",
      "precision:  0.0\n"
     ]
    },
    {
     "name": "stderr",
     "output_type": "stream",
     "text": [
      "/anaconda3/lib/python3.6/site-packages/sklearn/metrics/classification.py:1135: UndefinedMetricWarning: Precision is ill-defined and being set to 0.0 due to no predicted samples.\n",
      "  'precision', 'predicted', average, warn_for)\n"
     ]
    }
   ],
   "source": [
    "print('recall: ',metrics.recall_score(labels_test, preds))\n",
    "print('precision: ', metrics.precision_score(labels_test, preds))"
   ]
  },
  {
   "cell_type": "markdown",
   "metadata": {},
   "source": [
    "### K Nearest Neighbours"
   ]
  },
  {
   "cell_type": "code",
   "execution_count": 62,
   "metadata": {},
   "outputs": [],
   "source": [
    "from sklearn.neighbors import KNeighborsClassifier"
   ]
  },
  {
   "cell_type": "code",
   "execution_count": 63,
   "metadata": {},
   "outputs": [],
   "source": [
    "tuned_parameters = [{'n_neighbors':[1,2,3,4,5]}]"
   ]
  },
  {
   "cell_type": "code",
   "execution_count": 64,
   "metadata": {},
   "outputs": [],
   "source": [
    "clf = model_selection.GridSearchCV(KNeighborsClassifier(), tuned_parameters,\n",
    "                                   return_train_score=True)"
   ]
  },
  {
   "cell_type": "code",
   "execution_count": 65,
   "metadata": {},
   "outputs": [
    {
     "data": {
      "text/plain": [
       "GridSearchCV(cv=None, error_score='raise',\n",
       "       estimator=KNeighborsClassifier(algorithm='auto', leaf_size=30, metric='minkowski',\n",
       "           metric_params=None, n_jobs=1, n_neighbors=5, p=2,\n",
       "           weights='uniform'),\n",
       "       fit_params=None, iid=True, n_jobs=1,\n",
       "       param_grid=[{'n_neighbors': [1, 2, 3, 4, 5]}],\n",
       "       pre_dispatch='2*n_jobs', refit=True, return_train_score=True,\n",
       "       scoring=None, verbose=0)"
      ]
     },
     "execution_count": 65,
     "metadata": {},
     "output_type": "execute_result"
    }
   ],
   "source": [
    "clf.fit(features_train, labels_train)"
   ]
  },
  {
   "cell_type": "code",
   "execution_count": 66,
   "metadata": {},
   "outputs": [
    {
     "name": "stdout",
     "output_type": "stream",
     "text": [
      "best parameters:  {'n_neighbors': 2}\n",
      "\n",
      "0.820 (+/-0.258) for {'n_neighbors': 1}\n",
      "0.880 (+/-0.046) for {'n_neighbors': 2}\n",
      "0.880 (+/-0.049) for {'n_neighbors': 3}\n",
      "0.870 (+/-0.024) for {'n_neighbors': 4}\n",
      "0.870 (+/-0.024) for {'n_neighbors': 5}\n",
      "\n"
     ]
    }
   ],
   "source": [
    "means = clf.cv_results_['mean_test_score']\n",
    "stds = clf.cv_results_['std_test_score']\n",
    "params = clf.cv_results_['params']\n",
    "\n",
    "print('best parameters: ', clf.best_params_)\n",
    "print()\n",
    "for mean, std, params in zip(means, stds, params):\n",
    "    print(\"%0.3f (+/-%0.03f) for %r\"\n",
    "          % (mean, std * 2, params))\n",
    "print()"
   ]
  },
  {
   "cell_type": "code",
   "execution_count": 67,
   "metadata": {},
   "outputs": [],
   "source": [
    "preds = clf.predict(features_test)"
   ]
  },
  {
   "cell_type": "code",
   "execution_count": 68,
   "metadata": {},
   "outputs": [
    {
     "data": {
      "image/png": "[encoded data removed]",
      "text/plain": [
       "<matplotlib.figure.Figure at 0x1a1b30dc88>"
      ]
     },
     "metadata": {},
     "output_type": "display_data"
    }
   ],
   "source": [
    "cm = metrics.confusion_matrix(labels_test, preds)\n",
    "plot_confusion_matrix(cm, ['non-poi','poi'], normalize=False)"
   ]
  },
  {
   "cell_type": "code",
   "execution_count": 69,
   "metadata": {},
   "outputs": [
    {
     "name": "stdout",
     "output_type": "stream",
     "text": [
      "recall:  0.0\n",
      "precision:  0.0\n"
     ]
    }
   ],
   "source": [
    "print('recall: ',metrics.recall_score(labels_test, preds))\n",
    "print('precision: ', metrics.precision_score(labels_test, preds))"
   ]
  },
  {
   "cell_type": "markdown",
   "metadata": {},
   "source": [
    "### Random Forest"
   ]
  },
  {
   "cell_type": "code",
   "execution_count": 70,
   "metadata": {},
   "outputs": [],
   "source": [
    "from sklearn.ensemble import RandomForestClassifier"
   ]
  },
  {
   "cell_type": "code",
   "execution_count": 71,
   "metadata": {},
   "outputs": [],
   "source": [
    "tuned_parameters=[{'n_estimators':[2,4,6,8,10,20],\n",
    "                   'min_samples_split':[2,4,6,10]}]"
   ]
  },
  {
   "cell_type": "code",
   "execution_count": 72,
   "metadata": {},
   "outputs": [],
   "source": [
    "clf = model_selection.GridSearchCV(RandomForestClassifier(),\n",
    "                                   tuned_parameters, return_train_score=True)"
   ]
  },
  {
   "cell_type": "code",
   "execution_count": 73,
   "metadata": {},
   "outputs": [
    {
     "data": {
      "text/plain": [
       "GridSearchCV(cv=None, error_score='raise',\n",
       "       estimator=RandomForestClassifier(bootstrap=True, class_weight=None, criterion='gini',\n",
       "            max_depth=None, max_features='auto', max_leaf_nodes=None,\n",
       "            min_impurity_decrease=0.0, min_impurity_split=None,\n",
       "            min_samples_leaf=1, min_samples_split=2,\n",
       "            min_weight_fraction_leaf=0.0, n_estimators=10, n_jobs=1,\n",
       "            oob_score=False, random_state=None, verbose=0,\n",
       "            warm_start=False),\n",
       "       fit_params=None, iid=True, n_jobs=1,\n",
       "       param_grid=[{'n_estimators': [2, 4, 6, 8, 10, 20], 'min_samples_split': [2, 4, 6, 10]}],\n",
       "       pre_dispatch='2*n_jobs', refit=True, return_train_score=True,\n",
       "       scoring=None, verbose=0)"
      ]
     },
     "execution_count": 73,
     "metadata": {},
     "output_type": "execute_result"
    }
   ],
   "source": [
    "clf.fit(features_train, labels_train)"
   ]
  },
  {
   "cell_type": "code",
   "execution_count": 74,
   "metadata": {},
   "outputs": [
    {
     "name": "stdout",
     "output_type": "stream",
     "text": [
      "best parameters:  {'min_samples_split': 4, 'n_estimators': 10}\n",
      "\n",
      "0.840 (+/-0.108) for {'min_samples_split': 2, 'n_estimators': 2}\n",
      "0.860 (+/-0.075) for {'min_samples_split': 2, 'n_estimators': 4}\n",
      "0.830 (+/-0.136) for {'min_samples_split': 2, 'n_estimators': 6}\n",
      "0.850 (+/-0.049) for {'min_samples_split': 2, 'n_estimators': 8}\n",
      "0.850 (+/-0.045) for {'min_samples_split': 2, 'n_estimators': 10}\n",
      "0.860 (+/-0.027) for {'min_samples_split': 2, 'n_estimators': 20}\n",
      "0.860 (+/-0.075) for {'min_samples_split': 4, 'n_estimators': 2}\n",
      "0.870 (+/-0.030) for {'min_samples_split': 4, 'n_estimators': 4}\n",
      "0.860 (+/-0.027) for {'min_samples_split': 4, 'n_estimators': 6}\n",
      "0.810 (+/-0.054) for {'min_samples_split': 4, 'n_estimators': 8}\n",
      "0.890 (+/-0.031) for {'min_samples_split': 4, 'n_estimators': 10}\n",
      "0.850 (+/-0.045) for {'min_samples_split': 4, 'n_estimators': 20}\n",
      "0.790 (+/-0.099) for {'min_samples_split': 6, 'n_estimators': 2}\n",
      "0.830 (+/-0.026) for {'min_samples_split': 6, 'n_estimators': 4}\n",
      "0.820 (+/-0.124) for {'min_samples_split': 6, 'n_estimators': 6}\n",
      "0.850 (+/-0.099) for {'min_samples_split': 6, 'n_estimators': 8}\n",
      "0.860 (+/-0.052) for {'min_samples_split': 6, 'n_estimators': 10}\n",
      "0.860 (+/-0.027) for {'min_samples_split': 6, 'n_estimators': 20}\n",
      "0.800 (+/-0.026) for {'min_samples_split': 10, 'n_estimators': 2}\n",
      "0.840 (+/-0.108) for {'min_samples_split': 10, 'n_estimators': 4}\n",
      "0.820 (+/-0.045) for {'min_samples_split': 10, 'n_estimators': 6}\n",
      "0.870 (+/-0.024) for {'min_samples_split': 10, 'n_estimators': 8}\n",
      "0.860 (+/-0.052) for {'min_samples_split': 10, 'n_estimators': 10}\n",
      "0.870 (+/-0.071) for {'min_samples_split': 10, 'n_estimators': 20}\n",
      "\n"
     ]
    }
   ],
   "source": [
    "means = clf.cv_results_['mean_test_score']\n",
    "stds = clf.cv_results_['std_test_score']\n",
    "params = clf.cv_results_['params']\n",
    "\n",
    "print('best parameters: ', clf.best_params_)\n",
    "print()\n",
    "for mean, std, params in zip(means, stds, params):\n",
    "    print(\"%0.3f (+/-%0.03f) for %r\"\n",
    "          % (mean, std * 2, params))\n",
    "print()"
   ]
  },
  {
   "cell_type": "code",
   "execution_count": 75,
   "metadata": {},
   "outputs": [],
   "source": [
    "preds = clf.predict(features_test)"
   ]
  },
  {
   "cell_type": "code",
   "execution_count": 76,
   "metadata": {},
   "outputs": [
    {
     "data": {
      "image/png": "[encoded data removed]",
      "text/plain": [
       "<matplotlib.figure.Figure at 0x1a1b43bf28>"
      ]
     },
     "metadata": {},
     "output_type": "display_data"
    }
   ],
   "source": [
    "cm = metrics.confusion_matrix(labels_test, preds)\n",
    "plot_confusion_matrix(cm, ['non-poi','poi'], normalize=False)"
   ]
  },
  {
   "cell_type": "code",
   "execution_count": 77,
   "metadata": {},
   "outputs": [
    {
     "name": "stdout",
     "output_type": "stream",
     "text": [
      "recall:  0.4\n",
      "precision:  0.6666666666666666\n"
     ]
    }
   ],
   "source": [
    "print('recall: ',metrics.recall_score(labels_test, preds))\n",
    "print('precision: ', metrics.precision_score(labels_test, preds))"
   ]
  },
  {
   "cell_type": "markdown",
   "metadata": {},
   "source": [
    "### AdaBoost"
   ]
  },
  {
   "cell_type": "code",
   "execution_count": 78,
   "metadata": {},
   "outputs": [],
   "source": [
    "from sklearn.ensemble import AdaBoostClassifier"
   ]
  },
  {
   "cell_type": "code",
   "execution_count": 79,
   "metadata": {},
   "outputs": [],
   "source": [
    "tuned_parameters = [{'n_estimators': [25, 50, 100],\n",
    "                     'learning_rate': [.5, 1., 1.5]}]"
   ]
  },
  {
   "cell_type": "code",
   "execution_count": 80,
   "metadata": {},
   "outputs": [],
   "source": [
    "clf = model_selection.GridSearchCV(AdaBoostClassifier(),\n",
    "                                   tuned_parameters, return_train_score=True)"
   ]
  },
  {
   "cell_type": "code",
   "execution_count": 81,
   "metadata": {},
   "outputs": [
    {
     "data": {
      "text/plain": [
       "GridSearchCV(cv=None, error_score='raise',\n",
       "       estimator=AdaBoostClassifier(algorithm='SAMME.R', base_estimator=None,\n",
       "          learning_rate=1.0, n_estimators=50, random_state=None),\n",
       "       fit_params=None, iid=True, n_jobs=1,\n",
       "       param_grid=[{'n_estimators': [25, 50, 100], 'learning_rate': [0.5, 1.0, 1.5]}],\n",
       "       pre_dispatch='2*n_jobs', refit=True, return_train_score=True,\n",
       "       scoring=None, verbose=0)"
      ]
     },
     "execution_count": 81,
     "metadata": {},
     "output_type": "execute_result"
    }
   ],
   "source": [
    "clf.fit(features_train, labels_train)"
   ]
  },
  {
   "cell_type": "code",
   "execution_count": 82,
   "metadata": {},
   "outputs": [
    {
     "name": "stdout",
     "output_type": "stream",
     "text": [
      "best parameters:  {'learning_rate': 1.5, 'n_estimators': 50}\n",
      "\n",
      "0.780 (+/-0.101) for {'learning_rate': 0.5, 'n_estimators': 25}\n",
      "0.790 (+/-0.088) for {'learning_rate': 0.5, 'n_estimators': 50}\n",
      "0.780 (+/-0.117) for {'learning_rate': 0.5, 'n_estimators': 100}\n",
      "0.770 (+/-0.118) for {'learning_rate': 1.0, 'n_estimators': 25}\n",
      "0.800 (+/-0.104) for {'learning_rate': 1.0, 'n_estimators': 50}\n",
      "0.770 (+/-0.104) for {'learning_rate': 1.0, 'n_estimators': 100}\n",
      "0.820 (+/-0.132) for {'learning_rate': 1.5, 'n_estimators': 25}\n",
      "0.830 (+/-0.071) for {'learning_rate': 1.5, 'n_estimators': 50}\n",
      "0.820 (+/-0.088) for {'learning_rate': 1.5, 'n_estimators': 100}\n",
      "\n"
     ]
    }
   ],
   "source": [
    "means = clf.cv_results_['mean_test_score']\n",
    "stds = clf.cv_results_['std_test_score']\n",
    "params = clf.cv_results_['params']\n",
    "\n",
    "print('best parameters: ', clf.best_params_)\n",
    "print()\n",
    "for mean, std, params in zip(means, stds, params):\n",
    "    print(\"%0.3f (+/-%0.03f) for %r\"\n",
    "          % (mean, std * 2, params))\n",
    "print()"
   ]
  },
  {
   "cell_type": "code",
   "execution_count": 83,
   "metadata": {},
   "outputs": [],
   "source": [
    "preds = clf.predict(features_test)"
   ]
  },
  {
   "cell_type": "code",
   "execution_count": 84,
   "metadata": {},
   "outputs": [
    {
     "data": {
      "image/png": "[encoded data removed]",
      "text/plain": [
       "<matplotlib.figure.Figure at 0x1a1b40eba8>"
      ]
     },
     "metadata": {},
     "output_type": "display_data"
    }
   ],
   "source": [
    "cm = metrics.confusion_matrix(labels_test, preds)\n",
    "plot_confusion_matrix(cm, ['non-poi','poi'], normalize=False)"
   ]
  },
  {
   "cell_type": "code",
   "execution_count": 85,
   "metadata": {},
   "outputs": [
    {
     "name": "stdout",
     "output_type": "stream",
     "text": [
      "recall:  0.2\n",
      "precision:  0.3333333333333333\n"
     ]
    }
   ],
   "source": [
    "print('recall: ',metrics.recall_score(labels_test, preds))\n",
    "print('precision: ', metrics.precision_score(labels_test, preds))"
   ]
  },
  {
   "cell_type": "markdown",
   "metadata": {},
   "source": [
    "## Task 5"
   ]
  },
  {
   "cell_type": "code",
   "execution_count": null,
   "metadata": {},
   "outputs": [],
   "source": []
  },
  {
   "cell_type": "code",
   "execution_count": 86,
   "metadata": {},
   "outputs": [],
   "source": [
    "### Task 5: Tune your classifier to achieve better than .3 precision and recall \n",
    "### using our testing script. Check the tester.py script in the final project\n",
    "### folder for details on the evaluation method, especially the test_classifier\n",
    "### function. Because of the small size of the dataset, the script uses\n",
    "### stratified shuffle split cross validation. For more info: \n",
    "### http://scikit-learn.org/stable/modules/generated/sklearn.cross_validation.StratifiedShuffleSplit.html\n",
    "\n",
    "# Example starting point. Try investigating other evaluation techniques!\n",
    "#from sklearn.cross_validation import train_test_split\n",
    "#features_train, features_test, labels_train, labels_test = \\\n",
    "#    train_test_split(features, labels, test_size=0.3, random_state=42)"
   ]
  },
  {
   "cell_type": "markdown",
   "metadata": {},
   "source": [
    "## Task 6"
   ]
  },
  {
   "cell_type": "code",
   "execution_count": 87,
   "metadata": {},
   "outputs": [],
   "source": [
    "### Task 6: Dump your classifier, dataset, and features_list so anyone can\n",
    "### check your results. You do not need to change anything below, but make sure\n",
    "### that the version of poi_id.py that you submit can be run on its own and\n",
    "### generates the necessary .pkl files for validating your results.\n",
    "\n",
    "#dump_classifier_and_data(clf, my_dataset, features_list)"
   ]
  },
  {
   "cell_type": "markdown",
   "metadata": {},
   "source": [
    "## Questions"
   ]
  },
  {
   "cell_type": "markdown",
   "metadata": {},
   "source": [
    "1. Summarize for us the goal of this project and how machine learning is useful in trying to accomplish it. As part of your answer, give some background on the dataset and how it can be used to answer the project question. Were there any outliers in the data when you got it, and how did you handle those?  [relevant rubric items: “data exploration”, “outlier investigation”]\n",
    "\n",
    "2. What features did you end up using in your POI identifier, and what selection process did you use to pick them? Did you have to do any scaling? Why or why not? As part of the assignment, you should attempt to engineer your own feature that does not come ready-made in the dataset -- explain what feature you tried to make, and the rationale behind it. (You do not necessarily have to use it in the final analysis, only engineer and test it.) In your feature selection step, if you used an algorithm like a decision tree, please also give the feature importances of the features that you use, and if you used an automated feature selection function like SelectKBest, please report the feature scores and reasons for your choice of parameter values.  [relevant rubric items: “create new features”, “intelligently select features”, “properly scale features”]\n",
    "\n",
    "3. What algorithm did you end up using? What other one(s) did you try? How did model performance differ between algorithms?  [relevant rubric item: “pick an algorithm”]\n",
    "\n",
    "4. What does it mean to tune the parameters of an algorithm, and what can happen if you don’t do this well?  How did you tune the parameters of your particular algorithm? What parameters did you tune? (Some algorithms do not have parameters that you need to tune -- if this is the case for the one you picked, identify and briefly explain how you would have done it for the model that was not your final choice or a different model that does utilize parameter tuning, e.g. a decision tree classifier).  [relevant rubric items: “discuss parameter tuning”, “tune the algorithm”]\n",
    "\n",
    "5. What is validation, and what’s a classic mistake you can make if you do it wrong? How did you validate your analysis?  [relevant rubric items: “discuss validation”, “validation strategy”]\n",
    "\n",
    "6. Give at least 2 evaluation metrics and your average performance for each of them.  Explain an interpretation of your metrics that says something human-understandable about your algorithm’s performance. [relevant rubric item: “usage of evaluation metrics”]\n",
    "\n"
   ]
  },
  {
   "cell_type": "markdown",
   "metadata": {},
   "source": [
    "# Resources"
   ]
  },
  {
   "cell_type": "markdown",
   "metadata": {},
   "source": [
    "* https://www.ibm.com/support/knowledgecenter/SSQNUZ_current/com.ibm.icpdata.doc/dsx/markd-jupyter.html\n",
    "* https://datascience.stackexchange.com/questions/6838/when-to-use-random-forest-over-svm-and-vice-versa?newreg=9993c5ac29264444af406d7de90a1751\n",
    "* https://towardsdatascience.com/the-random-forest-algorithm-d457d499ffcd\n",
    "* https://medium.com/@adi.bronshtein/a-quick-introduction-to-k-nearest-neighbors-algorithm-62214cea29c7\n",
    "* SKLearn Documentation"
   ]
  }
 ],
 "metadata": {
  "kernelspec": {
   "display_name": "Python 3",
   "language": "python",
   "name": "python3"
  },
  "language_info": {
   "codemirror_mode": {
    "name": "ipython",
    "version": 3
   },
   "file_extension": ".py",
   "mimetype": "text/x-python",
   "name": "python",
   "nbconvert_exporter": "python",
   "pygments_lexer": "ipython3",
   "version": "3.6.4"
  },
  "varInspector": {
   "cols": {
    "lenName": 16,
    "lenType": 16,
    "lenVar": 40
   },
   "kernels_config": {
    "python": {
     "delete_cmd_postfix": "",
     "delete_cmd_prefix": "del ",
     "library": "var_list.py",
     "varRefreshCmd": "print(var_dic_list())"
    },
    "r": {
     "delete_cmd_postfix": ") ",
     "delete_cmd_prefix": "rm(",
     "library": "var_list.r",
     "varRefreshCmd": "cat(var_dic_list()) "
    }
   },
   "position": {
    "height": "144px",
    "left": "910px",
    "right": "20px",
    "top": "121px",
    "width": "350px"
   },
   "types_to_exclude": [
    "module",
    "function",
    "builtin_function_or_method",
    "instance",
    "_Feature"
   ],
   "window_display": false
  }
 },
 "nbformat": 4,
 "nbformat_minor": 2
}

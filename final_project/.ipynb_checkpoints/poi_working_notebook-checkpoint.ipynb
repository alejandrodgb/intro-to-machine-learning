{
 "cells": [
  {
   "cell_type": "markdown",
   "metadata": {},
   "source": [
    "# Imports"
   ]
  },
  {
   "cell_type": "code",
   "execution_count": 1,
   "metadata": {},
   "outputs": [],
   "source": [
    "import sys\n",
    "import pickle\n",
    "import pandas as pd\n",
    "from matplotlib import pyplot as plt\n",
    "import numpy as np\n",
    "from scipy import stats \n",
    "sys.path.append(\"../tools/\")\n",
    "\n",
    "from feature_format import featureFormat, targetFeatureSplit\n",
    "from tester import dump_classifier_and_data, test_classifier\n",
    "from custom_procs import plot_confusion_matrix\n",
    "\n",
    "%matplotlib inline\n",
    "%reload_ext autoreload\n",
    "%autoreload 2"
   ]
  },
  {
   "cell_type": "markdown",
   "metadata": {
    "heading_collapsed": true
   },
   "source": [
    "# Task 1\n",
    "\n",
    "Select what features you'll use. <br>\n",
    "features_list is a list of strings, each of which is a feature name.<br>\n",
    "The first feature must be \"poi\"."
   ]
  },
  {
   "cell_type": "code",
   "execution_count": 2,
   "metadata": {
    "hidden": true
   },
   "outputs": [],
   "source": [
    "### Load the dictionary containing the dataset\n",
    "with open(\"final_project_dataset.pkl\", \"rb\") as data_file:\n",
    "    data_dict = pickle.load(data_file)"
   ]
  },
  {
   "cell_type": "code",
   "execution_count": 3,
   "metadata": {
    "hidden": true
   },
   "outputs": [],
   "source": [
    "df = pd.DataFrame.from_dict(data_dict, orient='index')\n",
    "df.reset_index(inplace=True)\n",
    "df.rename(columns={'index':'full_name'}, inplace=True)"
   ]
  },
  {
   "cell_type": "code",
   "execution_count": 4,
   "metadata": {
    "hidden": true
   },
   "outputs": [
    {
     "data": {
      "text/html": [
       "<div>\n",
       "<style scoped>\n",
       "    .dataframe tbody tr th:only-of-type {\n",
       "        vertical-align: middle;\n",
       "    }\n",
       "\n",
       "    .dataframe tbody tr th {\n",
       "        vertical-align: top;\n",
       "    }\n",
       "\n",
       "    .dataframe thead th {\n",
       "        text-align: right;\n",
       "    }\n",
       "</style>\n",
       "<table border=\"1\" class=\"dataframe\">\n",
       "  <thead>\n",
       "    <tr style=\"text-align: right;\">\n",
       "      <th></th>\n",
       "      <th>full_name</th>\n",
       "      <th>salary</th>\n",
       "      <th>to_messages</th>\n",
       "      <th>deferral_payments</th>\n",
       "      <th>total_payments</th>\n",
       "      <th>loan_advances</th>\n",
       "      <th>bonus</th>\n",
       "      <th>email_address</th>\n",
       "      <th>restricted_stock_deferred</th>\n",
       "      <th>deferred_income</th>\n",
       "      <th>...</th>\n",
       "      <th>from_poi_to_this_person</th>\n",
       "      <th>exercised_stock_options</th>\n",
       "      <th>from_messages</th>\n",
       "      <th>other</th>\n",
       "      <th>from_this_person_to_poi</th>\n",
       "      <th>poi</th>\n",
       "      <th>long_term_incentive</th>\n",
       "      <th>shared_receipt_with_poi</th>\n",
       "      <th>restricted_stock</th>\n",
       "      <th>director_fees</th>\n",
       "    </tr>\n",
       "  </thead>\n",
       "  <tbody>\n",
       "    <tr>\n",
       "      <th>0</th>\n",
       "      <td>ALLEN PHILLIP K</td>\n",
       "      <td>201955</td>\n",
       "      <td>2902</td>\n",
       "      <td>2869717</td>\n",
       "      <td>4484442</td>\n",
       "      <td>NaN</td>\n",
       "      <td>4175000</td>\n",
       "      <td>phillip.allen@enron.com</td>\n",
       "      <td>-126027</td>\n",
       "      <td>-3081055</td>\n",
       "      <td>...</td>\n",
       "      <td>47</td>\n",
       "      <td>1729541</td>\n",
       "      <td>2195</td>\n",
       "      <td>152</td>\n",
       "      <td>65</td>\n",
       "      <td>False</td>\n",
       "      <td>304805</td>\n",
       "      <td>1407</td>\n",
       "      <td>126027</td>\n",
       "      <td>NaN</td>\n",
       "    </tr>\n",
       "    <tr>\n",
       "      <th>1</th>\n",
       "      <td>BADUM JAMES P</td>\n",
       "      <td>NaN</td>\n",
       "      <td>NaN</td>\n",
       "      <td>178980</td>\n",
       "      <td>182466</td>\n",
       "      <td>NaN</td>\n",
       "      <td>NaN</td>\n",
       "      <td>NaN</td>\n",
       "      <td>NaN</td>\n",
       "      <td>NaN</td>\n",
       "      <td>...</td>\n",
       "      <td>NaN</td>\n",
       "      <td>257817</td>\n",
       "      <td>NaN</td>\n",
       "      <td>NaN</td>\n",
       "      <td>NaN</td>\n",
       "      <td>False</td>\n",
       "      <td>NaN</td>\n",
       "      <td>NaN</td>\n",
       "      <td>NaN</td>\n",
       "      <td>NaN</td>\n",
       "    </tr>\n",
       "    <tr>\n",
       "      <th>2</th>\n",
       "      <td>BANNANTINE JAMES M</td>\n",
       "      <td>477</td>\n",
       "      <td>566</td>\n",
       "      <td>NaN</td>\n",
       "      <td>916197</td>\n",
       "      <td>NaN</td>\n",
       "      <td>NaN</td>\n",
       "      <td>james.bannantine@enron.com</td>\n",
       "      <td>-560222</td>\n",
       "      <td>-5104</td>\n",
       "      <td>...</td>\n",
       "      <td>39</td>\n",
       "      <td>4046157</td>\n",
       "      <td>29</td>\n",
       "      <td>864523</td>\n",
       "      <td>0</td>\n",
       "      <td>False</td>\n",
       "      <td>NaN</td>\n",
       "      <td>465</td>\n",
       "      <td>1757552</td>\n",
       "      <td>NaN</td>\n",
       "    </tr>\n",
       "    <tr>\n",
       "      <th>3</th>\n",
       "      <td>BAXTER JOHN C</td>\n",
       "      <td>267102</td>\n",
       "      <td>NaN</td>\n",
       "      <td>1295738</td>\n",
       "      <td>5634343</td>\n",
       "      <td>NaN</td>\n",
       "      <td>1200000</td>\n",
       "      <td>NaN</td>\n",
       "      <td>NaN</td>\n",
       "      <td>-1386055</td>\n",
       "      <td>...</td>\n",
       "      <td>NaN</td>\n",
       "      <td>6680544</td>\n",
       "      <td>NaN</td>\n",
       "      <td>2660303</td>\n",
       "      <td>NaN</td>\n",
       "      <td>False</td>\n",
       "      <td>1586055</td>\n",
       "      <td>NaN</td>\n",
       "      <td>3942714</td>\n",
       "      <td>NaN</td>\n",
       "    </tr>\n",
       "    <tr>\n",
       "      <th>4</th>\n",
       "      <td>BAY FRANKLIN R</td>\n",
       "      <td>239671</td>\n",
       "      <td>NaN</td>\n",
       "      <td>260455</td>\n",
       "      <td>827696</td>\n",
       "      <td>NaN</td>\n",
       "      <td>400000</td>\n",
       "      <td>frank.bay@enron.com</td>\n",
       "      <td>-82782</td>\n",
       "      <td>-201641</td>\n",
       "      <td>...</td>\n",
       "      <td>NaN</td>\n",
       "      <td>NaN</td>\n",
       "      <td>NaN</td>\n",
       "      <td>69</td>\n",
       "      <td>NaN</td>\n",
       "      <td>False</td>\n",
       "      <td>NaN</td>\n",
       "      <td>NaN</td>\n",
       "      <td>145796</td>\n",
       "      <td>NaN</td>\n",
       "    </tr>\n",
       "  </tbody>\n",
       "</table>\n",
       "<p>5 rows × 22 columns</p>\n",
       "</div>"
      ],
      "text/plain": [
       "            full_name  salary to_messages deferral_payments total_payments  \\\n",
       "0     ALLEN PHILLIP K  201955        2902           2869717        4484442   \n",
       "1       BADUM JAMES P     NaN         NaN            178980         182466   \n",
       "2  BANNANTINE JAMES M     477         566               NaN         916197   \n",
       "3       BAXTER JOHN C  267102         NaN           1295738        5634343   \n",
       "4      BAY FRANKLIN R  239671         NaN            260455         827696   \n",
       "\n",
       "  loan_advances    bonus               email_address  \\\n",
       "0           NaN  4175000     phillip.allen@enron.com   \n",
       "1           NaN      NaN                         NaN   \n",
       "2           NaN      NaN  james.bannantine@enron.com   \n",
       "3           NaN  1200000                         NaN   \n",
       "4           NaN   400000         frank.bay@enron.com   \n",
       "\n",
       "  restricted_stock_deferred deferred_income      ...       \\\n",
       "0                   -126027        -3081055      ...        \n",
       "1                       NaN             NaN      ...        \n",
       "2                   -560222           -5104      ...        \n",
       "3                       NaN        -1386055      ...        \n",
       "4                    -82782         -201641      ...        \n",
       "\n",
       "  from_poi_to_this_person exercised_stock_options from_messages    other  \\\n",
       "0                      47                 1729541          2195      152   \n",
       "1                     NaN                  257817           NaN      NaN   \n",
       "2                      39                 4046157            29   864523   \n",
       "3                     NaN                 6680544           NaN  2660303   \n",
       "4                     NaN                     NaN           NaN       69   \n",
       "\n",
       "  from_this_person_to_poi    poi long_term_incentive  shared_receipt_with_poi  \\\n",
       "0                      65  False              304805                     1407   \n",
       "1                     NaN  False                 NaN                      NaN   \n",
       "2                       0  False                 NaN                      465   \n",
       "3                     NaN  False             1586055                      NaN   \n",
       "4                     NaN  False                 NaN                      NaN   \n",
       "\n",
       "  restricted_stock director_fees  \n",
       "0           126027           NaN  \n",
       "1              NaN           NaN  \n",
       "2          1757552           NaN  \n",
       "3          3942714           NaN  \n",
       "4           145796           NaN  \n",
       "\n",
       "[5 rows x 22 columns]"
      ]
     },
     "execution_count": 4,
     "metadata": {},
     "output_type": "execute_result"
    }
   ],
   "source": [
    "df.head()"
   ]
  },
  {
   "cell_type": "code",
   "execution_count": 5,
   "metadata": {
    "hidden": true
   },
   "outputs": [
    {
     "data": {
      "text/plain": [
       "Index(['full_name', 'salary', 'to_messages', 'deferral_payments',\n",
       "       'total_payments', 'loan_advances', 'bonus', 'email_address',\n",
       "       'restricted_stock_deferred', 'deferred_income', 'total_stock_value',\n",
       "       'expenses', 'from_poi_to_this_person', 'exercised_stock_options',\n",
       "       'from_messages', 'other', 'from_this_person_to_poi', 'poi',\n",
       "       'long_term_incentive', 'shared_receipt_with_poi', 'restricted_stock',\n",
       "       'director_fees'],\n",
       "      dtype='object')"
      ]
     },
     "execution_count": 5,
     "metadata": {},
     "output_type": "execute_result"
    }
   ],
   "source": [
    "# looking at all available features\n",
    "df.columns"
   ]
  },
  {
   "cell_type": "code",
   "execution_count": 6,
   "metadata": {
    "hidden": true
   },
   "outputs": [],
   "source": [
    "# classifying the columns and modifying dataframe\n",
    "continuous_features = ['salary', 'deferral_payments', 'total_payments', \n",
    "                      'loan_advances', 'bonus', 'restricted_stock_deferred', \n",
    "                      'deferred_income', 'total_stock_value', 'expenses', \n",
    "                      'exercised_stock_options', 'other', 'long_term_incentive',\n",
    "                      'restricted_stock', 'director_fees', 'to_messages', \n",
    "                       'from_poi_to_this_person', 'from_messages', \n",
    "                       'from_this_person_to_poi', 'shared_receipt_with_poi']\n",
    "\n",
    "email_features= ['to_messages', 'from_poi_to_this_person', 'from_messages',\n",
    "                 'from_this_person_to_poi', 'shared_receipt_with_poi']\n",
    "\n",
    "for feat in continuous_features:\n",
    "    df[feat]=df[feat].astype(float)"
   ]
  },
  {
   "cell_type": "code",
   "execution_count": 7,
   "metadata": {
    "hidden": true
   },
   "outputs": [
    {
     "data": {
      "text/plain": [
       "5    86\n",
       "0    60\n",
       "dtype: int64"
      ]
     },
     "execution_count": 7,
     "metadata": {},
     "output_type": "execute_result"
    }
   ],
   "source": [
    "# check whether all rows with email information are complete\n",
    "df[email_features].apply(lambda x: x==x).sum(axis=1).value_counts()"
   ]
  },
  {
   "cell_type": "code",
   "execution_count": 8,
   "metadata": {
    "hidden": true
   },
   "outputs": [
    {
     "data": {
      "text/html": [
       "<div>\n",
       "<style scoped>\n",
       "    .dataframe tbody tr th:only-of-type {\n",
       "        vertical-align: middle;\n",
       "    }\n",
       "\n",
       "    .dataframe tbody tr th {\n",
       "        vertical-align: top;\n",
       "    }\n",
       "\n",
       "    .dataframe thead th {\n",
       "        text-align: right;\n",
       "    }\n",
       "</style>\n",
       "<table border=\"1\" class=\"dataframe\">\n",
       "  <thead>\n",
       "    <tr style=\"text-align: right;\">\n",
       "      <th></th>\n",
       "      <th>feature</th>\n",
       "      <th>total</th>\n",
       "      <th>available</th>\n",
       "      <th>poi</th>\n",
       "      <th>prop_available</th>\n",
       "      <th>prop_poi_total</th>\n",
       "      <th>propr_poi_available</th>\n",
       "    </tr>\n",
       "  </thead>\n",
       "  <tbody>\n",
       "    <tr>\n",
       "      <th>0</th>\n",
       "      <td>salary</td>\n",
       "      <td>146</td>\n",
       "      <td>95</td>\n",
       "      <td>17</td>\n",
       "      <td>0.650685</td>\n",
       "      <td>0.116438</td>\n",
       "      <td>0.178947</td>\n",
       "    </tr>\n",
       "    <tr>\n",
       "      <th>1</th>\n",
       "      <td>deferral_payments</td>\n",
       "      <td>146</td>\n",
       "      <td>39</td>\n",
       "      <td>5</td>\n",
       "      <td>0.267123</td>\n",
       "      <td>0.034247</td>\n",
       "      <td>0.128205</td>\n",
       "    </tr>\n",
       "    <tr>\n",
       "      <th>2</th>\n",
       "      <td>total_payments</td>\n",
       "      <td>146</td>\n",
       "      <td>125</td>\n",
       "      <td>18</td>\n",
       "      <td>0.856164</td>\n",
       "      <td>0.123288</td>\n",
       "      <td>0.144000</td>\n",
       "    </tr>\n",
       "    <tr>\n",
       "      <th>3</th>\n",
       "      <td>loan_advances</td>\n",
       "      <td>146</td>\n",
       "      <td>4</td>\n",
       "      <td>1</td>\n",
       "      <td>0.027397</td>\n",
       "      <td>0.006849</td>\n",
       "      <td>0.250000</td>\n",
       "    </tr>\n",
       "    <tr>\n",
       "      <th>4</th>\n",
       "      <td>bonus</td>\n",
       "      <td>146</td>\n",
       "      <td>82</td>\n",
       "      <td>16</td>\n",
       "      <td>0.561644</td>\n",
       "      <td>0.109589</td>\n",
       "      <td>0.195122</td>\n",
       "    </tr>\n",
       "    <tr>\n",
       "      <th>5</th>\n",
       "      <td>restricted_stock_deferred</td>\n",
       "      <td>146</td>\n",
       "      <td>18</td>\n",
       "      <td>0</td>\n",
       "      <td>0.123288</td>\n",
       "      <td>0.000000</td>\n",
       "      <td>0.000000</td>\n",
       "    </tr>\n",
       "    <tr>\n",
       "      <th>6</th>\n",
       "      <td>deferred_income</td>\n",
       "      <td>146</td>\n",
       "      <td>49</td>\n",
       "      <td>11</td>\n",
       "      <td>0.335616</td>\n",
       "      <td>0.075342</td>\n",
       "      <td>0.224490</td>\n",
       "    </tr>\n",
       "    <tr>\n",
       "      <th>7</th>\n",
       "      <td>total_stock_value</td>\n",
       "      <td>146</td>\n",
       "      <td>126</td>\n",
       "      <td>18</td>\n",
       "      <td>0.863014</td>\n",
       "      <td>0.123288</td>\n",
       "      <td>0.142857</td>\n",
       "    </tr>\n",
       "    <tr>\n",
       "      <th>8</th>\n",
       "      <td>expenses</td>\n",
       "      <td>146</td>\n",
       "      <td>95</td>\n",
       "      <td>18</td>\n",
       "      <td>0.650685</td>\n",
       "      <td>0.123288</td>\n",
       "      <td>0.189474</td>\n",
       "    </tr>\n",
       "    <tr>\n",
       "      <th>9</th>\n",
       "      <td>exercised_stock_options</td>\n",
       "      <td>146</td>\n",
       "      <td>102</td>\n",
       "      <td>12</td>\n",
       "      <td>0.698630</td>\n",
       "      <td>0.082192</td>\n",
       "      <td>0.117647</td>\n",
       "    </tr>\n",
       "    <tr>\n",
       "      <th>10</th>\n",
       "      <td>other</td>\n",
       "      <td>146</td>\n",
       "      <td>93</td>\n",
       "      <td>18</td>\n",
       "      <td>0.636986</td>\n",
       "      <td>0.123288</td>\n",
       "      <td>0.193548</td>\n",
       "    </tr>\n",
       "    <tr>\n",
       "      <th>11</th>\n",
       "      <td>long_term_incentive</td>\n",
       "      <td>146</td>\n",
       "      <td>66</td>\n",
       "      <td>12</td>\n",
       "      <td>0.452055</td>\n",
       "      <td>0.082192</td>\n",
       "      <td>0.181818</td>\n",
       "    </tr>\n",
       "    <tr>\n",
       "      <th>12</th>\n",
       "      <td>restricted_stock</td>\n",
       "      <td>146</td>\n",
       "      <td>110</td>\n",
       "      <td>17</td>\n",
       "      <td>0.753425</td>\n",
       "      <td>0.116438</td>\n",
       "      <td>0.154545</td>\n",
       "    </tr>\n",
       "    <tr>\n",
       "      <th>13</th>\n",
       "      <td>director_fees</td>\n",
       "      <td>146</td>\n",
       "      <td>17</td>\n",
       "      <td>0</td>\n",
       "      <td>0.116438</td>\n",
       "      <td>0.000000</td>\n",
       "      <td>0.000000</td>\n",
       "    </tr>\n",
       "    <tr>\n",
       "      <th>14</th>\n",
       "      <td>to_messages</td>\n",
       "      <td>146</td>\n",
       "      <td>86</td>\n",
       "      <td>14</td>\n",
       "      <td>0.589041</td>\n",
       "      <td>0.095890</td>\n",
       "      <td>0.162791</td>\n",
       "    </tr>\n",
       "    <tr>\n",
       "      <th>15</th>\n",
       "      <td>from_poi_to_this_person</td>\n",
       "      <td>146</td>\n",
       "      <td>86</td>\n",
       "      <td>14</td>\n",
       "      <td>0.589041</td>\n",
       "      <td>0.095890</td>\n",
       "      <td>0.162791</td>\n",
       "    </tr>\n",
       "    <tr>\n",
       "      <th>16</th>\n",
       "      <td>from_messages</td>\n",
       "      <td>146</td>\n",
       "      <td>86</td>\n",
       "      <td>14</td>\n",
       "      <td>0.589041</td>\n",
       "      <td>0.095890</td>\n",
       "      <td>0.162791</td>\n",
       "    </tr>\n",
       "    <tr>\n",
       "      <th>17</th>\n",
       "      <td>from_this_person_to_poi</td>\n",
       "      <td>146</td>\n",
       "      <td>86</td>\n",
       "      <td>14</td>\n",
       "      <td>0.589041</td>\n",
       "      <td>0.095890</td>\n",
       "      <td>0.162791</td>\n",
       "    </tr>\n",
       "    <tr>\n",
       "      <th>18</th>\n",
       "      <td>shared_receipt_with_poi</td>\n",
       "      <td>146</td>\n",
       "      <td>86</td>\n",
       "      <td>14</td>\n",
       "      <td>0.589041</td>\n",
       "      <td>0.095890</td>\n",
       "      <td>0.162791</td>\n",
       "    </tr>\n",
       "  </tbody>\n",
       "</table>\n",
       "</div>"
      ],
      "text/plain": [
       "                      feature  total  available  poi  prop_available  \\\n",
       "0                      salary    146         95   17        0.650685   \n",
       "1           deferral_payments    146         39    5        0.267123   \n",
       "2              total_payments    146        125   18        0.856164   \n",
       "3               loan_advances    146          4    1        0.027397   \n",
       "4                       bonus    146         82   16        0.561644   \n",
       "5   restricted_stock_deferred    146         18    0        0.123288   \n",
       "6             deferred_income    146         49   11        0.335616   \n",
       "7           total_stock_value    146        126   18        0.863014   \n",
       "8                    expenses    146         95   18        0.650685   \n",
       "9     exercised_stock_options    146        102   12        0.698630   \n",
       "10                      other    146         93   18        0.636986   \n",
       "11        long_term_incentive    146         66   12        0.452055   \n",
       "12           restricted_stock    146        110   17        0.753425   \n",
       "13              director_fees    146         17    0        0.116438   \n",
       "14                to_messages    146         86   14        0.589041   \n",
       "15    from_poi_to_this_person    146         86   14        0.589041   \n",
       "16              from_messages    146         86   14        0.589041   \n",
       "17    from_this_person_to_poi    146         86   14        0.589041   \n",
       "18    shared_receipt_with_poi    146         86   14        0.589041   \n",
       "\n",
       "    prop_poi_total  propr_poi_available  \n",
       "0         0.116438             0.178947  \n",
       "1         0.034247             0.128205  \n",
       "2         0.123288             0.144000  \n",
       "3         0.006849             0.250000  \n",
       "4         0.109589             0.195122  \n",
       "5         0.000000             0.000000  \n",
       "6         0.075342             0.224490  \n",
       "7         0.123288             0.142857  \n",
       "8         0.123288             0.189474  \n",
       "9         0.082192             0.117647  \n",
       "10        0.123288             0.193548  \n",
       "11        0.082192             0.181818  \n",
       "12        0.116438             0.154545  \n",
       "13        0.000000             0.000000  \n",
       "14        0.095890             0.162791  \n",
       "15        0.095890             0.162791  \n",
       "16        0.095890             0.162791  \n",
       "17        0.095890             0.162791  \n",
       "18        0.095890             0.162791  "
      ]
     },
     "execution_count": 8,
     "metadata": {},
     "output_type": "execute_result"
    }
   ],
   "source": [
    "# checking the proportion of available data per feature\n",
    "available_data = pd.DataFrame(\n",
    "    [{'feature':f,\n",
    "      'available':df[f].count(),\n",
    "      'poi':df.query(f'{f}=={f} & poi==True')[f].shape[0],\n",
    "      'total':df.shape[0]} \n",
    "     for f in continuous_features])\n",
    "available_data=available_data[['feature','total','available','poi']]\n",
    "available_data['prop_available']=available_data.available/available_data.total\n",
    "available_data['prop_poi_total']=available_data.poi/available_data.total\n",
    "available_data['propr_poi_available']=available_data.poi/available_data.available\n",
    "available_data"
   ]
  },
  {
   "cell_type": "code",
   "execution_count": 9,
   "metadata": {
    "hidden": true
   },
   "outputs": [
    {
     "data": {
      "text/plain": [
       "['salary',\n",
       " 'total_payments',\n",
       " 'bonus',\n",
       " 'total_stock_value',\n",
       " 'expenses',\n",
       " 'exercised_stock_options',\n",
       " 'other',\n",
       " 'restricted_stock',\n",
       " 'to_messages',\n",
       " 'from_poi_to_this_person',\n",
       " 'from_messages',\n",
       " 'from_this_person_to_poi',\n",
       " 'shared_receipt_with_poi']"
      ]
     },
     "execution_count": 9,
     "metadata": {},
     "output_type": "execute_result"
    }
   ],
   "source": [
    "# looking at features that have at least 50% of data available\n",
    "feats = list(available_data[available_data.prop_available>=.5].feature)\n",
    "feats"
   ]
  },
  {
   "cell_type": "code",
   "execution_count": 10,
   "metadata": {
    "hidden": true
   },
   "outputs": [
    {
     "data": {
      "text/plain": [
       "['full_name',\n",
       " 'deferral_payments',\n",
       " 'loan_advances',\n",
       " 'email_address',\n",
       " 'restricted_stock_deferred',\n",
       " 'deferred_income',\n",
       " 'poi',\n",
       " 'long_term_incentive',\n",
       " 'director_fees']"
      ]
     },
     "execution_count": 10,
     "metadata": {},
     "output_type": "execute_result"
    }
   ],
   "source": [
    "[feat for feat in list(df.columns) if feat not in feats]"
   ]
  },
  {
   "cell_type": "code",
   "execution_count": 11,
   "metadata": {
    "hidden": true
   },
   "outputs": [],
   "source": [
    "features_list = ['poi']+feats+['deferral_payments','director_fees',\n",
    "                               'deferred_income', 'long_term_incentive']"
   ]
  },
  {
   "cell_type": "markdown",
   "metadata": {
    "heading_collapsed": true
   },
   "source": [
    "# Task 2\n",
    "\n",
    "Remove outliers & remove/fix invalid data"
   ]
  },
  {
   "cell_type": "code",
   "execution_count": 12,
   "metadata": {
    "hidden": true
   },
   "outputs": [],
   "source": [
    "# checking for the number of missing (relevant) features per row\n",
    "df['missing_cols']=df[features_list].apply(lambda x: x!=x).sum(axis=1)"
   ]
  },
  {
   "cell_type": "code",
   "execution_count": 13,
   "metadata": {
    "hidden": true
   },
   "outputs": [
    {
     "data": {
      "image/png": "[encoded data removed]",
      "text/plain": [
       "<matplotlib.figure.Figure at 0x1a13a006d8>"
      ]
     },
     "metadata": {},
     "output_type": "display_data"
    }
   ],
   "source": [
    "# plot distribution of missing values\n",
    "binwidth=1\n",
    "bins=np.arange(df.missing_cols.min(),df.missing_cols.max()+2*binwidth)\n",
    "df.missing_cols.hist(bins=bins, align='left')\n",
    "plt.xticks(bins);"
   ]
  },
  {
   "cell_type": "code",
   "execution_count": 14,
   "metadata": {
    "hidden": true
   },
   "outputs": [
    {
     "data": {
      "text/html": [
       "<div>\n",
       "<style scoped>\n",
       "    .dataframe tbody tr th:only-of-type {\n",
       "        vertical-align: middle;\n",
       "    }\n",
       "\n",
       "    .dataframe tbody tr th {\n",
       "        vertical-align: top;\n",
       "    }\n",
       "\n",
       "    .dataframe thead th {\n",
       "        text-align: right;\n",
       "    }\n",
       "</style>\n",
       "<table border=\"1\" class=\"dataframe\">\n",
       "  <thead>\n",
       "    <tr style=\"text-align: right;\">\n",
       "      <th></th>\n",
       "      <th>full_name</th>\n",
       "      <th>salary</th>\n",
       "      <th>to_messages</th>\n",
       "      <th>deferral_payments</th>\n",
       "      <th>total_payments</th>\n",
       "      <th>loan_advances</th>\n",
       "      <th>bonus</th>\n",
       "      <th>email_address</th>\n",
       "      <th>restricted_stock_deferred</th>\n",
       "      <th>deferred_income</th>\n",
       "      <th>...</th>\n",
       "      <th>exercised_stock_options</th>\n",
       "      <th>from_messages</th>\n",
       "      <th>other</th>\n",
       "      <th>from_this_person_to_poi</th>\n",
       "      <th>poi</th>\n",
       "      <th>long_term_incentive</th>\n",
       "      <th>shared_receipt_with_poi</th>\n",
       "      <th>restricted_stock</th>\n",
       "      <th>director_fees</th>\n",
       "      <th>missing_cols</th>\n",
       "    </tr>\n",
       "  </thead>\n",
       "  <tbody>\n",
       "    <tr>\n",
       "      <th>84</th>\n",
       "      <td>LOCKHART EUGENE E</td>\n",
       "      <td>NaN</td>\n",
       "      <td>NaN</td>\n",
       "      <td>NaN</td>\n",
       "      <td>NaN</td>\n",
       "      <td>NaN</td>\n",
       "      <td>NaN</td>\n",
       "      <td>NaN</td>\n",
       "      <td>NaN</td>\n",
       "      <td>NaN</td>\n",
       "      <td>...</td>\n",
       "      <td>NaN</td>\n",
       "      <td>NaN</td>\n",
       "      <td>NaN</td>\n",
       "      <td>NaN</td>\n",
       "      <td>False</td>\n",
       "      <td>NaN</td>\n",
       "      <td>NaN</td>\n",
       "      <td>NaN</td>\n",
       "      <td>NaN</td>\n",
       "      <td>17</td>\n",
       "    </tr>\n",
       "  </tbody>\n",
       "</table>\n",
       "<p>1 rows × 23 columns</p>\n",
       "</div>"
      ],
      "text/plain": [
       "            full_name  salary  to_messages  deferral_payments  total_payments  \\\n",
       "84  LOCKHART EUGENE E     NaN          NaN                NaN             NaN   \n",
       "\n",
       "    loan_advances  bonus email_address  restricted_stock_deferred  \\\n",
       "84            NaN    NaN           NaN                        NaN   \n",
       "\n",
       "    deferred_income      ...       exercised_stock_options  from_messages  \\\n",
       "84              NaN      ...                           NaN            NaN   \n",
       "\n",
       "    other  from_this_person_to_poi    poi  long_term_incentive  \\\n",
       "84    NaN                      NaN  False                  NaN   \n",
       "\n",
       "    shared_receipt_with_poi  restricted_stock  director_fees  missing_cols  \n",
       "84                      NaN               NaN            NaN            17  \n",
       "\n",
       "[1 rows x 23 columns]"
      ]
     },
     "execution_count": 14,
     "metadata": {},
     "output_type": "execute_result"
    }
   ],
   "source": [
    "# exploring rows with >= 17 missing (relevant) features\n",
    "df.query('missing_cols>=17').sort_values(by='missing_cols')"
   ]
  },
  {
   "cell_type": "code",
   "execution_count": 15,
   "metadata": {
    "hidden": true
   },
   "outputs": [],
   "source": [
    "rows_to_remove = [84]"
   ]
  },
  {
   "cell_type": "code",
   "execution_count": 16,
   "metadata": {
    "code_folding": [
     0,
     29
    ],
    "hidden": true
   },
   "outputs": [],
   "source": [
    "def make_visualisations(df, features, vis='hist', n_cols=2, figsize=(15,40), \n",
    "                        bins=50, **kwds):\n",
    "    '''\n",
    "    Make histrograms or boxplots for all items in features list from a pandas \n",
    "    dataframe.\n",
    "    Parameters\n",
    "    - df: Pandas dataframe. Dataframe with all data.\n",
    "    - features: List. List of features to be plotted. Must be numerical \n",
    "    features. NaN values will be dropped.\n",
    "    - vis: Str. Type of visualisation: [hist or boxplot]\n",
    "    - n_cols: Integer. Number of columns for the histogram matrix.\n",
    "    - figsize: Tuple (w,h). Size of histograms matrix.\n",
    "    - bins: Integer. Number of bins in the histogram.\n",
    "    '''\n",
    "    fig = plt.figure(figsize=figsize)\n",
    "    fig.subplots_adjust(hspace=0.4, wspace=.3)\n",
    "    for i in range(len(features)):\n",
    "        ax=fig.add_subplot(round(len(features)/n_cols+.5),n_cols,i+1)\n",
    "        data=df[features[i]].dropna()\n",
    "        if vis=='hist':\n",
    "            ax.hist(data,bins=bins, **kwds)\n",
    "        elif vis=='boxplot':\n",
    "            ax.boxplot(data, **kwds)\n",
    "        else:\n",
    "            print('Invalid visualisation')\n",
    "            break\n",
    "        ax.title.set_text(features[i])\n",
    "    plt.show()\n",
    "    \n",
    "def outliers(df, feature):\n",
    "    \"\"\"\n",
    "    Returns rows that are considered outliers for a given feature.\n",
    "    Outlier definition: (Q1-1.5IQR,Q3+1.5IQR)\n",
    "    Parameters:\n",
    "    - df: Pandas dataframe. Dataframe that contains data.\n",
    "    - feature: Str. Name of feature to be explored.\n",
    "    \"\"\"\n",
    "    iqr = stats.iqr(df[feature].dropna())\n",
    "    third_quantile = df[feature].quantile(0.75)\n",
    "    first_quantile = df[feature].quantile(0.25)\n",
    "    outliers = (first_quantile-1.5*iqr,third_quantile+1.5*iqr)\n",
    "    return df[(df[feature]<outliers[0]) | (df[feature]>outliers[1])][['full_name',feature]]\\\n",
    "    .sort_values(by=feature)"
   ]
  },
  {
   "cell_type": "code",
   "execution_count": 17,
   "metadata": {
    "hidden": true
   },
   "outputs": [
    {
     "data": {
      "image/png": "[encoded data removed]",
      "text/plain": [
       "<matplotlib.figure.Figure at 0x1a195013c8>"
      ]
     },
     "metadata": {},
     "output_type": "display_data"
    }
   ],
   "source": [
    "# boxplot of all features in features_list to identify outliers\n",
    "make_visualisations(df, features_list, vis = 'boxplot')"
   ]
  },
  {
   "cell_type": "code",
   "execution_count": 18,
   "metadata": {
    "hidden": true
   },
   "outputs": [
    {
     "data": {
      "text/html": [
       "<div>\n",
       "<style scoped>\n",
       "    .dataframe tbody tr th:only-of-type {\n",
       "        vertical-align: middle;\n",
       "    }\n",
       "\n",
       "    .dataframe tbody tr th {\n",
       "        vertical-align: top;\n",
       "    }\n",
       "\n",
       "    .dataframe thead th {\n",
       "        text-align: right;\n",
       "    }\n",
       "</style>\n",
       "<table border=\"1\" class=\"dataframe\">\n",
       "  <thead>\n",
       "    <tr style=\"text-align: right;\">\n",
       "      <th></th>\n",
       "      <th>full_name</th>\n",
       "      <th>salary</th>\n",
       "    </tr>\n",
       "  </thead>\n",
       "  <tbody>\n",
       "    <tr>\n",
       "      <th>2</th>\n",
       "      <td>BANNANTINE JAMES M</td>\n",
       "      <td>477.0</td>\n",
       "    </tr>\n",
       "    <tr>\n",
       "      <th>57</th>\n",
       "      <td>GRAY RODNEY</td>\n",
       "      <td>6615.0</td>\n",
       "    </tr>\n",
       "    <tr>\n",
       "      <th>32</th>\n",
       "      <td>DERRICK JR. JAMES V</td>\n",
       "      <td>492375.0</td>\n",
       "    </tr>\n",
       "    <tr>\n",
       "      <th>139</th>\n",
       "      <td>WHALLEY LAWRENCE G</td>\n",
       "      <td>510364.0</td>\n",
       "    </tr>\n",
       "    <tr>\n",
       "      <th>105</th>\n",
       "      <td>PICKERING MARK R</td>\n",
       "      <td>655037.0</td>\n",
       "    </tr>\n",
       "    <tr>\n",
       "      <th>47</th>\n",
       "      <td>FREVERT MARK A</td>\n",
       "      <td>1060932.0</td>\n",
       "    </tr>\n",
       "    <tr>\n",
       "      <th>79</th>\n",
       "      <td>LAY KENNETH L</td>\n",
       "      <td>1072321.0</td>\n",
       "    </tr>\n",
       "    <tr>\n",
       "      <th>122</th>\n",
       "      <td>SKILLING JEFFREY K</td>\n",
       "      <td>1111258.0</td>\n",
       "    </tr>\n",
       "    <tr>\n",
       "      <th>130</th>\n",
       "      <td>TOTAL</td>\n",
       "      <td>26704229.0</td>\n",
       "    </tr>\n",
       "  </tbody>\n",
       "</table>\n",
       "</div>"
      ],
      "text/plain": [
       "               full_name      salary\n",
       "2     BANNANTINE JAMES M       477.0\n",
       "57           GRAY RODNEY      6615.0\n",
       "32   DERRICK JR. JAMES V    492375.0\n",
       "139   WHALLEY LAWRENCE G    510364.0\n",
       "105     PICKERING MARK R    655037.0\n",
       "47        FREVERT MARK A   1060932.0\n",
       "79         LAY KENNETH L   1072321.0\n",
       "122   SKILLING JEFFREY K   1111258.0\n",
       "130                TOTAL  26704229.0"
      ]
     },
     "execution_count": 18,
     "metadata": {},
     "output_type": "execute_result"
    }
   ],
   "source": [
    "outliers(df, 'salary')"
   ]
  },
  {
   "cell_type": "code",
   "execution_count": 19,
   "metadata": {
    "hidden": true
   },
   "outputs": [],
   "source": [
    "rows_to_remove.append(130)"
   ]
  },
  {
   "cell_type": "code",
   "execution_count": 20,
   "metadata": {
    "hidden": true
   },
   "outputs": [
    {
     "data": {
      "text/plain": [
       "[(0, 'ALLEN PHILLIP K'),\n",
       " (1, 'BADUM JAMES P'),\n",
       " (2, 'BANNANTINE JAMES M'),\n",
       " (3, 'BAXTER JOHN C'),\n",
       " (4, 'BAY FRANKLIN R'),\n",
       " (5, 'BAZELIDES PHILIP J'),\n",
       " (6, 'BECK SALLY W'),\n",
       " (7, 'BELDEN TIMOTHY N'),\n",
       " (8, 'BELFER ROBERT'),\n",
       " (9, 'BERBERIAN DAVID'),\n",
       " (10, 'BERGSIEKER RICHARD P'),\n",
       " (11, 'BHATNAGAR SANJAY'),\n",
       " (12, 'BIBI PHILIPPE A'),\n",
       " (13, 'BLACHMAN JEREMY M'),\n",
       " (14, 'BLAKE JR. NORMAN P'),\n",
       " (15, 'BOWEN JR RAYMOND M'),\n",
       " (16, 'BROWN MICHAEL'),\n",
       " (17, 'BUCHANAN HAROLD G'),\n",
       " (18, 'BUTTS ROBERT H'),\n",
       " (19, 'BUY RICHARD B'),\n",
       " (20, 'CALGER CHRISTOPHER F'),\n",
       " (21, 'CARTER REBECCA C'),\n",
       " (22, 'CAUSEY RICHARD A'),\n",
       " (23, 'CHAN RONNIE'),\n",
       " (24, 'CHRISTODOULOU DIOMEDES'),\n",
       " (25, 'CLINE KENNETH W'),\n",
       " (26, 'COLWELL WESLEY'),\n",
       " (27, 'CORDES WILLIAM R'),\n",
       " (28, 'COX DAVID'),\n",
       " (29, 'CUMBERLAND MICHAEL S'),\n",
       " (30, 'DEFFNER JOSEPH M'),\n",
       " (31, 'DELAINEY DAVID W'),\n",
       " (32, 'DERRICK JR. JAMES V'),\n",
       " (33, 'DETMERING TIMOTHY J'),\n",
       " (34, 'DIETRICH JANET R'),\n",
       " (35, 'DIMICHELE RICHARD G'),\n",
       " (36, 'DODSON KEITH'),\n",
       " (37, 'DONAHUE JR JEFFREY M'),\n",
       " (38, 'DUNCAN JOHN H'),\n",
       " (39, 'DURAN WILLIAM D'),\n",
       " (40, 'ECHOLS JOHN B'),\n",
       " (41, 'ELLIOTT STEVEN'),\n",
       " (42, 'FALLON JAMES B'),\n",
       " (43, 'FASTOW ANDREW S'),\n",
       " (44, 'FITZGERALD JAY L'),\n",
       " (45, 'FOWLER PEGGY'),\n",
       " (46, 'FOY JOE'),\n",
       " (47, 'FREVERT MARK A'),\n",
       " (48, 'FUGH JOHN L'),\n",
       " (49, 'GAHN ROBERT S'),\n",
       " (50, 'GARLAND C KEVIN'),\n",
       " (51, 'GATHMANN WILLIAM D'),\n",
       " (52, 'GIBBS DANA R'),\n",
       " (53, 'GILLIS JOHN'),\n",
       " (54, 'GLISAN JR BEN F'),\n",
       " (55, 'GOLD JOSEPH'),\n",
       " (56, 'GRAMM WENDY L'),\n",
       " (57, 'GRAY RODNEY'),\n",
       " (58, 'HAEDICKE MARK E'),\n",
       " (59, 'HANNON KEVIN P'),\n",
       " (60, 'HAUG DAVID L'),\n",
       " (61, 'HAYES ROBERT E'),\n",
       " (62, 'HAYSLETT RODERICK J'),\n",
       " (63, 'HERMANN ROBERT J'),\n",
       " (64, 'HICKERSON GARY J'),\n",
       " (65, 'HIRKO JOSEPH'),\n",
       " (66, 'HORTON STANLEY C'),\n",
       " (67, 'HUGHES JAMES A'),\n",
       " (68, 'HUMPHREY GENE E'),\n",
       " (69, 'IZZO LAWRENCE L'),\n",
       " (70, 'JACKSON CHARLENE R'),\n",
       " (71, 'JAEDICKE ROBERT'),\n",
       " (72, 'KAMINSKI WINCENTY J'),\n",
       " (73, 'KEAN STEVEN J'),\n",
       " (74, 'KISHKILL JOSEPH G'),\n",
       " (75, 'KITCHEN LOUISE'),\n",
       " (76, 'KOENIG MARK E'),\n",
       " (77, 'KOPPER MICHAEL J'),\n",
       " (78, 'LAVORATO JOHN J'),\n",
       " (79, 'LAY KENNETH L'),\n",
       " (80, 'LEFF DANIEL P'),\n",
       " (81, 'LEMAISTRE CHARLES'),\n",
       " (82, 'LEWIS RICHARD'),\n",
       " (83, 'LINDHOLM TOD A'),\n",
       " (84, 'LOCKHART EUGENE E'),\n",
       " (85, 'LOWRY CHARLES P'),\n",
       " (86, 'MARTIN AMANDA K'),\n",
       " (87, 'MCCARTY DANNY J'),\n",
       " (88, 'MCCLELLAN GEORGE'),\n",
       " (89, 'MCCONNELL MICHAEL S'),\n",
       " (90, 'MCDONALD REBECCA'),\n",
       " (91, 'MCMAHON JEFFREY'),\n",
       " (92, 'MENDELSOHN JOHN'),\n",
       " (93, 'METTS MARK'),\n",
       " (94, 'MEYER JEROME J'),\n",
       " (95, 'MEYER ROCKFORD G'),\n",
       " (96, 'MORAN MICHAEL P'),\n",
       " (97, 'MORDAUNT KRISTINA M'),\n",
       " (98, 'MULLER MARK S'),\n",
       " (99, 'MURRAY JULIA H'),\n",
       " (100, 'NOLES JAMES L'),\n",
       " (101, 'OLSON CINDY K'),\n",
       " (102, 'OVERDYKE JR JERE C'),\n",
       " (103, 'PAI LOU L'),\n",
       " (104, 'PEREIRA PAULO V. FERRAZ'),\n",
       " (105, 'PICKERING MARK R'),\n",
       " (106, 'PIPER GREGORY F'),\n",
       " (107, 'PIRO JIM'),\n",
       " (108, 'POWERS WILLIAM'),\n",
       " (109, 'PRENTICE JAMES'),\n",
       " (110, 'REDMOND BRIAN L'),\n",
       " (111, 'REYNOLDS LAWRENCE'),\n",
       " (112, 'RICE KENNETH D'),\n",
       " (113, 'RIEKER PAULA H'),\n",
       " (114, 'SAVAGE FRANK'),\n",
       " (115, 'SCRIMSHAW MATTHEW'),\n",
       " (116, 'SHANKMAN JEFFREY A'),\n",
       " (117, 'SHAPIRO RICHARD S'),\n",
       " (118, 'SHARP VICTORIA T'),\n",
       " (119, 'SHELBY REX'),\n",
       " (120, 'SHERRICK JEFFREY B'),\n",
       " (121, 'SHERRIFF JOHN R'),\n",
       " (122, 'SKILLING JEFFREY K'),\n",
       " (123, 'STABLER FRANK'),\n",
       " (124, 'SULLIVAN-SHAKLOVITZ COLLEEN'),\n",
       " (125, 'SUNDE MARTIN'),\n",
       " (126, 'TAYLOR MITCHELL S'),\n",
       " (127, 'THE TRAVEL AGENCY IN THE PARK'),\n",
       " (128, 'THORN TERENCE H'),\n",
       " (129, 'TILNEY ELIZABETH A'),\n",
       " (130, 'TOTAL'),\n",
       " (131, 'UMANOFF ADAM S'),\n",
       " (132, 'URQUHART JOHN A'),\n",
       " (133, 'WAKEHAM JOHN'),\n",
       " (134, 'WALLS JR ROBERT H'),\n",
       " (135, 'WALTERS GARETH W'),\n",
       " (136, 'WASAFF GEORGE'),\n",
       " (137, 'WESTFAHL RICHARD K'),\n",
       " (138, 'WHALEY DAVID A'),\n",
       " (139, 'WHALLEY LAWRENCE G'),\n",
       " (140, 'WHITE JR THOMAS E'),\n",
       " (141, 'WINOKUR JR. HERBERT S'),\n",
       " (142, 'WODRASKA JOHN'),\n",
       " (143, 'WROBEL BRUCE'),\n",
       " (144, 'YEAGER F SCOTT'),\n",
       " (145, 'YEAP SOON')]"
      ]
     },
     "execution_count": 20,
     "metadata": {},
     "output_type": "execute_result"
    }
   ],
   "source": [
    "# checking any other data problems visually\n",
    "[(k,f) for k,f  in df.full_name.items()]"
   ]
  },
  {
   "cell_type": "code",
   "execution_count": 21,
   "metadata": {
    "hidden": true
   },
   "outputs": [],
   "source": [
    "rows_to_remove.append(127)"
   ]
  },
  {
   "cell_type": "code",
   "execution_count": 22,
   "metadata": {
    "hidden": true
   },
   "outputs": [],
   "source": [
    "df.drop(rows_to_remove, axis=0, inplace=True)"
   ]
  },
  {
   "cell_type": "code",
   "execution_count": 23,
   "metadata": {
    "hidden": true,
    "scrolled": true
   },
   "outputs": [
    {
     "data": {
      "image/png": "[encoded data removed]",
      "text/plain": [
       "<matplotlib.figure.Figure at 0x1a19561240>"
      ]
     },
     "metadata": {},
     "output_type": "display_data"
    }
   ],
   "source": [
    "make_visualisations(df, features_list, vis='boxplot')"
   ]
  },
  {
   "cell_type": "code",
   "execution_count": 24,
   "metadata": {
    "hidden": true,
    "scrolled": true
   },
   "outputs": [
    {
     "name": "stdout",
     "output_type": "stream",
     "text": [
      "                full_name   poi\n",
      "7        BELDEN TIMOTHY N  True\n",
      "119            SHELBY REX  True\n",
      "113        RIEKER PAULA H  True\n",
      "112        RICE KENNETH D  True\n",
      "79          LAY KENNETH L  True\n",
      "77       KOPPER MICHAEL J  True\n",
      "76          KOENIG MARK E  True\n",
      "65           HIRKO JOSEPH  True\n",
      "59         HANNON KEVIN P  True\n",
      "54        GLISAN JR BEN F  True\n",
      "43        FASTOW ANDREW S  True\n",
      "31       DELAINEY DAVID W  True\n",
      "26         COLWELL WESLEY  True\n",
      "22       CAUSEY RICHARD A  True\n",
      "20   CALGER CHRISTOPHER F  True\n",
      "15     BOWEN JR RAYMOND M  True\n",
      "122    SKILLING JEFFREY K  True\n",
      "144        YEAGER F SCOTT  True\n",
      "               full_name     salary\n",
      "2     BANNANTINE JAMES M      477.0\n",
      "57           GRAY RODNEY     6615.0\n",
      "137   WESTFAHL RICHARD K    63744.0\n",
      "32   DERRICK JR. JAMES V   492375.0\n",
      "139   WHALLEY LAWRENCE G   510364.0\n",
      "105     PICKERING MARK R   655037.0\n",
      "47        FREVERT MARK A  1060932.0\n",
      "79         LAY KENNETH L  1072321.0\n",
      "122   SKILLING JEFFREY K  1111258.0\n",
      "              full_name  total_payments\n",
      "139  WHALLEY LAWRENCE G       4677574.0\n",
      "31     DELAINEY DAVID W       4747979.0\n",
      "7      BELDEN TIMOTHY N       5501630.0\n",
      "3         BAXTER JOHN C       5634343.0\n",
      "86      MARTIN AMANDA K       8407016.0\n",
      "122  SKILLING JEFFREY K       8682716.0\n",
      "78      LAVORATO JOHN J      10425757.0\n",
      "11     BHATNAGAR SANJAY      15456290.0\n",
      "47       FREVERT MARK A      17252530.0\n",
      "79        LAY KENNETH L     103559793.0\n",
      "              full_name      bonus\n",
      "42       FALLON JAMES B  2500000.0\n",
      "91      MCMAHON JEFFREY  2600000.0\n",
      "31     DELAINEY DAVID W  3000000.0\n",
      "139  WHALLEY LAWRENCE G  3000000.0\n",
      "75       KITCHEN LOUISE  3100000.0\n",
      "0       ALLEN PHILLIP K  4175000.0\n",
      "7      BELDEN TIMOTHY N  5249999.0\n",
      "122  SKILLING JEFFREY K  5600000.0\n",
      "79        LAY KENNETH L  7000000.0\n",
      "78      LAVORATO JOHN J  8000000.0\n",
      "                  full_name  total_stock_value\n",
      "69          IZZO LAWRENCE L          5819980.0\n",
      "134       WALLS JR ROBERT H          5898997.0\n",
      "24   CHRISTODOULOU DIOMEDES          6077885.0\n",
      "139      WHALLEY LAWRENCE G          6079137.0\n",
      "73            KEAN STEVEN J          6153642.0\n",
      "59           HANNON KEVIN P          6391065.0\n",
      "41           ELLIOTT STEVEN          6678735.0\n",
      "66         HORTON STANLEY C          7256648.0\n",
      "102      OVERDYKE JR JERE C          7307594.0\n",
      "110         REDMOND BRIAN L          7890324.0\n",
      "35      DIMICHELE RICHARD G          8317782.0\n",
      "32      DERRICK JR. JAMES V          8831913.0\n",
      "3             BAXTER JOHN C         10623258.0\n",
      "144          YEAGER F SCOTT         11884758.0\n",
      "47           FREVERT MARK A         14622185.0\n",
      "140       WHITE JR THOMAS E         15144123.0\n",
      "112          RICE KENNETH D         22542539.0\n",
      "103               PAI LOU L         23817930.0\n",
      "122      SKILLING JEFFREY K         26093672.0\n",
      "65             HIRKO JOSEPH         30766064.0\n",
      "79            LAY KENNETH L         49110078.0\n",
      "              full_name  expenses\n",
      "116  SHANKMAN JEFFREY A  178979.0\n",
      "132     URQUHART JOHN A  228656.0\n",
      "88     MCCLELLAN GEORGE  228763.0\n",
      "               full_name  exercised_stock_options\n",
      "3          BAXTER JOHN C                6680544.0\n",
      "110      REDMOND BRIAN L                7509039.0\n",
      "35   DIMICHELE RICHARD G                8191755.0\n",
      "144       YEAGER F SCOTT                8308552.0\n",
      "32   DERRICK JR. JAMES V                8831913.0\n",
      "47        FREVERT MARK A               10433518.0\n",
      "103            PAI LOU L               15364167.0\n",
      "122   SKILLING JEFFREY K               19250000.0\n",
      "112       RICE KENNETH D               19794175.0\n",
      "65          HIRKO JOSEPH               30766064.0\n",
      "79         LAY KENNETH L               34348384.0\n",
      "              full_name       other\n",
      "2    BANNANTINE JAMES M    864523.0\n",
      "77     KOPPER MICHAEL J    907502.0\n",
      "140   WHITE JR THOMAS E   1085463.0\n",
      "69      IZZO LAWRENCE L   1553729.0\n",
      "119          SHELBY REX   1573324.0\n",
      "103           PAI LOU L   1829457.0\n",
      "121     SHERRIFF JOHN R   1852186.0\n",
      "3         BAXTER JOHN C   2660303.0\n",
      "86      MARTIN AMANDA K   2818454.0\n",
      "47       FREVERT MARK A   7427621.0\n",
      "79        LAY KENNETH L  10359729.0\n",
      "              full_name  restricted_stock\n",
      "11     BHATNAGAR SANJAY        -2604490.0\n",
      "60         HAUG DAVID L         2217299.0\n",
      "22     CAUSEY RICHARD A         2502063.0\n",
      "112      RICE KENNETH D         2748364.0\n",
      "139  WHALLEY LAWRENCE G         2796177.0\n",
      "144      YEAGER F SCOTT         3576206.0\n",
      "69      IZZO LAWRENCE L         3654808.0\n",
      "3         BAXTER JOHN C         3942714.0\n",
      "73        KEAN STEVEN J         4131594.0\n",
      "47       FREVERT MARK A         4188667.0\n",
      "122  SKILLING JEFFREY K         6843672.0\n",
      "103           PAI LOU L         8453763.0\n",
      "140   WHITE JR THOMAS E        13847074.0\n",
      "79        LAY KENNETH L        14761694.0\n",
      "              full_name  to_messages\n",
      "139  WHALLEY LAWRENCE G       6019.0\n",
      "78      LAVORATO JOHN J       7259.0\n",
      "6          BECK SALLY W       7315.0\n",
      "7      BELDEN TIMOTHY N       7991.0\n",
      "75       KITCHEN LOUISE       8305.0\n",
      "73        KEAN STEVEN J      12754.0\n",
      "117   SHAPIRO RICHARD S      15149.0\n",
      "                full_name  from_poi_to_this_person\n",
      "58        HAEDICKE MARK E                    180.0\n",
      "139    WHALLEY LAWRENCE G                    186.0\n",
      "37   DONAHUE JR JEFFREY M                    188.0\n",
      "20   CALGER CHRISTOPHER F                    199.0\n",
      "110       REDMOND BRIAN L                    204.0\n",
      "7        BELDEN TIMOTHY N                    228.0\n",
      "26         COLWELL WESLEY                    240.0\n",
      "47         FREVERT MARK A                    242.0\n",
      "75         KITCHEN LOUISE                    251.0\n",
      "34       DIETRICH JANET R                    305.0\n",
      "78        LAVORATO JOHN J                    528.0\n",
      "               full_name  from_messages\n",
      "7       BELDEN TIMOTHY N          484.0\n",
      "139   WHALLEY LAWRENCE G          556.0\n",
      "32   DERRICK JR. JAMES V          909.0\n",
      "19         BUY RICHARD B         1053.0\n",
      "62   HAYSLETT RODERICK J         1061.0\n",
      "66      HORTON STANLEY C         1073.0\n",
      "117    SHAPIRO RICHARD S         1215.0\n",
      "75        KITCHEN LOUISE         1728.0\n",
      "58       HAEDICKE MARK E         1941.0\n",
      "0        ALLEN PHILLIP K         2195.0\n",
      "78       LAVORATO JOHN J         2585.0\n",
      "116   SHANKMAN JEFFREY A         2681.0\n",
      "89   MCCONNELL MICHAEL S         2742.0\n",
      "31      DELAINEY DAVID W         3069.0\n",
      "6           BECK SALLY W         4343.0\n",
      "73         KEAN STEVEN J         6759.0\n",
      "72   KAMINSKI WINCENTY J        14368.0\n",
      "               full_name  from_this_person_to_poi\n",
      "58       HAEDICKE MARK E                     61.0\n",
      "0        ALLEN PHILLIP K                     65.0\n",
      "117    SHAPIRO RICHARD S                     65.0\n",
      "19         BUY RICHARD B                     71.0\n",
      "116   SHANKMAN JEFFREY A                     83.0\n",
      "7       BELDEN TIMOTHY N                    108.0\n",
      "72   KAMINSKI WINCENTY J                    171.0\n",
      "75        KITCHEN LOUISE                    194.0\n",
      "89   MCCONNELL MICHAEL S                    194.0\n",
      "6           BECK SALLY W                    386.0\n",
      "73         KEAN STEVEN J                    387.0\n",
      "78       LAVORATO JOHN J                    411.0\n",
      "31      DELAINEY DAVID W                    609.0\n",
      "             full_name  shared_receipt_with_poi\n",
      "117  SHAPIRO RICHARD S                   4527.0\n",
      "7     BELDEN TIMOTHY N                   5521.0\n",
      "           full_name  deferral_payments\n",
      "7   BELDEN TIMOTHY N          2144013.0\n",
      "58   HAEDICKE MARK E          2157527.0\n",
      "0    ALLEN PHILLIP K          2869717.0\n",
      "68   HUMPHREY GENE E          2964506.0\n",
      "66  HORTON STANLEY C          3131860.0\n",
      "47    FREVERT MARK A          6426990.0\n",
      "           full_name  director_fees\n",
      "8      BELFER ROBERT         3285.0\n",
      "108   POWERS WILLIAM        17500.0\n",
      "132  URQUHART JOHN A        36666.0\n",
      "94    MEYER JEROME J        38346.0\n",
      "            full_name  deferred_income\n",
      "112    RICE KENNETH D       -3504386.0\n",
      "47     FREVERT MARK A       -3367011.0\n",
      "59     HANNON KEVIN P       -3117011.0\n",
      "0     ALLEN PHILLIP K       -3081055.0\n",
      "7    BELDEN TIMOTHY N       -2334434.0\n",
      "              full_name  long_term_incentive\n",
      "98        MULLER MARK S            1725545.0\n",
      "43      FASTOW ANDREW S            1736055.0\n",
      "122  SKILLING JEFFREY K            1920000.0\n",
      "78      LAVORATO JOHN J            2035380.0\n",
      "40        ECHOLS JOHN B            2234774.0\n",
      "79        LAY KENNETH L            3600000.0\n",
      "86      MARTIN AMANDA K            5145434.0\n"
     ]
    }
   ],
   "source": [
    "for feat in features_list:\n",
    "    print(outliers(df,feat))"
   ]
  },
  {
   "cell_type": "code",
   "execution_count": 25,
   "metadata": {
    "hidden": true
   },
   "outputs": [
    {
     "data": {
      "text/plain": [
       "[(0, 'full_name'),\n",
       " (1, 'salary'),\n",
       " (2, 'to_messages'),\n",
       " (3, 'deferral_payments'),\n",
       " (4, 'total_payments'),\n",
       " (5, 'loan_advances'),\n",
       " (6, 'bonus'),\n",
       " (7, 'email_address'),\n",
       " (8, 'restricted_stock_deferred'),\n",
       " (9, 'deferred_income'),\n",
       " (10, 'total_stock_value'),\n",
       " (11, 'expenses'),\n",
       " (12, 'from_poi_to_this_person'),\n",
       " (13, 'exercised_stock_options'),\n",
       " (14, 'from_messages'),\n",
       " (15, 'other'),\n",
       " (16, 'from_this_person_to_poi'),\n",
       " (17, 'poi'),\n",
       " (18, 'long_term_incentive'),\n",
       " (19, 'shared_receipt_with_poi'),\n",
       " (20, 'restricted_stock'),\n",
       " (21, 'director_fees'),\n",
       " (22, 'missing_cols')]"
      ]
     },
     "execution_count": 25,
     "metadata": {},
     "output_type": "execute_result"
    }
   ],
   "source": [
    "# correcting Bhatnagar, Sanjay's entry\n",
    "[(n,c) for n,c in enumerate(df.columns)]"
   ]
  },
  {
   "cell_type": "code",
   "execution_count": 26,
   "metadata": {
    "hidden": true
   },
   "outputs": [
    {
     "data": {
      "text/html": [
       "<div>\n",
       "<style scoped>\n",
       "    .dataframe tbody tr th:only-of-type {\n",
       "        vertical-align: middle;\n",
       "    }\n",
       "\n",
       "    .dataframe tbody tr th {\n",
       "        vertical-align: top;\n",
       "    }\n",
       "\n",
       "    .dataframe thead th {\n",
       "        text-align: right;\n",
       "    }\n",
       "</style>\n",
       "<table border=\"1\" class=\"dataframe\">\n",
       "  <thead>\n",
       "    <tr style=\"text-align: right;\">\n",
       "      <th></th>\n",
       "      <th>full_name</th>\n",
       "      <th>salary</th>\n",
       "      <th>to_messages</th>\n",
       "      <th>deferral_payments</th>\n",
       "      <th>total_payments</th>\n",
       "      <th>loan_advances</th>\n",
       "      <th>bonus</th>\n",
       "      <th>email_address</th>\n",
       "      <th>restricted_stock_deferred</th>\n",
       "      <th>deferred_income</th>\n",
       "      <th>...</th>\n",
       "      <th>exercised_stock_options</th>\n",
       "      <th>from_messages</th>\n",
       "      <th>other</th>\n",
       "      <th>from_this_person_to_poi</th>\n",
       "      <th>poi</th>\n",
       "      <th>long_term_incentive</th>\n",
       "      <th>shared_receipt_with_poi</th>\n",
       "      <th>restricted_stock</th>\n",
       "      <th>director_fees</th>\n",
       "      <th>missing_cols</th>\n",
       "    </tr>\n",
       "  </thead>\n",
       "  <tbody>\n",
       "    <tr>\n",
       "      <th>11</th>\n",
       "      <td>BHATNAGAR SANJAY</td>\n",
       "      <td>NaN</td>\n",
       "      <td>523.0</td>\n",
       "      <td>NaN</td>\n",
       "      <td>15456290.0</td>\n",
       "      <td>NaN</td>\n",
       "      <td>NaN</td>\n",
       "      <td>sanjay.bhatnagar@enron.com</td>\n",
       "      <td>15456290.0</td>\n",
       "      <td>NaN</td>\n",
       "      <td>...</td>\n",
       "      <td>2604490.0</td>\n",
       "      <td>29.0</td>\n",
       "      <td>137864.0</td>\n",
       "      <td>1.0</td>\n",
       "      <td>False</td>\n",
       "      <td>NaN</td>\n",
       "      <td>463.0</td>\n",
       "      <td>-2604490.0</td>\n",
       "      <td>137864.0</td>\n",
       "      <td>7</td>\n",
       "    </tr>\n",
       "  </tbody>\n",
       "</table>\n",
       "<p>1 rows × 23 columns</p>\n",
       "</div>"
      ],
      "text/plain": [
       "           full_name  salary  to_messages  deferral_payments  total_payments  \\\n",
       "11  BHATNAGAR SANJAY     NaN        523.0                NaN      15456290.0   \n",
       "\n",
       "    loan_advances  bonus               email_address  \\\n",
       "11            NaN    NaN  sanjay.bhatnagar@enron.com   \n",
       "\n",
       "    restricted_stock_deferred  deferred_income      ...       \\\n",
       "11                 15456290.0              NaN      ...        \n",
       "\n",
       "    exercised_stock_options  from_messages     other  from_this_person_to_poi  \\\n",
       "11                2604490.0           29.0  137864.0                      1.0   \n",
       "\n",
       "      poi  long_term_incentive  shared_receipt_with_poi  restricted_stock  \\\n",
       "11  False                  NaN                    463.0        -2604490.0   \n",
       "\n",
       "    director_fees  missing_cols  \n",
       "11       137864.0             7  \n",
       "\n",
       "[1 rows x 23 columns]"
      ]
     },
     "execution_count": 26,
     "metadata": {},
     "output_type": "execute_result"
    }
   ],
   "source": [
    "df.query('full_name==\"BHATNAGAR SANJAY\"')"
   ]
  },
  {
   "cell_type": "code",
   "execution_count": 27,
   "metadata": {
    "hidden": true,
    "scrolled": true
   },
   "outputs": [
    {
     "data": {
      "text/plain": [
       "full_name                              BHATNAGAR SANJAY\n",
       "salary                                              NaN\n",
       "to_messages                                         523\n",
       "deferral_payments                                   NaN\n",
       "total_payments                                   137864\n",
       "loan_advances                                       NaN\n",
       "bonus                                               NaN\n",
       "email_address                sanjay.bhatnagar@enron.com\n",
       "restricted_stock_deferred                  -2.60449e+06\n",
       "deferred_income                                     NaN\n",
       "total_stock_value                           1.54563e+07\n",
       "expenses                                         137864\n",
       "from_poi_to_this_person                               0\n",
       "exercised_stock_options                     1.54563e+07\n",
       "from_messages                                        29\n",
       "other                                               NaN\n",
       "from_this_person_to_poi                               1\n",
       "poi                                               False\n",
       "long_term_incentive                                 NaN\n",
       "shared_receipt_with_poi                             463\n",
       "restricted_stock                            2.60449e+06\n",
       "director_fees                                       NaN\n",
       "missing_cols                                          7\n",
       "Name: 11, dtype: object"
      ]
     },
     "execution_count": 27,
     "metadata": {},
     "output_type": "execute_result"
    }
   ],
   "source": [
    "nan_cols = [1,6,18,9,3,5,15,21]\n",
    "valid_cols=[11,4,13,20,8,10]\n",
    "cols_values=[137864, 137864, 15456290, 2604490, -2604490, 15456290]\n",
    "df.iloc[11,valid_cols]=cols_values\n",
    "df.iloc[11,nan_cols]=np.nan\n",
    "df.iloc[11]"
   ]
  },
  {
   "cell_type": "code",
   "execution_count": 28,
   "metadata": {
    "hidden": true,
    "scrolled": true
   },
   "outputs": [
    {
     "data": {
      "text/html": [
       "<div>\n",
       "<style scoped>\n",
       "    .dataframe tbody tr th:only-of-type {\n",
       "        vertical-align: middle;\n",
       "    }\n",
       "\n",
       "    .dataframe tbody tr th {\n",
       "        vertical-align: top;\n",
       "    }\n",
       "\n",
       "    .dataframe thead th {\n",
       "        text-align: right;\n",
       "    }\n",
       "</style>\n",
       "<table border=\"1\" class=\"dataframe\">\n",
       "  <thead>\n",
       "    <tr style=\"text-align: right;\">\n",
       "      <th></th>\n",
       "      <th>full_name</th>\n",
       "      <th>restricted_stock</th>\n",
       "    </tr>\n",
       "  </thead>\n",
       "  <tbody>\n",
       "    <tr>\n",
       "      <th>60</th>\n",
       "      <td>HAUG DAVID L</td>\n",
       "      <td>2217299.0</td>\n",
       "    </tr>\n",
       "    <tr>\n",
       "      <th>22</th>\n",
       "      <td>CAUSEY RICHARD A</td>\n",
       "      <td>2502063.0</td>\n",
       "    </tr>\n",
       "    <tr>\n",
       "      <th>11</th>\n",
       "      <td>BHATNAGAR SANJAY</td>\n",
       "      <td>2604490.0</td>\n",
       "    </tr>\n",
       "    <tr>\n",
       "      <th>112</th>\n",
       "      <td>RICE KENNETH D</td>\n",
       "      <td>2748364.0</td>\n",
       "    </tr>\n",
       "    <tr>\n",
       "      <th>139</th>\n",
       "      <td>WHALLEY LAWRENCE G</td>\n",
       "      <td>2796177.0</td>\n",
       "    </tr>\n",
       "    <tr>\n",
       "      <th>144</th>\n",
       "      <td>YEAGER F SCOTT</td>\n",
       "      <td>3576206.0</td>\n",
       "    </tr>\n",
       "    <tr>\n",
       "      <th>69</th>\n",
       "      <td>IZZO LAWRENCE L</td>\n",
       "      <td>3654808.0</td>\n",
       "    </tr>\n",
       "    <tr>\n",
       "      <th>3</th>\n",
       "      <td>BAXTER JOHN C</td>\n",
       "      <td>3942714.0</td>\n",
       "    </tr>\n",
       "    <tr>\n",
       "      <th>73</th>\n",
       "      <td>KEAN STEVEN J</td>\n",
       "      <td>4131594.0</td>\n",
       "    </tr>\n",
       "    <tr>\n",
       "      <th>47</th>\n",
       "      <td>FREVERT MARK A</td>\n",
       "      <td>4188667.0</td>\n",
       "    </tr>\n",
       "    <tr>\n",
       "      <th>122</th>\n",
       "      <td>SKILLING JEFFREY K</td>\n",
       "      <td>6843672.0</td>\n",
       "    </tr>\n",
       "    <tr>\n",
       "      <th>103</th>\n",
       "      <td>PAI LOU L</td>\n",
       "      <td>8453763.0</td>\n",
       "    </tr>\n",
       "    <tr>\n",
       "      <th>140</th>\n",
       "      <td>WHITE JR THOMAS E</td>\n",
       "      <td>13847074.0</td>\n",
       "    </tr>\n",
       "    <tr>\n",
       "      <th>79</th>\n",
       "      <td>LAY KENNETH L</td>\n",
       "      <td>14761694.0</td>\n",
       "    </tr>\n",
       "  </tbody>\n",
       "</table>\n",
       "</div>"
      ],
      "text/plain": [
       "              full_name  restricted_stock\n",
       "60         HAUG DAVID L         2217299.0\n",
       "22     CAUSEY RICHARD A         2502063.0\n",
       "11     BHATNAGAR SANJAY         2604490.0\n",
       "112      RICE KENNETH D         2748364.0\n",
       "139  WHALLEY LAWRENCE G         2796177.0\n",
       "144      YEAGER F SCOTT         3576206.0\n",
       "69      IZZO LAWRENCE L         3654808.0\n",
       "3         BAXTER JOHN C         3942714.0\n",
       "73        KEAN STEVEN J         4131594.0\n",
       "47       FREVERT MARK A         4188667.0\n",
       "122  SKILLING JEFFREY K         6843672.0\n",
       "103           PAI LOU L         8453763.0\n",
       "140   WHITE JR THOMAS E        13847074.0\n",
       "79        LAY KENNETH L        14761694.0"
      ]
     },
     "execution_count": 28,
     "metadata": {},
     "output_type": "execute_result"
    }
   ],
   "source": [
    "outliers(df,'restricted_stock')"
   ]
  },
  {
   "cell_type": "markdown",
   "metadata": {},
   "source": [
    "# Task 3\n",
    "\n",
    "Create new feature(s)"
   ]
  },
  {
   "cell_type": "code",
   "execution_count": 29,
   "metadata": {},
   "outputs": [
    {
     "data": {
      "text/plain": [
       "['poi',\n",
       " 'salary',\n",
       " 'total_payments',\n",
       " 'bonus',\n",
       " 'total_stock_value',\n",
       " 'expenses',\n",
       " 'exercised_stock_options',\n",
       " 'other',\n",
       " 'restricted_stock',\n",
       " 'to_messages',\n",
       " 'from_poi_to_this_person',\n",
       " 'from_messages',\n",
       " 'from_this_person_to_poi',\n",
       " 'shared_receipt_with_poi',\n",
       " 'deferral_payments',\n",
       " 'director_fees',\n",
       " 'deferred_income',\n",
       " 'long_term_incentive']"
      ]
     },
     "execution_count": 29,
     "metadata": {},
     "output_type": "execute_result"
    }
   ],
   "source": [
    "features_list"
   ]
  },
  {
   "cell_type": "code",
   "execution_count": 30,
   "metadata": {},
   "outputs": [],
   "source": [
    "# proportion of received messages from poi out of total received messages\n",
    "# and sent messages to poi out of total sent messages\n",
    "df['from_poi_proportion']=df.from_poi_to_this_person/df.to_messages\n",
    "df['to_poi_proportion']=df.from_this_person_to_poi/df.from_messages\n",
    "\n",
    "# bonus to salary ratio\n",
    "df['bonus_to_salary']=df.bonus/df.salary\n",
    "\n",
    "# restricted stock as a proportion of total stock value\n",
    "df['restricted_to_total_stock']=df.restricted_stock/df.total_stock_value\n"
   ]
  },
  {
   "cell_type": "code",
   "execution_count": 31,
   "metadata": {},
   "outputs": [],
   "source": [
    "# updated features list\n",
    "features_list = features_list + ['from_poi_proportion','to_poi_proportion',\n",
    "                                 'bonus_to_salary','restricted_to_total_stock']"
   ]
  },
  {
   "cell_type": "code",
   "execution_count": 32,
   "metadata": {},
   "outputs": [],
   "source": [
    "df.loc[df[df.email_address=='NaN'].index,'email_address']=np.nan\n",
    "df['poi']=df.poi.apply(lambda x: 1 if x else 0)\n",
    "data_dict = df.set_index('full_name').to_dict(orient='index')"
   ]
  },
  {
   "cell_type": "code",
   "execution_count": 33,
   "metadata": {},
   "outputs": [],
   "source": [
    "# convert np.nan to 'NaN' for compatibility with tester\n",
    "for k,v in data_dict.items():\n",
    "    for sk,sv in v.items():\n",
    "        if sv!=sv:\n",
    "            data_dict[k][sk]='NaN'"
   ]
  },
  {
   "cell_type": "code",
   "execution_count": 34,
   "metadata": {},
   "outputs": [],
   "source": [
    "### Store to my_dataset for easy export below.\n",
    "my_dataset = data_dict\n",
    "\n",
    "### Extract features and labels from dataset for local testing\n",
    "#data = featureFormat(my_dataset, features_list, sort_keys = True)\n",
    "#labels, features = targetFeatureSplit(data)\n",
    "\n",
    "features = np.array(df[features_list].fillna(0).iloc[:,1:])\n",
    "labels = np.array(df[features_list].fillna(0).iloc[:,0])"
   ]
  },
  {
   "cell_type": "code",
   "execution_count": 35,
   "metadata": {},
   "outputs": [],
   "source": [
    "# using select kbest with f_classif algorithms to sort out the top features\n",
    "from sklearn import feature_selection"
   ]
  },
  {
   "cell_type": "code",
   "execution_count": 36,
   "metadata": {},
   "outputs": [],
   "source": [
    "select = feature_selection.SelectKBest()"
   ]
  },
  {
   "cell_type": "code",
   "execution_count": 37,
   "metadata": {},
   "outputs": [
    {
     "data": {
      "text/plain": [
       "SelectKBest(k=10, score_func=<function f_classif at 0x1a1b73d268>)"
      ]
     },
     "execution_count": 37,
     "metadata": {},
     "output_type": "execute_result"
    }
   ],
   "source": [
    "select.fit(features, labels)"
   ]
  },
  {
   "cell_type": "code",
   "execution_count": 38,
   "metadata": {
    "scrolled": true
   },
   "outputs": [],
   "source": [
    "feat_selection = pd.DataFrame([{'feature':f,'score':s,'p_value':p} \n",
    "                               for f,s,p in zip(features_list[1:],\n",
    "                                                select.scores_, \n",
    "                                                select.pvalues_)])"
   ]
  },
  {
   "cell_type": "code",
   "execution_count": 39,
   "metadata": {
    "scrolled": true
   },
   "outputs": [
    {
     "data": {
      "text/html": [
       "<div>\n",
       "<style scoped>\n",
       "    .dataframe tbody tr th:only-of-type {\n",
       "        vertical-align: middle;\n",
       "    }\n",
       "\n",
       "    .dataframe tbody tr th {\n",
       "        vertical-align: top;\n",
       "    }\n",
       "\n",
       "    .dataframe thead th {\n",
       "        text-align: right;\n",
       "    }\n",
       "</style>\n",
       "<table border=\"1\" class=\"dataframe\">\n",
       "  <thead>\n",
       "    <tr style=\"text-align: right;\">\n",
       "      <th></th>\n",
       "      <th>feature</th>\n",
       "      <th>p_value</th>\n",
       "      <th>score</th>\n",
       "    </tr>\n",
       "  </thead>\n",
       "  <tbody>\n",
       "    <tr>\n",
       "      <th>3</th>\n",
       "      <td>total_stock_value</td>\n",
       "      <td>0.000005</td>\n",
       "      <td>22.511922</td>\n",
       "    </tr>\n",
       "    <tr>\n",
       "      <th>5</th>\n",
       "      <td>exercised_stock_options</td>\n",
       "      <td>0.000005</td>\n",
       "      <td>22.348834</td>\n",
       "    </tr>\n",
       "    <tr>\n",
       "      <th>2</th>\n",
       "      <td>bonus</td>\n",
       "      <td>0.000011</td>\n",
       "      <td>20.792252</td>\n",
       "    </tr>\n",
       "    <tr>\n",
       "      <th>0</th>\n",
       "      <td>salary</td>\n",
       "      <td>0.000035</td>\n",
       "      <td>18.289684</td>\n",
       "    </tr>\n",
       "    <tr>\n",
       "      <th>18</th>\n",
       "      <td>to_poi_proportion</td>\n",
       "      <td>0.000084</td>\n",
       "      <td>16.409713</td>\n",
       "    </tr>\n",
       "    <tr>\n",
       "      <th>15</th>\n",
       "      <td>deferred_income</td>\n",
       "      <td>0.000922</td>\n",
       "      <td>11.458477</td>\n",
       "    </tr>\n",
       "    <tr>\n",
       "      <th>19</th>\n",
       "      <td>bonus_to_salary</td>\n",
       "      <td>0.001292</td>\n",
       "      <td>10.783585</td>\n",
       "    </tr>\n",
       "    <tr>\n",
       "      <th>16</th>\n",
       "      <td>long_term_incentive</td>\n",
       "      <td>0.001994</td>\n",
       "      <td>9.922186</td>\n",
       "    </tr>\n",
       "    <tr>\n",
       "      <th>1</th>\n",
       "      <td>total_payments</td>\n",
       "      <td>0.002763</td>\n",
       "      <td>9.281862</td>\n",
       "    </tr>\n",
       "    <tr>\n",
       "      <th>7</th>\n",
       "      <td>restricted_stock</td>\n",
       "      <td>0.003487</td>\n",
       "      <td>8.828679</td>\n",
       "    </tr>\n",
       "    <tr>\n",
       "      <th>12</th>\n",
       "      <td>shared_receipt_with_poi</td>\n",
       "      <td>0.003946</td>\n",
       "      <td>8.589421</td>\n",
       "    </tr>\n",
       "    <tr>\n",
       "      <th>4</th>\n",
       "      <td>expenses</td>\n",
       "      <td>0.021263</td>\n",
       "      <td>5.425722</td>\n",
       "    </tr>\n",
       "    <tr>\n",
       "      <th>9</th>\n",
       "      <td>from_poi_to_this_person</td>\n",
       "      <td>0.023514</td>\n",
       "      <td>5.243450</td>\n",
       "    </tr>\n",
       "    <tr>\n",
       "      <th>6</th>\n",
       "      <td>other</td>\n",
       "      <td>0.042219</td>\n",
       "      <td>4.202436</td>\n",
       "    </tr>\n",
       "  </tbody>\n",
       "</table>\n",
       "</div>"
      ],
      "text/plain": [
       "                    feature   p_value      score\n",
       "3         total_stock_value  0.000005  22.511922\n",
       "5   exercised_stock_options  0.000005  22.348834\n",
       "2                     bonus  0.000011  20.792252\n",
       "0                    salary  0.000035  18.289684\n",
       "18        to_poi_proportion  0.000084  16.409713\n",
       "15          deferred_income  0.000922  11.458477\n",
       "19          bonus_to_salary  0.001292  10.783585\n",
       "16      long_term_incentive  0.001994   9.922186\n",
       "1            total_payments  0.002763   9.281862\n",
       "7          restricted_stock  0.003487   8.828679\n",
       "12  shared_receipt_with_poi  0.003946   8.589421\n",
       "4                  expenses  0.021263   5.425722\n",
       "9   from_poi_to_this_person  0.023514   5.243450\n",
       "6                     other  0.042219   4.202436"
      ]
     },
     "execution_count": 39,
     "metadata": {},
     "output_type": "execute_result"
    }
   ],
   "source": [
    "feat_selection.query('p_value<=0.05').sort_values(by='score', ascending=False)"
   ]
  },
  {
   "cell_type": "code",
   "execution_count": 40,
   "metadata": {},
   "outputs": [
    {
     "data": {
      "text/plain": [
       "['poi',\n",
       " 'salary',\n",
       " 'total_payments',\n",
       " 'bonus',\n",
       " 'total_stock_value',\n",
       " 'expenses',\n",
       " 'exercised_stock_options',\n",
       " 'other',\n",
       " 'restricted_stock',\n",
       " 'from_poi_to_this_person',\n",
       " 'shared_receipt_with_poi',\n",
       " 'deferred_income',\n",
       " 'long_term_incentive',\n",
       " 'to_poi_proportion',\n",
       " 'bonus_to_salary']"
      ]
     },
     "execution_count": 40,
     "metadata": {},
     "output_type": "execute_result"
    }
   ],
   "source": [
    "features_list = ['poi'] + list(feat_selection.query('p_value<=0.05').feature)\n",
    "features_list"
   ]
  },
  {
   "cell_type": "code",
   "execution_count": 41,
   "metadata": {},
   "outputs": [],
   "source": [
    "features = np.array(df[features_list].fillna(0).iloc[:,1:])\n",
    "labels = np.array(df[features_list].fillna(0).iloc[:,0])"
   ]
  },
  {
   "cell_type": "markdown",
   "metadata": {
    "heading_collapsed": true
   },
   "source": [
    "# Task 4\n",
    "\n",
    "Try a varity of classifiers.<br>\n",
    "Please name your classifier clf for easy export below.<br>\n",
    "Note that if you want to do PCA or other multi-stage operations,\n",
    "you'll need to use Pipelines. For more info:<br>\n",
    "http://scikit-learn.org/stable/modules/pipeline.html"
   ]
  },
  {
   "cell_type": "code",
   "execution_count": null,
   "metadata": {
    "hidden": true
   },
   "outputs": [],
   "source": [
    "# Provided to give you a starting point. Try a variety of classifiers.\n",
    "#from sklearn.naive_bayes import GaussianNB\n",
    "#clf = GaussianNB()"
   ]
  },
  {
   "cell_type": "markdown",
   "metadata": {},
   "source": [
    "# Task 5\n",
    "\n",
    "Tune your classifier to achieve better than .3 precision and recall\n",
    "using our testing script. Check the tester.py script in the final project\n",
    "folder for details on the evaluation method, especially the test_classifier\n",
    "function. Because of the small size of the dataset, the script uses\n",
    "stratified shuffle split cross validation. For more info:  <br>\n",
    "http://scikit-learn.org/stable/modules/generated/sklearn.cross_validation.StratifiedShuffleSplit.html"
   ]
  },
  {
   "cell_type": "code",
   "execution_count": 42,
   "metadata": {},
   "outputs": [],
   "source": [
    "# Example starting point. Try investigating other evaluation techniques!\n",
    "from sklearn import model_selection"
   ]
  },
  {
   "cell_type": "code",
   "execution_count": 43,
   "metadata": {},
   "outputs": [],
   "source": [
    "features_train, features_test, labels_train, labels_test = \\\n",
    "    model_selection.train_test_split(features, labels, test_size=0.3, \n",
    "                                     random_state=42)"
   ]
  },
  {
   "cell_type": "code",
   "execution_count": 44,
   "metadata": {},
   "outputs": [],
   "source": [
    "from sklearn import metrics"
   ]
  },
  {
   "cell_type": "markdown",
   "metadata": {},
   "source": [
    "#### GaussianNB"
   ]
  },
  {
   "cell_type": "code",
   "execution_count": 45,
   "metadata": {},
   "outputs": [],
   "source": [
    "from sklearn.naive_bayes import GaussianNB"
   ]
  },
  {
   "cell_type": "code",
   "execution_count": 48,
   "metadata": {},
   "outputs": [],
   "source": [
    "poi_prop=df.poi.sum()/df.poi.size\n",
    "params_grid={'priors':[None,[.5,.5],[.9,.1],[1-poi_prop, poi_prop]]}"
   ]
  },
  {
   "cell_type": "code",
   "execution_count": 49,
   "metadata": {},
   "outputs": [],
   "source": [
    "clf = model_selection.GridSearchCV(GaussianNB(),params_grid, \n",
    "                                   return_train_score=True)"
   ]
  },
  {
   "cell_type": "code",
   "execution_count": 50,
   "metadata": {},
   "outputs": [
    {
     "data": {
      "text/plain": [
       "GridSearchCV(cv=None, error_score='raise', estimator=GaussianNB(priors=None),\n",
       "       fit_params=None, iid=True, n_jobs=1,\n",
       "       param_grid={'priors': [None, [0.5, 0.5], [0.9, 0.1], [0.8741258741258742, 0.1258741258741259]]},\n",
       "       pre_dispatch='2*n_jobs', refit=True, return_train_score=True,\n",
       "       scoring=None, verbose=0)"
      ]
     },
     "execution_count": 50,
     "metadata": {},
     "output_type": "execute_result"
    }
   ],
   "source": [
    "clf.fit(features_train, labels_train)"
   ]
  },
  {
   "cell_type": "code",
   "execution_count": 51,
   "metadata": {},
   "outputs": [
    {
     "name": "stdout",
     "output_type": "stream",
     "text": [
      "best parameters:  {'priors': None}\n",
      "\n",
      "0.780 (+/-0.184) for {'priors': None}\n",
      "0.750 (+/-0.198) for {'priors': [0.5, 0.5]}\n",
      "0.780 (+/-0.184) for {'priors': [0.9, 0.1]}\n",
      "0.780 (+/-0.184) for {'priors': [0.8741258741258742, 0.1258741258741259]}\n",
      "\n"
     ]
    }
   ],
   "source": [
    "means = clf.cv_results_['mean_test_score']\n",
    "stds = clf.cv_results_['std_test_score']\n",
    "params = clf.cv_results_['params']\n",
    "\n",
    "print('best parameters: ', clf.best_params_)\n",
    "print()\n",
    "for mean, std, params in zip(means, stds, params):\n",
    "    print(\"%0.3f (+/-%0.03f) for %r\"\n",
    "          % (mean, std * 2, params))\n",
    "print()"
   ]
  },
  {
   "cell_type": "code",
   "execution_count": 52,
   "metadata": {},
   "outputs": [
    {
     "data": {
      "image/png": "[encoded data removed]",
      "text/plain": [
       "<matplotlib.figure.Figure at 0x1a1b8c7e10>"
      ]
     },
     "metadata": {},
     "output_type": "display_data"
    }
   ],
   "source": [
    "preds=clf.predict(features_test)\n",
    "cm=metrics.confusion_matrix(labels_test, preds)\n",
    "\n",
    "plot_confusion_matrix(cm, ['non-poi','poi'], normalize=False,figsize=(4,3))"
   ]
  },
  {
   "cell_type": "code",
   "execution_count": 53,
   "metadata": {},
   "outputs": [
    {
     "name": "stdout",
     "output_type": "stream",
     "text": [
      "             precision    recall  f1-score   support\n",
      "\n",
      "          0       0.92      0.92      0.92        38\n",
      "          1       0.40      0.40      0.40         5\n",
      "\n",
      "avg / total       0.86      0.86      0.86        43\n",
      "\n"
     ]
    }
   ],
   "source": [
    "print(metrics.classification_report(labels_test, preds))"
   ]
  },
  {
   "cell_type": "code",
   "execution_count": 54,
   "metadata": {},
   "outputs": [
    {
     "name": "stdout",
     "output_type": "stream",
     "text": [
      "Accuracy: 0.84000\tPrecision: 0.35714\n",
      "Recall: 0.25000\tF1: 0.29412\tF2: 0.26596\n",
      "\n",
      "Total predictions:  150\tTrue positives:    5\tFalse positives:    9\n",
      "False negatives:   15\tTrue negatives:  121\n",
      "\n"
     ]
    }
   ],
   "source": [
    "test_classifier(clf, my_dataset, features_list)"
   ]
  },
  {
   "cell_type": "markdown",
   "metadata": {},
   "source": [
    "#### Decision Tree"
   ]
  },
  {
   "cell_type": "code",
   "execution_count": 55,
   "metadata": {},
   "outputs": [],
   "source": [
    "from sklearn import tree"
   ]
  },
  {
   "cell_type": "code",
   "execution_count": 59,
   "metadata": {},
   "outputs": [],
   "source": [
    "params_grid={\n",
    "    'criterion':['gini','entropy'],\n",
    "    'min_samples_leaf':[1,2,4,6,8],\n",
    "    'max_depth':[None,2,4,8],\n",
    "    'min_samples_split':[2,4,6,8]   \n",
    "}\n",
    "clf = model_selection.GridSearchCV(tree.DecisionTreeClassifier(),params_grid)"
   ]
  },
  {
   "cell_type": "code",
   "execution_count": 60,
   "metadata": {},
   "outputs": [
    {
     "data": {
      "text/plain": [
       "GridSearchCV(cv=None, error_score='raise',\n",
       "       estimator=DecisionTreeClassifier(class_weight=None, criterion='gini', max_depth=None,\n",
       "            max_features=None, max_leaf_nodes=None,\n",
       "            min_impurity_decrease=0.0, min_impurity_split=None,\n",
       "            min_samples_leaf=1, min_samples_split=2,\n",
       "            min_weight_fraction_leaf=0.0, presort=False, random_state=None,\n",
       "            splitter='best'),\n",
       "       fit_params=None, iid=True, n_jobs=1,\n",
       "       param_grid={'criterion': ['gini', 'entropy'], 'min_samples_leaf': [1, 2, 4, 6, 8], 'max_depth': [None, 2, 4, 8], 'min_samples_split': [2, 4, 6, 8]},\n",
       "       pre_dispatch='2*n_jobs', refit=True, return_train_score='warn',\n",
       "       scoring=None, verbose=0)"
      ]
     },
     "execution_count": 60,
     "metadata": {},
     "output_type": "execute_result"
    }
   ],
   "source": [
    "clf.fit(features_train, labels_train)"
   ]
  },
  {
   "cell_type": "code",
   "execution_count": 61,
   "metadata": {},
   "outputs": [
    {
     "name": "stdout",
     "output_type": "stream",
     "text": [
      "best parameters:  {'criterion': 'entropy', 'max_depth': None, 'min_samples_leaf': 8, 'min_samples_split': 6}\n",
      "\n",
      "0.780 (+/-0.125) for {'criterion': 'gini', 'max_depth': None, 'min_samples_leaf': 1, 'min_samples_split': 2}\n",
      "0.770 (+/-0.104) for {'criterion': 'gini', 'max_depth': None, 'min_samples_leaf': 1, 'min_samples_split': 4}\n",
      "0.800 (+/-0.026) for {'criterion': 'gini', 'max_depth': None, 'min_samples_leaf': 1, 'min_samples_split': 6}\n",
      "0.810 (+/-0.070) for {'criterion': 'gini', 'max_depth': None, 'min_samples_leaf': 1, 'min_samples_split': 8}\n",
      "0.810 (+/-0.070) for {'criterion': 'gini', 'max_depth': None, 'min_samples_leaf': 2, 'min_samples_split': 2}\n",
      "0.780 (+/-0.101) for {'criterion': 'gini', 'max_depth': None, 'min_samples_leaf': 2, 'min_samples_split': 4}\n",
      "0.780 (+/-0.069) for {'criterion': 'gini', 'max_depth': None, 'min_samples_leaf': 2, 'min_samples_split': 6}\n",
      "0.780 (+/-0.069) for {'criterion': 'gini', 'max_depth': None, 'min_samples_leaf': 2, 'min_samples_split': 8}\n",
      "0.810 (+/-0.118) for {'criterion': 'gini', 'max_depth': None, 'min_samples_leaf': 4, 'min_samples_split': 2}\n",
      "0.800 (+/-0.096) for {'criterion': 'gini', 'max_depth': None, 'min_samples_leaf': 4, 'min_samples_split': 4}\n",
      "0.810 (+/-0.118) for {'criterion': 'gini', 'max_depth': None, 'min_samples_leaf': 4, 'min_samples_split': 6}\n",
      "0.810 (+/-0.118) for {'criterion': 'gini', 'max_depth': None, 'min_samples_leaf': 4, 'min_samples_split': 8}\n",
      "0.850 (+/-0.094) for {'criterion': 'gini', 'max_depth': None, 'min_samples_leaf': 6, 'min_samples_split': 2}\n",
      "0.850 (+/-0.094) for {'criterion': 'gini', 'max_depth': None, 'min_samples_leaf': 6, 'min_samples_split': 4}\n",
      "0.840 (+/-0.070) for {'criterion': 'gini', 'max_depth': None, 'min_samples_leaf': 6, 'min_samples_split': 6}\n",
      "0.840 (+/-0.070) for {'criterion': 'gini', 'max_depth': None, 'min_samples_leaf': 6, 'min_samples_split': 8}\n",
      "0.840 (+/-0.070) for {'criterion': 'gini', 'max_depth': None, 'min_samples_leaf': 8, 'min_samples_split': 2}\n",
      "0.840 (+/-0.070) for {'criterion': 'gini', 'max_depth': None, 'min_samples_leaf': 8, 'min_samples_split': 4}\n",
      "0.840 (+/-0.070) for {'criterion': 'gini', 'max_depth': None, 'min_samples_leaf': 8, 'min_samples_split': 6}\n",
      "0.840 (+/-0.070) for {'criterion': 'gini', 'max_depth': None, 'min_samples_leaf': 8, 'min_samples_split': 8}\n",
      "0.850 (+/-0.143) for {'criterion': 'gini', 'max_depth': 2, 'min_samples_leaf': 1, 'min_samples_split': 2}\n",
      "0.850 (+/-0.143) for {'criterion': 'gini', 'max_depth': 2, 'min_samples_leaf': 1, 'min_samples_split': 4}\n",
      "0.840 (+/-0.119) for {'criterion': 'gini', 'max_depth': 2, 'min_samples_leaf': 1, 'min_samples_split': 6}\n",
      "0.840 (+/-0.119) for {'criterion': 'gini', 'max_depth': 2, 'min_samples_leaf': 1, 'min_samples_split': 8}\n",
      "0.850 (+/-0.143) for {'criterion': 'gini', 'max_depth': 2, 'min_samples_leaf': 2, 'min_samples_split': 2}\n",
      "0.840 (+/-0.119) for {'criterion': 'gini', 'max_depth': 2, 'min_samples_leaf': 2, 'min_samples_split': 4}\n",
      "0.850 (+/-0.143) for {'criterion': 'gini', 'max_depth': 2, 'min_samples_leaf': 2, 'min_samples_split': 6}\n",
      "0.840 (+/-0.119) for {'criterion': 'gini', 'max_depth': 2, 'min_samples_leaf': 2, 'min_samples_split': 8}\n",
      "0.850 (+/-0.143) for {'criterion': 'gini', 'max_depth': 2, 'min_samples_leaf': 4, 'min_samples_split': 2}\n",
      "0.850 (+/-0.143) for {'criterion': 'gini', 'max_depth': 2, 'min_samples_leaf': 4, 'min_samples_split': 4}\n",
      "0.840 (+/-0.119) for {'criterion': 'gini', 'max_depth': 2, 'min_samples_leaf': 4, 'min_samples_split': 6}\n",
      "0.850 (+/-0.143) for {'criterion': 'gini', 'max_depth': 2, 'min_samples_leaf': 4, 'min_samples_split': 8}\n",
      "0.850 (+/-0.094) for {'criterion': 'gini', 'max_depth': 2, 'min_samples_leaf': 6, 'min_samples_split': 2}\n",
      "0.810 (+/-0.054) for {'criterion': 'gini', 'max_depth': 2, 'min_samples_leaf': 6, 'min_samples_split': 4}\n",
      "0.840 (+/-0.070) for {'criterion': 'gini', 'max_depth': 2, 'min_samples_leaf': 6, 'min_samples_split': 6}\n",
      "0.840 (+/-0.070) for {'criterion': 'gini', 'max_depth': 2, 'min_samples_leaf': 6, 'min_samples_split': 8}\n",
      "0.840 (+/-0.070) for {'criterion': 'gini', 'max_depth': 2, 'min_samples_leaf': 8, 'min_samples_split': 2}\n",
      "0.840 (+/-0.070) for {'criterion': 'gini', 'max_depth': 2, 'min_samples_leaf': 8, 'min_samples_split': 4}\n",
      "0.840 (+/-0.070) for {'criterion': 'gini', 'max_depth': 2, 'min_samples_leaf': 8, 'min_samples_split': 6}\n",
      "0.840 (+/-0.070) for {'criterion': 'gini', 'max_depth': 2, 'min_samples_leaf': 8, 'min_samples_split': 8}\n",
      "0.800 (+/-0.026) for {'criterion': 'gini', 'max_depth': 4, 'min_samples_leaf': 1, 'min_samples_split': 2}\n",
      "0.770 (+/-0.104) for {'criterion': 'gini', 'max_depth': 4, 'min_samples_leaf': 1, 'min_samples_split': 4}\n",
      "0.770 (+/-0.104) for {'criterion': 'gini', 'max_depth': 4, 'min_samples_leaf': 1, 'min_samples_split': 6}\n",
      "0.780 (+/-0.054) for {'criterion': 'gini', 'max_depth': 4, 'min_samples_leaf': 1, 'min_samples_split': 8}\n",
      "0.790 (+/-0.082) for {'criterion': 'gini', 'max_depth': 4, 'min_samples_leaf': 2, 'min_samples_split': 2}\n",
      "0.770 (+/-0.070) for {'criterion': 'gini', 'max_depth': 4, 'min_samples_leaf': 2, 'min_samples_split': 4}\n",
      "0.770 (+/-0.070) for {'criterion': 'gini', 'max_depth': 4, 'min_samples_leaf': 2, 'min_samples_split': 6}\n",
      "0.770 (+/-0.070) for {'criterion': 'gini', 'max_depth': 4, 'min_samples_leaf': 2, 'min_samples_split': 8}\n",
      "0.800 (+/-0.096) for {'criterion': 'gini', 'max_depth': 4, 'min_samples_leaf': 4, 'min_samples_split': 2}\n",
      "0.830 (+/-0.168) for {'criterion': 'gini', 'max_depth': 4, 'min_samples_leaf': 4, 'min_samples_split': 4}\n",
      "0.810 (+/-0.118) for {'criterion': 'gini', 'max_depth': 4, 'min_samples_leaf': 4, 'min_samples_split': 6}\n",
      "0.800 (+/-0.096) for {'criterion': 'gini', 'max_depth': 4, 'min_samples_leaf': 4, 'min_samples_split': 8}\n",
      "0.850 (+/-0.094) for {'criterion': 'gini', 'max_depth': 4, 'min_samples_leaf': 6, 'min_samples_split': 2}\n",
      "0.840 (+/-0.070) for {'criterion': 'gini', 'max_depth': 4, 'min_samples_leaf': 6, 'min_samples_split': 4}\n",
      "0.810 (+/-0.054) for {'criterion': 'gini', 'max_depth': 4, 'min_samples_leaf': 6, 'min_samples_split': 6}\n",
      "0.810 (+/-0.054) for {'criterion': 'gini', 'max_depth': 4, 'min_samples_leaf': 6, 'min_samples_split': 8}\n",
      "0.840 (+/-0.070) for {'criterion': 'gini', 'max_depth': 4, 'min_samples_leaf': 8, 'min_samples_split': 2}\n",
      "0.840 (+/-0.070) for {'criterion': 'gini', 'max_depth': 4, 'min_samples_leaf': 8, 'min_samples_split': 4}\n",
      "0.840 (+/-0.070) for {'criterion': 'gini', 'max_depth': 4, 'min_samples_leaf': 8, 'min_samples_split': 6}\n",
      "0.840 (+/-0.070) for {'criterion': 'gini', 'max_depth': 4, 'min_samples_leaf': 8, 'min_samples_split': 8}\n",
      "0.780 (+/-0.077) for {'criterion': 'gini', 'max_depth': 8, 'min_samples_leaf': 1, 'min_samples_split': 2}\n",
      "0.790 (+/-0.050) for {'criterion': 'gini', 'max_depth': 8, 'min_samples_leaf': 1, 'min_samples_split': 4}\n",
      "0.800 (+/-0.026) for {'criterion': 'gini', 'max_depth': 8, 'min_samples_leaf': 1, 'min_samples_split': 6}\n",
      "0.770 (+/-0.074) for {'criterion': 'gini', 'max_depth': 8, 'min_samples_leaf': 1, 'min_samples_split': 8}\n",
      "0.810 (+/-0.070) for {'criterion': 'gini', 'max_depth': 8, 'min_samples_leaf': 2, 'min_samples_split': 2}\n",
      "0.800 (+/-0.071) for {'criterion': 'gini', 'max_depth': 8, 'min_samples_leaf': 2, 'min_samples_split': 4}\n",
      "0.780 (+/-0.069) for {'criterion': 'gini', 'max_depth': 8, 'min_samples_leaf': 2, 'min_samples_split': 6}\n",
      "0.760 (+/-0.082) for {'criterion': 'gini', 'max_depth': 8, 'min_samples_leaf': 2, 'min_samples_split': 8}\n",
      "0.810 (+/-0.118) for {'criterion': 'gini', 'max_depth': 8, 'min_samples_leaf': 4, 'min_samples_split': 2}\n",
      "0.810 (+/-0.118) for {'criterion': 'gini', 'max_depth': 8, 'min_samples_leaf': 4, 'min_samples_split': 4}\n",
      "0.800 (+/-0.096) for {'criterion': 'gini', 'max_depth': 8, 'min_samples_leaf': 4, 'min_samples_split': 6}\n",
      "0.810 (+/-0.118) for {'criterion': 'gini', 'max_depth': 8, 'min_samples_leaf': 4, 'min_samples_split': 8}\n",
      "0.850 (+/-0.094) for {'criterion': 'gini', 'max_depth': 8, 'min_samples_leaf': 6, 'min_samples_split': 2}\n",
      "0.850 (+/-0.094) for {'criterion': 'gini', 'max_depth': 8, 'min_samples_leaf': 6, 'min_samples_split': 4}\n",
      "0.850 (+/-0.094) for {'criterion': 'gini', 'max_depth': 8, 'min_samples_leaf': 6, 'min_samples_split': 6}\n",
      "0.840 (+/-0.070) for {'criterion': 'gini', 'max_depth': 8, 'min_samples_leaf': 6, 'min_samples_split': 8}\n",
      "0.840 (+/-0.070) for {'criterion': 'gini', 'max_depth': 8, 'min_samples_leaf': 8, 'min_samples_split': 2}\n",
      "0.840 (+/-0.070) for {'criterion': 'gini', 'max_depth': 8, 'min_samples_leaf': 8, 'min_samples_split': 4}\n",
      "0.840 (+/-0.070) for {'criterion': 'gini', 'max_depth': 8, 'min_samples_leaf': 8, 'min_samples_split': 6}\n",
      "0.840 (+/-0.070) for {'criterion': 'gini', 'max_depth': 8, 'min_samples_leaf': 8, 'min_samples_split': 8}\n",
      "0.780 (+/-0.128) for {'criterion': 'entropy', 'max_depth': None, 'min_samples_leaf': 1, 'min_samples_split': 2}\n",
      "0.800 (+/-0.145) for {'criterion': 'entropy', 'max_depth': None, 'min_samples_leaf': 1, 'min_samples_split': 4}\n",
      "0.770 (+/-0.145) for {'criterion': 'entropy', 'max_depth': None, 'min_samples_leaf': 1, 'min_samples_split': 6}\n",
      "0.800 (+/-0.060) for {'criterion': 'entropy', 'max_depth': None, 'min_samples_leaf': 1, 'min_samples_split': 8}\n",
      "0.800 (+/-0.145) for {'criterion': 'entropy', 'max_depth': None, 'min_samples_leaf': 2, 'min_samples_split': 2}\n",
      "0.790 (+/-0.134) for {'criterion': 'entropy', 'max_depth': None, 'min_samples_leaf': 2, 'min_samples_split': 4}\n",
      "0.780 (+/-0.117) for {'criterion': 'entropy', 'max_depth': None, 'min_samples_leaf': 2, 'min_samples_split': 6}\n",
      "0.800 (+/-0.060) for {'criterion': 'entropy', 'max_depth': None, 'min_samples_leaf': 2, 'min_samples_split': 8}\n",
      "0.820 (+/-0.005) for {'criterion': 'entropy', 'max_depth': None, 'min_samples_leaf': 4, 'min_samples_split': 2}\n",
      "0.820 (+/-0.005) for {'criterion': 'entropy', 'max_depth': None, 'min_samples_leaf': 4, 'min_samples_split': 4}\n",
      "0.820 (+/-0.005) for {'criterion': 'entropy', 'max_depth': None, 'min_samples_leaf': 4, 'min_samples_split': 6}\n",
      "0.820 (+/-0.005) for {'criterion': 'entropy', 'max_depth': None, 'min_samples_leaf': 4, 'min_samples_split': 8}\n",
      "0.820 (+/-0.045) for {'criterion': 'entropy', 'max_depth': None, 'min_samples_leaf': 6, 'min_samples_split': 2}\n",
      "0.820 (+/-0.045) for {'criterion': 'entropy', 'max_depth': None, 'min_samples_leaf': 6, 'min_samples_split': 4}\n",
      "0.820 (+/-0.045) for {'criterion': 'entropy', 'max_depth': None, 'min_samples_leaf': 6, 'min_samples_split': 6}\n",
      "0.790 (+/-0.099) for {'criterion': 'entropy', 'max_depth': None, 'min_samples_leaf': 6, 'min_samples_split': 8}\n",
      "0.790 (+/-0.099) for {'criterion': 'entropy', 'max_depth': None, 'min_samples_leaf': 8, 'min_samples_split': 2}\n",
      "0.820 (+/-0.045) for {'criterion': 'entropy', 'max_depth': None, 'min_samples_leaf': 8, 'min_samples_split': 4}\n",
      "0.860 (+/-0.120) for {'criterion': 'entropy', 'max_depth': None, 'min_samples_leaf': 8, 'min_samples_split': 6}\n",
      "0.860 (+/-0.120) for {'criterion': 'entropy', 'max_depth': None, 'min_samples_leaf': 8, 'min_samples_split': 8}\n",
      "0.820 (+/-0.049) for {'criterion': 'entropy', 'max_depth': 2, 'min_samples_leaf': 1, 'min_samples_split': 2}\n",
      "0.820 (+/-0.049) for {'criterion': 'entropy', 'max_depth': 2, 'min_samples_leaf': 1, 'min_samples_split': 4}\n",
      "0.820 (+/-0.049) for {'criterion': 'entropy', 'max_depth': 2, 'min_samples_leaf': 1, 'min_samples_split': 6}\n",
      "0.820 (+/-0.049) for {'criterion': 'entropy', 'max_depth': 2, 'min_samples_leaf': 1, 'min_samples_split': 8}\n",
      "0.820 (+/-0.049) for {'criterion': 'entropy', 'max_depth': 2, 'min_samples_leaf': 2, 'min_samples_split': 2}\n",
      "0.820 (+/-0.049) for {'criterion': 'entropy', 'max_depth': 2, 'min_samples_leaf': 2, 'min_samples_split': 4}\n",
      "0.820 (+/-0.049) for {'criterion': 'entropy', 'max_depth': 2, 'min_samples_leaf': 2, 'min_samples_split': 6}\n",
      "0.820 (+/-0.049) for {'criterion': 'entropy', 'max_depth': 2, 'min_samples_leaf': 2, 'min_samples_split': 8}\n",
      "0.850 (+/-0.045) for {'criterion': 'entropy', 'max_depth': 2, 'min_samples_leaf': 4, 'min_samples_split': 2}\n",
      "0.850 (+/-0.045) for {'criterion': 'entropy', 'max_depth': 2, 'min_samples_leaf': 4, 'min_samples_split': 4}\n",
      "0.850 (+/-0.045) for {'criterion': 'entropy', 'max_depth': 2, 'min_samples_leaf': 4, 'min_samples_split': 6}\n",
      "0.850 (+/-0.045) for {'criterion': 'entropy', 'max_depth': 2, 'min_samples_leaf': 4, 'min_samples_split': 8}\n",
      "0.840 (+/-0.070) for {'criterion': 'entropy', 'max_depth': 2, 'min_samples_leaf': 6, 'min_samples_split': 2}\n",
      "0.840 (+/-0.070) for {'criterion': 'entropy', 'max_depth': 2, 'min_samples_leaf': 6, 'min_samples_split': 4}\n",
      "0.840 (+/-0.070) for {'criterion': 'entropy', 'max_depth': 2, 'min_samples_leaf': 6, 'min_samples_split': 6}\n",
      "0.840 (+/-0.070) for {'criterion': 'entropy', 'max_depth': 2, 'min_samples_leaf': 6, 'min_samples_split': 8}\n",
      "0.840 (+/-0.070) for {'criterion': 'entropy', 'max_depth': 2, 'min_samples_leaf': 8, 'min_samples_split': 2}\n",
      "0.840 (+/-0.070) for {'criterion': 'entropy', 'max_depth': 2, 'min_samples_leaf': 8, 'min_samples_split': 4}\n",
      "0.840 (+/-0.070) for {'criterion': 'entropy', 'max_depth': 2, 'min_samples_leaf': 8, 'min_samples_split': 6}\n",
      "0.840 (+/-0.070) for {'criterion': 'entropy', 'max_depth': 2, 'min_samples_leaf': 8, 'min_samples_split': 8}\n",
      "0.810 (+/-0.079) for {'criterion': 'entropy', 'max_depth': 4, 'min_samples_leaf': 1, 'min_samples_split': 2}\n",
      "0.810 (+/-0.079) for {'criterion': 'entropy', 'max_depth': 4, 'min_samples_leaf': 1, 'min_samples_split': 4}\n",
      "0.800 (+/-0.060) for {'criterion': 'entropy', 'max_depth': 4, 'min_samples_leaf': 1, 'min_samples_split': 6}\n",
      "0.800 (+/-0.060) for {'criterion': 'entropy', 'max_depth': 4, 'min_samples_leaf': 1, 'min_samples_split': 8}\n",
      "0.810 (+/-0.079) for {'criterion': 'entropy', 'max_depth': 4, 'min_samples_leaf': 2, 'min_samples_split': 2}\n",
      "0.820 (+/-0.088) for {'criterion': 'entropy', 'max_depth': 4, 'min_samples_leaf': 2, 'min_samples_split': 4}\n",
      "0.800 (+/-0.060) for {'criterion': 'entropy', 'max_depth': 4, 'min_samples_leaf': 2, 'min_samples_split': 6}\n",
      "0.800 (+/-0.060) for {'criterion': 'entropy', 'max_depth': 4, 'min_samples_leaf': 2, 'min_samples_split': 8}\n",
      "0.820 (+/-0.005) for {'criterion': 'entropy', 'max_depth': 4, 'min_samples_leaf': 4, 'min_samples_split': 2}\n",
      "0.820 (+/-0.005) for {'criterion': 'entropy', 'max_depth': 4, 'min_samples_leaf': 4, 'min_samples_split': 4}\n",
      "0.820 (+/-0.005) for {'criterion': 'entropy', 'max_depth': 4, 'min_samples_leaf': 4, 'min_samples_split': 6}\n",
      "0.820 (+/-0.005) for {'criterion': 'entropy', 'max_depth': 4, 'min_samples_leaf': 4, 'min_samples_split': 8}\n",
      "0.820 (+/-0.045) for {'criterion': 'entropy', 'max_depth': 4, 'min_samples_leaf': 6, 'min_samples_split': 2}\n",
      "0.820 (+/-0.045) for {'criterion': 'entropy', 'max_depth': 4, 'min_samples_leaf': 6, 'min_samples_split': 4}\n",
      "0.780 (+/-0.125) for {'criterion': 'entropy', 'max_depth': 4, 'min_samples_leaf': 6, 'min_samples_split': 6}\n",
      "0.780 (+/-0.125) for {'criterion': 'entropy', 'max_depth': 4, 'min_samples_leaf': 6, 'min_samples_split': 8}\n",
      "0.780 (+/-0.125) for {'criterion': 'entropy', 'max_depth': 4, 'min_samples_leaf': 8, 'min_samples_split': 2}\n",
      "0.790 (+/-0.099) for {'criterion': 'entropy', 'max_depth': 4, 'min_samples_leaf': 8, 'min_samples_split': 4}\n",
      "0.860 (+/-0.120) for {'criterion': 'entropy', 'max_depth': 4, 'min_samples_leaf': 8, 'min_samples_split': 6}\n",
      "0.860 (+/-0.120) for {'criterion': 'entropy', 'max_depth': 4, 'min_samples_leaf': 8, 'min_samples_split': 8}\n",
      "0.780 (+/-0.128) for {'criterion': 'entropy', 'max_depth': 8, 'min_samples_leaf': 1, 'min_samples_split': 2}\n",
      "0.790 (+/-0.173) for {'criterion': 'entropy', 'max_depth': 8, 'min_samples_leaf': 1, 'min_samples_split': 4}\n",
      "0.770 (+/-0.145) for {'criterion': 'entropy', 'max_depth': 8, 'min_samples_leaf': 1, 'min_samples_split': 6}\n",
      "0.790 (+/-0.088) for {'criterion': 'entropy', 'max_depth': 8, 'min_samples_leaf': 1, 'min_samples_split': 8}\n",
      "0.790 (+/-0.134) for {'criterion': 'entropy', 'max_depth': 8, 'min_samples_leaf': 2, 'min_samples_split': 2}\n",
      "0.800 (+/-0.145) for {'criterion': 'entropy', 'max_depth': 8, 'min_samples_leaf': 2, 'min_samples_split': 4}\n",
      "0.780 (+/-0.117) for {'criterion': 'entropy', 'max_depth': 8, 'min_samples_leaf': 2, 'min_samples_split': 6}\n",
      "0.800 (+/-0.060) for {'criterion': 'entropy', 'max_depth': 8, 'min_samples_leaf': 2, 'min_samples_split': 8}\n",
      "0.820 (+/-0.005) for {'criterion': 'entropy', 'max_depth': 8, 'min_samples_leaf': 4, 'min_samples_split': 2}\n",
      "0.820 (+/-0.005) for {'criterion': 'entropy', 'max_depth': 8, 'min_samples_leaf': 4, 'min_samples_split': 4}\n",
      "0.820 (+/-0.005) for {'criterion': 'entropy', 'max_depth': 8, 'min_samples_leaf': 4, 'min_samples_split': 6}\n",
      "0.820 (+/-0.005) for {'criterion': 'entropy', 'max_depth': 8, 'min_samples_leaf': 4, 'min_samples_split': 8}\n",
      "0.780 (+/-0.125) for {'criterion': 'entropy', 'max_depth': 8, 'min_samples_leaf': 6, 'min_samples_split': 2}\n",
      "0.780 (+/-0.125) for {'criterion': 'entropy', 'max_depth': 8, 'min_samples_leaf': 6, 'min_samples_split': 4}\n",
      "0.820 (+/-0.045) for {'criterion': 'entropy', 'max_depth': 8, 'min_samples_leaf': 6, 'min_samples_split': 6}\n",
      "0.780 (+/-0.125) for {'criterion': 'entropy', 'max_depth': 8, 'min_samples_leaf': 6, 'min_samples_split': 8}\n",
      "0.860 (+/-0.120) for {'criterion': 'entropy', 'max_depth': 8, 'min_samples_leaf': 8, 'min_samples_split': 2}\n",
      "0.860 (+/-0.120) for {'criterion': 'entropy', 'max_depth': 8, 'min_samples_leaf': 8, 'min_samples_split': 4}\n",
      "0.860 (+/-0.120) for {'criterion': 'entropy', 'max_depth': 8, 'min_samples_leaf': 8, 'min_samples_split': 6}\n",
      "0.820 (+/-0.045) for {'criterion': 'entropy', 'max_depth': 8, 'min_samples_leaf': 8, 'min_samples_split': 8}\n",
      "\n"
     ]
    }
   ],
   "source": [
    "means = clf.cv_results_['mean_test_score']\n",
    "stds = clf.cv_results_['std_test_score']\n",
    "params = clf.cv_results_['params']\n",
    "\n",
    "print('best parameters: ', clf.best_params_)\n",
    "print()\n",
    "for mean, std, params in zip(means, stds, params):\n",
    "    print(\"%0.3f (+/-%0.03f) for %r\"\n",
    "          % (mean, std * 2, params))\n",
    "print()"
   ]
  },
  {
   "cell_type": "code",
   "execution_count": 62,
   "metadata": {},
   "outputs": [
    {
     "data": {
      "image/png": "[encoded data removed]",
      "text/plain": [
       "<matplotlib.figure.Figure at 0x1a13a0e240>"
      ]
     },
     "metadata": {},
     "output_type": "display_data"
    }
   ],
   "source": [
    "preds=clf.predict(features_test)\n",
    "cm=metrics.confusion_matrix(labels_test, preds)\n",
    "\n",
    "plot_confusion_matrix(cm, ['non-poi','poi'], normalize=False,figsize=(4,3))"
   ]
  },
  {
   "cell_type": "code",
   "execution_count": 63,
   "metadata": {},
   "outputs": [
    {
     "name": "stdout",
     "output_type": "stream",
     "text": [
      "             precision    recall  f1-score   support\n",
      "\n",
      "          0       0.90      0.92      0.91        38\n",
      "          1       0.25      0.20      0.22         5\n",
      "\n",
      "avg / total       0.82      0.84      0.83        43\n",
      "\n"
     ]
    }
   ],
   "source": [
    "print(metrics.classification_report(labels_test, preds))"
   ]
  },
  {
   "cell_type": "code",
   "execution_count": 64,
   "metadata": {},
   "outputs": [
    {
     "name": "stdout",
     "output_type": "stream",
     "text": [
      "Accuracy: 0.86000\tPrecision: 0.47059\n",
      "Recall: 0.40000\tF1: 0.43243\tF2: 0.41237\n",
      "\n",
      "Total predictions:  150\tTrue positives:    8\tFalse positives:    9\n",
      "False negatives:   12\tTrue negatives:  121\n",
      "\n"
     ]
    }
   ],
   "source": [
    "test_classifier(clf, my_dataset, features_list)"
   ]
  },
  {
   "cell_type": "code",
   "execution_count": 65,
   "metadata": {},
   "outputs": [],
   "source": [
    "dump_classifier_and_data(clf, my_dataset, features_list,\n",
    "                         ['decision_tree.pkl','my_dataset.pkl',\n",
    "                          'my_feature_list.pkl'])"
   ]
  },
  {
   "cell_type": "markdown",
   "metadata": {},
   "source": [
    "#### Random Forest"
   ]
  },
  {
   "cell_type": "code",
   "execution_count": 67,
   "metadata": {},
   "outputs": [],
   "source": [
    "from sklearn import ensemble"
   ]
  },
  {
   "cell_type": "code",
   "execution_count": 68,
   "metadata": {},
   "outputs": [],
   "source": [
    "params_grid={\n",
    "    'n_estimators':[5,10,20,40,80,160,320],\n",
    "    'criterion':['gini','entropy'],\n",
    "    'min_samples_leaf':[1,2,4,6,8]\n",
    "}"
   ]
  },
  {
   "cell_type": "code",
   "execution_count": 69,
   "metadata": {},
   "outputs": [],
   "source": [
    "clf = model_selection.GridSearchCV(ensemble.RandomForestClassifier(), \n",
    "                                   params_grid, return_train_score=True)"
   ]
  },
  {
   "cell_type": "code",
   "execution_count": 70,
   "metadata": {},
   "outputs": [
    {
     "data": {
      "text/plain": [
       "GridSearchCV(cv=None, error_score='raise',\n",
       "       estimator=RandomForestClassifier(bootstrap=True, class_weight=None, criterion='gini',\n",
       "            max_depth=None, max_features='auto', max_leaf_nodes=None,\n",
       "            min_impurity_decrease=0.0, min_impurity_split=None,\n",
       "            min_samples_leaf=1, min_samples_split=2,\n",
       "            min_weight_fraction_leaf=0.0, n_estimators=10, n_jobs=1,\n",
       "            oob_score=False, random_state=None, verbose=0,\n",
       "            warm_start=False),\n",
       "       fit_params=None, iid=True, n_jobs=1,\n",
       "       param_grid={'n_estimators': [5, 10, 20, 40, 80, 160, 320], 'criterion': ['gini', 'entropy'], 'min_samples_leaf': [1, 2, 4, 6, 8]},\n",
       "       pre_dispatch='2*n_jobs', refit=True, return_train_score=True,\n",
       "       scoring=None, verbose=0)"
      ]
     },
     "execution_count": 70,
     "metadata": {},
     "output_type": "execute_result"
    }
   ],
   "source": [
    "clf.fit(features_train, labels_train)"
   ]
  },
  {
   "cell_type": "code",
   "execution_count": 71,
   "metadata": {},
   "outputs": [
    {
     "data": {
      "text/plain": [
       "{'criterion': 'gini', 'min_samples_leaf': 4, 'n_estimators': 20}"
      ]
     },
     "execution_count": 71,
     "metadata": {},
     "output_type": "execute_result"
    }
   ],
   "source": [
    "clf.best_params_"
   ]
  },
  {
   "cell_type": "code",
   "execution_count": 72,
   "metadata": {},
   "outputs": [
    {
     "data": {
      "image/png": "[encoded data removed]",
      "text/plain": [
       "<matplotlib.figure.Figure at 0x1a195099e8>"
      ]
     },
     "metadata": {},
     "output_type": "display_data"
    }
   ],
   "source": [
    "preds=clf.predict(features_test)\n",
    "cm=metrics.confusion_matrix(labels_test, preds)\n",
    "\n",
    "plot_confusion_matrix(cm, ['non-poi','poi'], normalize=False,figsize=(4,3))"
   ]
  },
  {
   "cell_type": "code",
   "execution_count": 73,
   "metadata": {},
   "outputs": [
    {
     "name": "stdout",
     "output_type": "stream",
     "text": [
      "Accuracy: 0.86667\tPrecision: 0.50000\n",
      "Recall: 0.15000\tF1: 0.23077\tF2: 0.17442\n",
      "\n",
      "Total predictions:  150\tTrue positives:    3\tFalse positives:    3\n",
      "False negatives:   17\tTrue negatives:  127\n",
      "\n"
     ]
    }
   ],
   "source": [
    "test_classifier(clf, my_dataset, features_list)"
   ]
  },
  {
   "cell_type": "code",
   "execution_count": 74,
   "metadata": {},
   "outputs": [],
   "source": [
    "dump_classifier_and_data(clf, my_dataset, features_list,\n",
    "                         ['random_forest.pkl','my_dataset.pkl',\n",
    "                          'my_feature_list.pkl'])"
   ]
  },
  {
   "cell_type": "markdown",
   "metadata": {},
   "source": [
    "#### AdaBoost"
   ]
  },
  {
   "cell_type": "code",
   "execution_count": 75,
   "metadata": {},
   "outputs": [],
   "source": [
    "params_grid={'n_estimators':[25,50,100,150,200,300]}"
   ]
  },
  {
   "cell_type": "code",
   "execution_count": 76,
   "metadata": {},
   "outputs": [],
   "source": [
    "clf = model_selection.GridSearchCV(ensemble.RandomForestClassifier(), \n",
    "                                   params_grid, return_train_score=True)"
   ]
  },
  {
   "cell_type": "code",
   "execution_count": 77,
   "metadata": {},
   "outputs": [
    {
     "data": {
      "text/plain": [
       "GridSearchCV(cv=None, error_score='raise',\n",
       "       estimator=RandomForestClassifier(bootstrap=True, class_weight=None, criterion='gini',\n",
       "            max_depth=None, max_features='auto', max_leaf_nodes=None,\n",
       "            min_impurity_decrease=0.0, min_impurity_split=None,\n",
       "            min_samples_leaf=1, min_samples_split=2,\n",
       "            min_weight_fraction_leaf=0.0, n_estimators=10, n_jobs=1,\n",
       "            oob_score=False, random_state=None, verbose=0,\n",
       "            warm_start=False),\n",
       "       fit_params=None, iid=True, n_jobs=1,\n",
       "       param_grid={'n_estimators': [25, 50, 100, 150, 200, 300]},\n",
       "       pre_dispatch='2*n_jobs', refit=True, return_train_score=True,\n",
       "       scoring=None, verbose=0)"
      ]
     },
     "execution_count": 77,
     "metadata": {},
     "output_type": "execute_result"
    }
   ],
   "source": [
    "clf.fit(features_train, labels_train)"
   ]
  },
  {
   "cell_type": "code",
   "execution_count": 78,
   "metadata": {},
   "outputs": [
    {
     "name": "stdout",
     "output_type": "stream",
     "text": [
      "Accuracy: 0.88667\tPrecision: 0.66667\n",
      "Recall: 0.30000\tF1: 0.41379\tF2: 0.33708\n",
      "\n",
      "Total predictions:  150\tTrue positives:    6\tFalse positives:    3\n",
      "False negatives:   14\tTrue negatives:  127\n",
      "\n"
     ]
    }
   ],
   "source": [
    "test_classifier(clf, my_dataset, features_list)"
   ]
  },
  {
   "cell_type": "code",
   "execution_count": 79,
   "metadata": {},
   "outputs": [],
   "source": [
    "dump_classifier_and_data(clf, my_dataset, features_list,\n",
    "                         ['ada_boost.pkl','my_dataset.pkl',\n",
    "                          'my_feature_list.pkl'])"
   ]
  },
  {
   "cell_type": "markdown",
   "metadata": {},
   "source": [
    "# Task 6\n",
    "Dump your classifier, dataset, and features_list so anyone can\n",
    "check your results. You do not need to change anything below, but make sure\n",
    "that the version of poi_id.py that you submit can be run on its own and\n",
    "generates the necessary .pkl files for validating your results."
   ]
  }
 ],
 "metadata": {
  "kernelspec": {
   "display_name": "Python 3",
   "language": "python",
   "name": "python3"
  },
  "language_info": {
   "codemirror_mode": {
    "name": "ipython",
    "version": 3
   },
   "file_extension": ".py",
   "mimetype": "text/x-python",
   "name": "python",
   "nbconvert_exporter": "python",
   "pygments_lexer": "ipython3",
   "version": "3.6.4"
  },
  "varInspector": {
   "cols": {
    "lenName": 16,
    "lenType": 16,
    "lenVar": 40
   },
   "kernels_config": {
    "python": {
     "delete_cmd_postfix": "",
     "delete_cmd_prefix": "del ",
     "library": "var_list.py",
     "varRefreshCmd": "print(var_dic_list())"
    },
    "r": {
     "delete_cmd_postfix": ") ",
     "delete_cmd_prefix": "rm(",
     "library": "var_list.r",
     "varRefreshCmd": "cat(var_dic_list()) "
    }
   },
   "types_to_exclude": [
    "module",
    "function",
    "builtin_function_or_method",
    "instance",
    "_Feature"
   ],
   "window_display": false
  }
 },
 "nbformat": 4,
 "nbformat_minor": 2
}
